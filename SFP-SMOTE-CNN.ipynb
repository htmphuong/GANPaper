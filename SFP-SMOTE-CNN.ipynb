{
 "cells": [
  {
   "cell_type": "code",
   "execution_count": 1,
   "metadata": {
    "executionInfo": {
     "elapsed": 6177,
     "status": "ok",
     "timestamp": 1678715178017,
     "user": {
      "displayName": "Hà Thị Minh Phương",
      "userId": "03221265603374510364"
     },
     "user_tz": 0
    },
    "id": "8VZem5rFafnQ"
   },
   "outputs": [],
   "source": [
    "import pandas as pd\n",
    "import numpy as np\n",
    "import os\n",
    "\n",
    "from sklearn.preprocessing import StandardScaler\n",
    "\n",
    "from tensorflow.keras.layers import Input, Dropout, Dense, Flatten, Conv2D, MaxPooling2D\n",
    "from tensorflow.keras.models import Model, Sequential\n",
    "\n",
    "from numpy import savetxt\n",
    "\n",
    "from sklearn.model_selection import StratifiedKFold, cross_val_score\n",
    "import matplotlib.pyplot as plt\n",
    "from collections import Counter\n",
    "from imblearn.over_sampling import SMOTE\n",
    "from imblearn.under_sampling import RandomUnderSampler\n",
    "from imblearn.pipeline import Pipeline\n",
    "from sklearn.feature_selection import chi2\n",
    "import tensorflow as tf\n",
    "from tensorflow.keras import regularizers"
   ]
  },
  {
   "cell_type": "code",
   "execution_count": 2,
   "metadata": {
    "colab": {
     "base_uri": "https://localhost:8080/"
    },
    "executionInfo": {
     "elapsed": 6781,
     "status": "ok",
     "timestamp": 1677837133964,
     "user": {
      "displayName": "Hà Thị Minh Phương",
      "userId": "03221265603374510364"
     },
     "user_tz": 0
    },
    "id": "5k6Yj3Lt4sV6",
    "outputId": "25f761b4-857e-4cf6-a627-215db1c07acf"
   },
   "outputs": [
    {
     "name": "stdout",
     "output_type": "stream",
     "text": [
      "Requirement already satisfied: scikit-learn in c:\\users\\dell\\anaconda3\\lib\\site-packages (1.2.2)\n",
      "Requirement already satisfied: numpy>=1.17.3 in c:\\users\\dell\\anaconda3\\lib\\site-packages (from scikit-learn) (1.20.3)\n",
      "Requirement already satisfied: joblib>=1.1.1 in c:\\users\\dell\\anaconda3\\lib\\site-packages (from scikit-learn) (1.2.0)\n",
      "Requirement already satisfied: threadpoolctl>=2.0.0 in c:\\users\\dell\\anaconda3\\lib\\site-packages (from scikit-learn) (2.2.0)\n",
      "Requirement already satisfied: scipy>=1.3.2 in c:\\users\\dell\\anaconda3\\lib\\site-packages (from scikit-learn) (1.7.1)\n",
      "Note: you may need to restart the kernel to use updated packages.\n"
     ]
    }
   ],
   "source": [
    "pip install --upgrade scikit-learn"
   ]
  },
  {
   "cell_type": "code",
   "execution_count": 3,
   "metadata": {
    "executionInfo": {
     "elapsed": 4145,
     "status": "ok",
     "timestamp": 1678715184577,
     "user": {
      "displayName": "Hà Thị Minh Phương",
      "userId": "03221265603374510364"
     },
     "user_tz": 0
    },
    "id": "71XmBE5ruV6M"
   },
   "outputs": [],
   "source": [
    "import pandas as pd\n",
    "import numpy as np\n",
    "from numpy import savetxt\n",
    "from scipy.io.arff import loadarff \n",
    "from sklearn import preprocessing\n",
    "import torch\n",
    "import seaborn as sns\n",
    "\n",
    "from matplotlib import pyplot as plt\n",
    "\n",
    "from sklearn.model_selection import train_test_split\n",
    "from sklearn.preprocessing import StandardScaler\n",
    "from sklearn.model_selection import StratifiedKFold, cross_val_score\n",
    "from sklearn.feature_selection import chi2, RFE\n",
    "\n",
    "# models\n",
    "from sklearn.linear_model import LogisticRegression, Ridge\n",
    "from sklearn.ensemble import RandomForestClassifier\n",
    "from sklearn.tree import DecisionTreeClassifier\n",
    "from sklearn.svm import SVC\n",
    "#from sklearn.ensemble import ExtraTreesClassifier, AdaBoostClassifier, StackingClassifier\n",
    "#import xgboost as xgb\n",
    "\n",
    "import tensorflow as tf\n",
    "from tensorflow.keras.layers import Input, Dropout, Dense, Flatten, Conv2D, MaxPooling2D, BatchNormalization, Conv1D, MaxPooling1D\n",
    "from tensorflow.keras.models import Model, Sequential\n",
    "from tensorflow.keras.optimizers import Adam\n",
    "\n",
    "from collections import Counter\n",
    "\n",
    "from imblearn.over_sampling import SMOTE\n",
    "from imblearn.under_sampling import RandomUnderSampler\n",
    "from imblearn.pipeline import Pipeline\n",
    "\n",
    "from imblearn.metrics import geometric_mean_score\n",
    "from sklearn.metrics import roc_auc_score, accuracy_score, f1_score, balanced_accuracy_score, average_precision_score, \\\n",
    "    mean_squared_error, r2_score, brier_score_loss\n",
    "from sklearn.utils import resample\n",
    "from scipy.stats import pearsonr\n",
    "#from sklearn.metrics import plot_confusion_matrix\n",
    "from sklearn.metrics import classification_report\n",
    "import json\n",
    "from sklearn.preprocessing import MinMaxScaler\n",
    "from tensorflow.keras import regularizers\n",
    "\n",
    "import random\n",
    "import string\n",
    "import datetime\n",
    "\n",
    "from typing import Tuple\n",
    "\n",
    "import logging\n",
    "import keras\n",
    "from tensorflow.keras import optimizers\n",
    "from tensorflow.keras.optimizers import schedules\n",
    "from tensorflow.keras import optimizers\n",
    "\n",
    "from tensorflow import keras"
   ]
  },
  {
   "cell_type": "code",
   "execution_count": 4,
   "metadata": {
    "colab": {
     "base_uri": "https://localhost:8080/",
     "height": 299
    },
    "executionInfo": {
     "elapsed": 580,
     "status": "ok",
     "timestamp": 1678715269611,
     "user": {
      "displayName": "Hà Thị Minh Phương",
      "userId": "03221265603374510364"
     },
     "user_tz": 0
    },
    "id": "6Isz4uSwak1X",
    "outputId": "9a177d77-08ec-467b-e492-4c65ee908248"
   },
   "outputs": [
    {
     "data": {
      "text/html": [
       "<div>\n",
       "<style scoped>\n",
       "    .dataframe tbody tr th:only-of-type {\n",
       "        vertical-align: middle;\n",
       "    }\n",
       "\n",
       "    .dataframe tbody tr th {\n",
       "        vertical-align: top;\n",
       "    }\n",
       "\n",
       "    .dataframe thead th {\n",
       "        text-align: right;\n",
       "    }\n",
       "</style>\n",
       "<table border=\"1\" class=\"dataframe\">\n",
       "  <thead>\n",
       "    <tr style=\"text-align: right;\">\n",
       "      <th></th>\n",
       "      <th>Unnamed: 0</th>\n",
       "      <th>loc</th>\n",
       "      <th>v(g)</th>\n",
       "      <th>ev(g)</th>\n",
       "      <th>iv(g)</th>\n",
       "      <th>n</th>\n",
       "      <th>v</th>\n",
       "      <th>l</th>\n",
       "      <th>d</th>\n",
       "      <th>i</th>\n",
       "      <th>...</th>\n",
       "      <th>IOCode</th>\n",
       "      <th>IOComment</th>\n",
       "      <th>IOBlank</th>\n",
       "      <th>locCodeAndComment</th>\n",
       "      <th>uniq_Op</th>\n",
       "      <th>uniq_Opnd</th>\n",
       "      <th>total_Op</th>\n",
       "      <th>total_Opnd</th>\n",
       "      <th>branchCount</th>\n",
       "      <th>defects</th>\n",
       "    </tr>\n",
       "  </thead>\n",
       "  <tbody>\n",
       "    <tr>\n",
       "      <th>0</th>\n",
       "      <td>0</td>\n",
       "      <td>56.0</td>\n",
       "      <td>18.2</td>\n",
       "      <td>1.1</td>\n",
       "      <td>1.5</td>\n",
       "      <td>282.6</td>\n",
       "      <td>887.70</td>\n",
       "      <td>0.10</td>\n",
       "      <td>7.49</td>\n",
       "      <td>114.25</td>\n",
       "      <td>...</td>\n",
       "      <td>1</td>\n",
       "      <td>5</td>\n",
       "      <td>10</td>\n",
       "      <td>0</td>\n",
       "      <td>11.7</td>\n",
       "      <td>14.8</td>\n",
       "      <td>17.4</td>\n",
       "      <td>12.4</td>\n",
       "      <td>23.4</td>\n",
       "      <td>False</td>\n",
       "    </tr>\n",
       "    <tr>\n",
       "      <th>1</th>\n",
       "      <td>1</td>\n",
       "      <td>39.7</td>\n",
       "      <td>1.6</td>\n",
       "      <td>7.6</td>\n",
       "      <td>1.0</td>\n",
       "      <td>252.4</td>\n",
       "      <td>622.68</td>\n",
       "      <td>0.36</td>\n",
       "      <td>12.69</td>\n",
       "      <td>14.26</td>\n",
       "      <td>...</td>\n",
       "      <td>2</td>\n",
       "      <td>1</td>\n",
       "      <td>6</td>\n",
       "      <td>0</td>\n",
       "      <td>2.7</td>\n",
       "      <td>1.7</td>\n",
       "      <td>123.3</td>\n",
       "      <td>0.0</td>\n",
       "      <td>73.2</td>\n",
       "      <td>False</td>\n",
       "    </tr>\n",
       "    <tr>\n",
       "      <th>2</th>\n",
       "      <td>2</td>\n",
       "      <td>53.3</td>\n",
       "      <td>7.2</td>\n",
       "      <td>9.9</td>\n",
       "      <td>1.0</td>\n",
       "      <td>56.9</td>\n",
       "      <td>471.91</td>\n",
       "      <td>0.14</td>\n",
       "      <td>7.65</td>\n",
       "      <td>57.50</td>\n",
       "      <td>...</td>\n",
       "      <td>8</td>\n",
       "      <td>6</td>\n",
       "      <td>4</td>\n",
       "      <td>0</td>\n",
       "      <td>13.8</td>\n",
       "      <td>159.8</td>\n",
       "      <td>43.6</td>\n",
       "      <td>15.5</td>\n",
       "      <td>7.0</td>\n",
       "      <td>False</td>\n",
       "    </tr>\n",
       "    <tr>\n",
       "      <th>3</th>\n",
       "      <td>3</td>\n",
       "      <td>56.5</td>\n",
       "      <td>6.2</td>\n",
       "      <td>1.0</td>\n",
       "      <td>1.0</td>\n",
       "      <td>146.6</td>\n",
       "      <td>2837.89</td>\n",
       "      <td>0.08</td>\n",
       "      <td>41.47</td>\n",
       "      <td>11.39</td>\n",
       "      <td>...</td>\n",
       "      <td>3</td>\n",
       "      <td>8</td>\n",
       "      <td>9</td>\n",
       "      <td>0</td>\n",
       "      <td>1.1</td>\n",
       "      <td>14.7</td>\n",
       "      <td>21.4</td>\n",
       "      <td>36.9</td>\n",
       "      <td>6.4</td>\n",
       "      <td>False</td>\n",
       "    </tr>\n",
       "    <tr>\n",
       "      <th>4</th>\n",
       "      <td>4</td>\n",
       "      <td>35.3</td>\n",
       "      <td>3.3</td>\n",
       "      <td>11.6</td>\n",
       "      <td>1.0</td>\n",
       "      <td>316.9</td>\n",
       "      <td>2606.45</td>\n",
       "      <td>0.08</td>\n",
       "      <td>12.52</td>\n",
       "      <td>42.34</td>\n",
       "      <td>...</td>\n",
       "      <td>3</td>\n",
       "      <td>2</td>\n",
       "      <td>1</td>\n",
       "      <td>0</td>\n",
       "      <td>1.0</td>\n",
       "      <td>10.8</td>\n",
       "      <td>17.3</td>\n",
       "      <td>51.8</td>\n",
       "      <td>13.0</td>\n",
       "      <td>False</td>\n",
       "    </tr>\n",
       "  </tbody>\n",
       "</table>\n",
       "<p>5 rows × 23 columns</p>\n",
       "</div>"
      ],
      "text/plain": [
       "   Unnamed: 0   loc  v(g)  ev(g)  iv(g)      n        v     l      d       i  \\\n",
       "0           0  56.0  18.2    1.1    1.5  282.6   887.70  0.10   7.49  114.25   \n",
       "1           1  39.7   1.6    7.6    1.0  252.4   622.68  0.36  12.69   14.26   \n",
       "2           2  53.3   7.2    9.9    1.0   56.9   471.91  0.14   7.65   57.50   \n",
       "3           3  56.5   6.2    1.0    1.0  146.6  2837.89  0.08  41.47   11.39   \n",
       "4           4  35.3   3.3   11.6    1.0  316.9  2606.45  0.08  12.52   42.34   \n",
       "\n",
       "   ...  IOCode  IOComment  IOBlank  locCodeAndComment  uniq_Op  uniq_Opnd  \\\n",
       "0  ...       1          5       10                  0     11.7       14.8   \n",
       "1  ...       2          1        6                  0      2.7        1.7   \n",
       "2  ...       8          6        4                  0     13.8      159.8   \n",
       "3  ...       3          8        9                  0      1.1       14.7   \n",
       "4  ...       3          2        1                  0      1.0       10.8   \n",
       "\n",
       "   total_Op  total_Opnd  branchCount  defects  \n",
       "0      17.4        12.4         23.4    False  \n",
       "1     123.3         0.0         73.2    False  \n",
       "2      43.6        15.5          7.0    False  \n",
       "3      21.4        36.9          6.4    False  \n",
       "4      17.3        51.8         13.0    False  \n",
       "\n",
       "[5 rows x 23 columns]"
      ]
     },
     "execution_count": 4,
     "metadata": {},
     "output_type": "execute_result"
    }
   ],
   "source": [
    "df_cm1 = pd.read_csv(\"./data/cm1/cm1-CTGAN.csv\")\n",
    "df_cm1.head()\n",
    "df=df_cm1\n",
    "df.head()"
   ]
  },
  {
   "cell_type": "code",
   "execution_count": 5,
   "metadata": {
    "colab": {
     "base_uri": "https://localhost:8080/"
    },
    "executionInfo": {
     "elapsed": 188,
     "status": "ok",
     "timestamp": 1678715272009,
     "user": {
      "displayName": "Hà Thị Minh Phương",
      "userId": "03221265603374510364"
     },
     "user_tz": 0
    },
    "id": "k-HQ1YC2akYY",
    "outputId": "f2092148-74ed-43ca-f9c3-8f84a230926c"
   },
   "outputs": [
    {
     "data": {
      "text/plain": [
       "(1000, 22)"
      ]
     },
     "execution_count": 5,
     "metadata": {},
     "output_type": "execute_result"
    }
   ],
   "source": [
    "df.shape\n",
    "X = df.iloc[:, :-1]\n",
    "X.head()\n",
    "X.shape\n"
   ]
  },
  {
   "cell_type": "code",
   "execution_count": 6,
   "metadata": {
    "colab": {
     "base_uri": "https://localhost:8080/"
    },
    "executionInfo": {
     "elapsed": 3,
     "status": "ok",
     "timestamp": 1678715272877,
     "user": {
      "displayName": "Hà Thị Minh Phương",
      "userId": "03221265603374510364"
     },
     "user_tz": 0
    },
    "id": "_1NchT7kcTBy",
    "outputId": "3827cf93-9edc-4bdc-97a3-5723f7aa9982"
   },
   "outputs": [
    {
     "data": {
      "text/plain": [
       "(1000,)"
      ]
     },
     "execution_count": 6,
     "metadata": {},
     "output_type": "execute_result"
    }
   ],
   "source": [
    "y = df.iloc[:, -1]\n",
    "y.shape"
   ]
  },
  {
   "cell_type": "code",
   "execution_count": 7,
   "metadata": {
    "colab": {
     "base_uri": "https://localhost:8080/"
    },
    "executionInfo": {
     "elapsed": 5,
     "status": "ok",
     "timestamp": 1678715274970,
     "user": {
      "displayName": "Hà Thị Minh Phương",
      "userId": "03221265603374510364"
     },
     "user_tz": 0
    },
    "id": "C3oOuK9tazUx",
    "outputId": "32ad0722-055b-4834-e786-b19667e2ee0f"
   },
   "outputs": [
    {
     "data": {
      "text/plain": [
       "False    916\n",
       "True      84\n",
       "Name: defects, dtype: int64"
      ]
     },
     "execution_count": 7,
     "metadata": {},
     "output_type": "execute_result"
    }
   ],
   "source": [
    "y.value_counts()"
   ]
  },
  {
   "cell_type": "code",
   "execution_count": 8,
   "metadata": {
    "colab": {
     "base_uri": "https://localhost:8080/",
     "height": 296
    },
    "executionInfo": {
     "elapsed": 111239,
     "status": "ok",
     "timestamp": 1678715386808,
     "user": {
      "displayName": "Hà Thị Minh Phương",
      "userId": "03221265603374510364"
     },
     "user_tz": 0
    },
    "id": "hJ9j-vZt9hRv",
    "outputId": "d8fc3858-372a-41dd-ccf6-a5b724e56ce1"
   },
   "outputs": [
    {
     "name": "stdout",
     "output_type": "stream",
     "text": [
      "Optimal number of features : 21\n"
     ]
    },
    {
     "data": {
      "image/png": "[encoded data removed]",
      "text/plain": [
       "<Figure size 432x288 with 1 Axes>"
      ]
     },
     "metadata": {
      "needs_background": "light"
     },
     "output_type": "display_data"
    }
   ],
   "source": [
    "from sklearn.feature_selection import RFECV\n",
    "from sklearn.svm import SVC\n",
    "svc = SVC(kernel=\"linear\")\n",
    "min_features_to_select = 1  # Minimum number of features to consider\n",
    "rfecv = RFECV(\n",
    "    estimator=RandomForestClassifier(random_state=0),\n",
    "    step=1,\n",
    "    scoring=\"accuracy\",\n",
    "    min_features_to_select=min_features_to_select,\n",
    ")\n",
    "rfecv.fit(X, y)\n",
    "\n",
    "print(\"Optimal number of features : %d\" % rfecv.n_features_)\n",
    "\n",
    "# Plot number of features VS. cross-validation scores\n",
    "plt.figure()\n",
    "plt.xlabel(\"Number of features selected\")\n",
    "plt.ylabel(\"Cross validation score (accuracy)\")\n",
    "plt.plot(\n",
    "    #range(min_features_to_select, len(rfecv.grid_scores_) + min_features_to_select),\n",
    "   # rfecv.grid_scores_,\n",
    ")\n",
    "plt.show()"
   ]
  },
  {
   "cell_type": "code",
   "execution_count": 101,
   "metadata": {
    "executionInfo": {
     "elapsed": 354,
     "status": "ok",
     "timestamp": 1678715395116,
     "user": {
      "displayName": "Hà Thị Minh Phương",
      "userId": "03221265603374510364"
     },
     "user_tz": 0
    },
    "id": "DrD35U4b9hXq"
   },
   "outputs": [],
   "source": [
    "rfecv.n_features_ = 16"
   ]
  },
  {
   "cell_type": "code",
   "execution_count": 102,
   "metadata": {
    "colab": {
     "base_uri": "https://localhost:8080/"
    },
    "executionInfo": {
     "elapsed": 8991,
     "status": "ok",
     "timestamp": 1678715405806,
     "user": {
      "displayName": "Hà Thị Minh Phương",
      "userId": "03221265603374510364"
     },
     "user_tz": 0
    },
    "id": "UgFiiRcF9lFU",
    "outputId": "62a4d717-a7ad-4b53-e875-691d74eb5c0a"
   },
   "outputs": [
    {
     "data": {
      "text/plain": [
       "(array([1, 1, 2, 1, 1, 1, 5, 1, 1, 1, 4, 1, 1, 3, 1, 6, 1, 1, 1, 1, 1]),\n",
       " array([ True,  True, False,  True,  True,  True, False,  True,  True,\n",
       "         True, False,  True,  True, False,  True, False,  True,  True,\n",
       "         True,  True,  True]))"
      ]
     },
     "execution_count": 102,
     "metadata": {},
     "output_type": "execute_result"
    }
   ],
   "source": [
    "selector = RFE(estimator = RandomForestClassifier(random_state=0), n_features_to_select=rfecv.n_features_, step=1)\n",
    "selector = selector.fit(X, y)\n",
    "selector.ranking_, selector.support_"
   ]
  },
  {
   "cell_type": "code",
   "execution_count": 103,
   "metadata": {
    "colab": {
     "base_uri": "https://localhost:8080/"
    },
    "executionInfo": {
     "elapsed": 6,
     "status": "ok",
     "timestamp": 1678715405806,
     "user": {
      "displayName": "Hà Thị Minh Phương",
      "userId": "03221265603374510364"
     },
     "user_tz": 0
    },
    "id": "_IgxCElv9lHd",
    "outputId": "c8bd2f25-d418-49c9-b9f2-0cbf30e754be"
   },
   "outputs": [
    {
     "data": {
      "text/plain": [
       "[2, 6, 10, 13, 15]"
      ]
     },
     "execution_count": 103,
     "metadata": {},
     "output_type": "execute_result"
    }
   ],
   "source": [
    "[i for i, x in enumerate(selector.support_) if not x]"
   ]
  },
  {
   "cell_type": "code",
   "execution_count": 104,
   "metadata": {
    "executionInfo": {
     "elapsed": 4,
     "status": "ok",
     "timestamp": 1678715405807,
     "user": {
      "displayName": "Hà Thị Minh Phương",
      "userId": "03221265603374510364"
     },
     "user_tz": 0
    },
    "id": "sYEspZPB9n1K"
   },
   "outputs": [],
   "source": [
    "X = X.drop(X.columns[[i for i, x in enumerate(selector.support_) if not x]], axis=1)"
   ]
  },
  {
   "cell_type": "code",
   "execution_count": 105,
   "metadata": {
    "executionInfo": {
     "elapsed": 388,
     "status": "ok",
     "timestamp": 1678715472271,
     "user": {
      "displayName": "Hà Thị Minh Phương",
      "userId": "03221265603374510364"
     },
     "user_tz": 0
    },
    "id": "HEbBJyyS9nv5"
   },
   "outputs": [],
   "source": [
    "scaler = StandardScaler()"
   ]
  },
  {
   "cell_type": "code",
   "execution_count": 106,
   "metadata": {
    "executionInfo": {
     "elapsed": 1,
     "status": "ok",
     "timestamp": 1678715473349,
     "user": {
      "displayName": "Hà Thị Minh Phương",
      "userId": "03221265603374510364"
     },
     "user_tz": 0
    },
    "id": "vdEGI0UcazSU"
   },
   "outputs": [],
   "source": [
    "X = np.asarray(X)"
   ]
  },
  {
   "cell_type": "code",
   "execution_count": 107,
   "metadata": {
    "colab": {
     "base_uri": "https://localhost:8080/"
    },
    "executionInfo": {
     "elapsed": 204,
     "status": "ok",
     "timestamp": 1678715474799,
     "user": {
      "displayName": "Hà Thị Minh Phương",
      "userId": "03221265603374510364"
     },
     "user_tz": 0
    },
    "id": "baMG2QfYazPy",
    "outputId": "a7e529e6-d864-498d-9a27-0a24906a8e61"
   },
   "outputs": [
    {
     "data": {
      "text/plain": [
       "array([[-5.34169746e-01, -3.79971989e-01, -2.85297268e-01, ...,\n",
       "        -4.41634013e-01, -4.50326207e-01, -4.37779376e-01],\n",
       "       [-5.35475142e-01, -4.10690827e-01, -3.29165274e-01, ...,\n",
       "        -4.42954086e-01, -4.52319286e-01, -4.55481171e-01],\n",
       "       [ 3.91355850e-01,  5.00917534e-02,  2.19184797e-01, ...,\n",
       "         2.89685946e-01,  3.94739443e-01,  7.55726713e-02],\n",
       "       ...,\n",
       "       [-2.62878871e-04, -1.80299537e-01, -2.19495260e-01, ...,\n",
       "        -6.01331681e-02, -2.38072231e-02, -1.89954250e-01],\n",
       "       [-4.17989523e-01, -4.10690827e-01, -3.29165274e-01, ...,\n",
       "        -3.10946873e-01, -3.12803731e-01, -4.55481171e-01],\n",
       "       [-3.00503904e-01, -2.57096634e-01, -3.29165274e-01, ...,\n",
       "        -2.44943266e-01, -1.93218969e-01, -2.78463223e-01]])"
      ]
     },
     "execution_count": 107,
     "metadata": {},
     "output_type": "execute_result"
    }
   ],
   "source": [
    "scaler = StandardScaler()\n",
    "X = scaler.fit_transform(X)\n",
    "X"
   ]
  },
  {
   "cell_type": "code",
   "execution_count": 108,
   "metadata": {
    "colab": {
     "base_uri": "https://localhost:8080/"
    },
    "executionInfo": {
     "elapsed": 770,
     "status": "ok",
     "timestamp": 1678715476471,
     "user": {
      "displayName": "Hà Thị Minh Phương",
      "userId": "03221265603374510364"
     },
     "user_tz": 0
    },
    "id": "vjirruQRazNY",
    "outputId": "b7d37bbd-35bc-41e6-c6a5-5585de7fc298"
   },
   "outputs": [
    {
     "data": {
      "text/plain": [
       "(10880, 16)"
      ]
     },
     "execution_count": 108,
     "metadata": {},
     "output_type": "execute_result"
    }
   ],
   "source": [
    "X.shape"
   ]
  },
  {
   "cell_type": "markdown",
   "metadata": {
    "id": "iJk6hPPxbABW"
   },
   "source": [
    "SMOTE"
   ]
  },
  {
   "cell_type": "code",
   "execution_count": 109,
   "metadata": {
    "id": "c4-V0U55azKb"
   },
   "outputs": [
    {
     "name": "stdout",
     "output_type": "stream",
     "text": [
      "Counter({0: 8777, 1: 2103})\n"
     ]
    },
    {
     "data": {
      "image/png": "[encoded data removed]",
      "text/plain": [
       "<Figure size 432x288 with 1 Axes>"
      ]
     },
     "metadata": {
      "needs_background": "light"
     },
     "output_type": "display_data"
    }
   ],
   "source": [
    "# summarize class distribution\n",
    "counter = Counter(y)\n",
    "print(counter)\n",
    "# scatter plot of examples by class label\n",
    "for label, _ in counter.items():\n",
    "    row_ix = np.where(y == label)[0]\n",
    "    plt.scatter(X[row_ix, 0], X[row_ix, 1], label=str(label))\n",
    "plt.legend()\n",
    "plt.show()"
   ]
  },
  {
   "cell_type": "code",
   "execution_count": 110,
   "metadata": {
    "id": "a3kfQm1xazHi"
   },
   "outputs": [
    {
     "name": "stdout",
     "output_type": "stream",
     "text": [
      "Counter({0: 8777, 1: 8777})\n"
     ]
    },
    {
     "data": {
      "image/png": "[encoded data removed]",
      "text/plain": [
       "<Figure size 432x288 with 1 Axes>"
      ]
     },
     "metadata": {
      "needs_background": "light"
     },
     "output_type": "display_data"
    }
   ],
   "source": [
    "over = SMOTE(random_state=42)\n",
    "# transform the dataset\n",
    "X, y = over.fit_resample(X, y)\n",
    "counter = Counter(y)\n",
    "print(counter)\n",
    "\n",
    "for label, _ in counter.items():\n",
    "    row_ix = np.where(y == label)[0]\n",
    "    plt.scatter(X[row_ix, 0], X[row_ix, 1], label=str(label))\n",
    "plt.legend()\n",
    "plt.show()"
   ]
  },
  {
   "cell_type": "markdown",
   "metadata": {
    "id": "BBM_AKvJ9nTN"
   },
   "source": [
    "ADASYS"
   ]
  },
  {
   "cell_type": "code",
   "execution_count": 87,
   "metadata": {
    "id": "PfJUrV2Z9mWC"
   },
   "outputs": [
    {
     "name": "stdout",
     "output_type": "stream",
     "text": [
      "Counter({1: 8877, 0: 8777})\n"
     ]
    },
    {
     "data": {
      "image/png": "[encoded data removed]",
      "text/plain": [
       "<Figure size 432x288 with 1 Axes>"
      ]
     },
     "metadata": {
      "needs_background": "light"
     },
     "output_type": "display_data"
    }
   ],
   "source": [
    "from imblearn.over_sampling import ADASYN \n",
    "over = ADASYN()\n",
    "# transform the dataset\n",
    "X, y = over.fit_resample(X, y)\n",
    "counter = Counter(y)\n",
    "print(counter)\n",
    "\n",
    "for label, _ in counter.items():\n",
    "    row_ix = np.where(y == label)[0]\n",
    "    plt.scatter(X[row_ix, 0], X[row_ix, 1], label=str(label))\n",
    "plt.legend()\n",
    "plt.show()"
   ]
  },
  {
   "cell_type": "code",
   "execution_count": 111,
   "metadata": {
    "colab": {
     "base_uri": "https://localhost:8080/"
    },
    "executionInfo": {
     "elapsed": 215,
     "status": "ok",
     "timestamp": 1678715489262,
     "user": {
      "displayName": "Hà Thị Minh Phương",
      "userId": "03221265603374510364"
     },
     "user_tz": 0
    },
    "id": "TNVQ1pt5bFEZ",
    "outputId": "16e40660-7aad-4520-ca16-2e1cd3bad55c"
   },
   "outputs": [
    {
     "data": {
      "text/plain": [
       "((17554, 16), (17554,))"
      ]
     },
     "execution_count": 111,
     "metadata": {},
     "output_type": "execute_result"
    }
   ],
   "source": [
    "X.shape, y.shape"
   ]
  },
  {
   "cell_type": "code",
   "execution_count": 112,
   "metadata": {
    "executionInfo": {
     "elapsed": 2,
     "status": "ok",
     "timestamp": 1678715490614,
     "user": {
      "displayName": "Hà Thị Minh Phương",
      "userId": "03221265603374510364"
     },
     "user_tz": 0
    },
    "id": "nnl4ptQKbFBu"
   },
   "outputs": [],
   "source": [
    "skf = StratifiedKFold(n_splits=10, random_state=42, shuffle=True)"
   ]
  },
  {
   "cell_type": "code",
   "execution_count": null,
   "metadata": {
    "id": "KUSwfFVibE_G"
   },
   "outputs": [],
   "source": [
    "fold_no = 1\n",
    "acc_per_fold = []\n",
    "loss_per_fold = []\n",
    "\n",
    "acc_train_his = []\n",
    "acc_val_his = []\n",
    "\n",
    "loss_train_his = []\n",
    "loss_val_his = []\n",
    "\n",
    "for train, test in skf.split(X, y):      \n",
    "    model = Sequential()    \n",
    "    initializer = tf.initializers.he_normal()\n",
    "    weight_decay = 1e-5\n",
    "    model.add(Conv1D(32, 1, activation='relu',kernel_initializer=initializer,kernel_regularizer = regularizers.l1_l2(weight_decay,weight_decay),input_shape=(21, 1)))\n",
    "   # model.add(Conv1D(32, 1, activation='relu',input_shape=(21, 1)))\n",
    "    #model.add(BatchNormalization())\n",
    "    model.add(Dropout(.5))\n",
    "    model.add(Conv1D(64, 3,kernel_initializer=initializer,kernel_regularizer = regularizers.l1_l2(weight_decay,weight_decay), activation='relu', padding='same'))   \n",
    "    model.add(MaxPooling1D(pool_size = 2, padding='same'))  \n",
    "    model.add(BatchNormalization())\n",
    "    model.add(Dropout(.5))\n",
    "    model.add(Conv1D(128, 3, activation='relu',kernel_initializer=initializer,kernel_regularizer = regularizers.l1_l2(weight_decay,weight_decay), padding='same'))  \n",
    "    model.add(MaxPooling1D(pool_size = 2, padding='same'))   \n",
    "   # model.add(BatchNormalization())\n",
    "    model.add(Dropout(.5))\n",
    "    model.add(Conv1D(64, 3, activation='relu',kernel_initializer=initializer,kernel_regularizer = regularizers.l1_l2(weight_decay,weight_decay), padding='same'))   \n",
    "    #model.add(Conv2D(64, (3, 3), activation='relu', padding='same'))\n",
    " #   model.add(MaxPooling1D(pool_size = 2, padding='same'))\n",
    " #   model.add(BatchNormalization())    \n",
    "   # model.add(Conv1D(32, 3, activation='relu',input_shape=(21, 1)))\n",
    "   # model.add(Conv2D(32, (3, 3), activation='relu', padding='same'))\n",
    "   # model.add(MaxPooling1D(pool_size = 2, padding='same'))\n",
    "    model.add(BatchNormalization())\n",
    "    model.add(Dropout(.5))\n",
    "    model.add(Flatten())\n",
    "    model.add(Dense(64, activation='relu'))\n",
    "    model.add(Dense(32, activation='relu'))\n",
    "    model.add(Dropout(.5))\n",
    "    model.add(Dense(1, activation='sigmoid'))\n",
    "    \n",
    "    \n",
    "    model.compile(loss='binary_crossentropy', optimizer='adam', metrics=['accuracy'])\n",
    "    \n",
    "    print('------------------------------------------------------------------------')\n",
    "    print(f'Training for fold {fold_no} ...')\n",
    "    \n",
    "    history = model.fit(X[train], y[train], batch_size = 32, epochs = 200, validation_data=(X[test], y[test]), verbose = 2)\n",
    "    \n",
    "    # Generate generalization metrics\n",
    "    scores = model.evaluate(X[test], y[test], verbose = 1)\n",
    "    print(f'Score for fold {fold_no}: {model.metrics_names[0]} of {scores[0]}; {model.metrics_names[1]} of {scores[1]*100}%')\n",
    "    acc_per_fold.append(scores[1] * 100)\n",
    "    loss_per_fold.append(scores[0])\n",
    "\n",
    "    acc_train_his.append(history.history['accuracy'])\n",
    "    acc_val_his.append(history.history['val_accuracy'])\n",
    "    \n",
    "    loss_train_his.append(history.history['loss'])\n",
    "    loss_val_his.append(history.history['val_loss'])\n",
    "    \n",
    "    fold_no = fold_no + 1"
   ]
  },
  {
   "cell_type": "code",
   "execution_count": 116,
   "metadata": {
    "colab": {
     "base_uri": "https://localhost:8080/"
    },
    "executionInfo": {
     "elapsed": 1343101,
     "status": "ok",
     "timestamp": 1678720276318,
     "user": {
      "displayName": "Hà Thị Minh Phương",
      "userId": "03221265603374510364"
     },
     "user_tz": 0
    },
    "id": "8y07PMt3uNo-",
    "outputId": "79f25409-7637-4985-b8e9-4e03bd63724b"
   },
   "outputs": [
    {
     "name": "stdout",
     "output_type": "stream",
     "text": [
      "------------------------------------------------------------------------\n",
      "Training for fold 1 ...\n",
      "Epoch 1/40\n",
      "1054/1054 - 7s - loss: 0.6593 - precision: 0.6272 - val_loss: 0.6214 - val_precision: 0.6667 - 7s/epoch - 6ms/step\n",
      "Epoch 2/40\n",
      "1054/1054 - 5s - loss: 0.6449 - precision: 0.6644 - val_loss: 0.6178 - val_precision: 0.6514 - 5s/epoch - 4ms/step\n",
      "Epoch 3/40\n",
      "1054/1054 - 4s - loss: 0.6392 - precision: 0.6600 - val_loss: 0.6208 - val_precision: 0.6674 - 4s/epoch - 4ms/step\n",
      "Epoch 4/40\n",
      "1054/1054 - 4s - loss: 0.6355 - precision: 0.6665 - val_loss: 0.6172 - val_precision: 0.6876 - 4s/epoch - 4ms/step\n",
      "Epoch 5/40\n",
      "1054/1054 - 4s - loss: 0.6372 - precision: 0.6496 - val_loss: 0.6068 - val_precision: 0.6758 - 4s/epoch - 4ms/step\n",
      "Epoch 6/40\n",
      "1054/1054 - 5s - loss: 0.6300 - precision: 0.6704 - val_loss: 0.6078 - val_precision: 0.7009 - 5s/epoch - 4ms/step\n",
      "Epoch 7/40\n",
      "1054/1054 - 4s - loss: 0.6324 - precision: 0.6729 - val_loss: 0.6039 - val_precision: 0.7027 - 4s/epoch - 4ms/step\n",
      "Epoch 8/40\n",
      "1054/1054 - 4s - loss: 0.6208 - precision: 0.6627 - val_loss: 0.6015 - val_precision: 0.6760 - 4s/epoch - 4ms/step\n",
      "Epoch 9/40\n",
      "1054/1054 - 4s - loss: 0.6247 - precision: 0.6597 - val_loss: 0.6028 - val_precision: 0.6707 - 4s/epoch - 4ms/step\n",
      "Epoch 10/40\n",
      "1054/1054 - 4s - loss: 0.6213 - precision: 0.6596 - val_loss: 0.6054 - val_precision: 0.6994 - 4s/epoch - 4ms/step\n",
      "Epoch 11/40\n",
      "1054/1054 - 5s - loss: 0.6200 - precision: 0.6600 - val_loss: 0.6030 - val_precision: 0.6733 - 5s/epoch - 4ms/step\n",
      "Epoch 12/40\n",
      "1054/1054 - 5s - loss: 0.6157 - precision: 0.6587 - val_loss: 0.5933 - val_precision: 0.6711 - 5s/epoch - 4ms/step\n",
      "Epoch 13/40\n",
      "1054/1054 - 5s - loss: 0.6121 - precision: 0.6591 - val_loss: 0.5934 - val_precision: 0.6580 - 5s/epoch - 4ms/step\n",
      "Epoch 14/40\n",
      "1054/1054 - 5s - loss: 0.6125 - precision: 0.6692 - val_loss: 0.5957 - val_precision: 0.6853 - 5s/epoch - 4ms/step\n",
      "Epoch 15/40\n",
      "1054/1054 - 5s - loss: 0.6143 - precision: 0.6785 - val_loss: 0.5908 - val_precision: 0.6860 - 5s/epoch - 5ms/step\n",
      "Epoch 16/40\n",
      "1054/1054 - 5s - loss: 0.6080 - precision: 0.6787 - val_loss: 0.5877 - val_precision: 0.6931 - 5s/epoch - 4ms/step\n",
      "Epoch 17/40\n",
      "1054/1054 - 5s - loss: 0.6079 - precision: 0.6724 - val_loss: 0.5873 - val_precision: 0.6677 - 5s/epoch - 4ms/step\n",
      "Epoch 18/40\n",
      "1054/1054 - 5s - loss: 0.6026 - precision: 0.6851 - val_loss: 0.5869 - val_precision: 0.6698 - 5s/epoch - 4ms/step\n",
      "Epoch 19/40\n",
      "1054/1054 - 5s - loss: 0.6012 - precision: 0.6796 - val_loss: 0.5892 - val_precision: 0.6771 - 5s/epoch - 4ms/step\n",
      "Epoch 20/40\n",
      "1054/1054 - 5s - loss: 0.6027 - precision: 0.6909 - val_loss: 0.5894 - val_precision: 0.6724 - 5s/epoch - 4ms/step\n",
      "Epoch 21/40\n",
      "1054/1054 - 5s - loss: 0.5993 - precision: 0.6854 - val_loss: 0.5892 - val_precision: 0.6663 - 5s/epoch - 4ms/step\n",
      "Epoch 22/40\n",
      "1054/1054 - 5s - loss: 0.5958 - precision: 0.6878 - val_loss: 0.5793 - val_precision: 0.6827 - 5s/epoch - 4ms/step\n",
      "Epoch 23/40\n",
      "1054/1054 - 5s - loss: 0.5945 - precision: 0.6865 - val_loss: 0.5829 - val_precision: 0.6756 - 5s/epoch - 4ms/step\n",
      "Epoch 24/40\n",
      "1054/1054 - 5s - loss: 0.5924 - precision: 0.6923 - val_loss: 0.5834 - val_precision: 0.6840 - 5s/epoch - 4ms/step\n",
      "Epoch 25/40\n",
      "1054/1054 - 5s - loss: 0.5943 - precision: 0.6938 - val_loss: 0.5832 - val_precision: 0.6855 - 5s/epoch - 4ms/step\n",
      "Epoch 26/40\n",
      "1054/1054 - 5s - loss: 0.5884 - precision: 0.6932 - val_loss: 0.5773 - val_precision: 0.6884 - 5s/epoch - 5ms/step\n",
      "Epoch 27/40\n",
      "1054/1054 - 5s - loss: 0.5901 - precision: 0.6869 - val_loss: 0.5770 - val_precision: 0.6857 - 5s/epoch - 4ms/step\n",
      "Epoch 28/40\n",
      "1054/1054 - 5s - loss: 0.5876 - precision: 0.6866 - val_loss: 0.5918 - val_precision: 0.7121 - 5s/epoch - 4ms/step\n",
      "Epoch 29/40\n",
      "1054/1054 - 5s - loss: 0.5877 - precision: 0.6937 - val_loss: 0.5719 - val_precision: 0.6965 - 5s/epoch - 4ms/step\n",
      "Epoch 30/40\n",
      "1054/1054 - 5s - loss: 0.5832 - precision: 0.6985 - val_loss: 0.5729 - val_precision: 0.6903 - 5s/epoch - 4ms/step\n",
      "Epoch 31/40\n",
      "1054/1054 - 5s - loss: 0.5828 - precision: 0.6991 - val_loss: 0.5720 - val_precision: 0.7026 - 5s/epoch - 4ms/step\n",
      "Epoch 32/40\n",
      "1054/1054 - 5s - loss: 0.5797 - precision: 0.7030 - val_loss: 0.5780 - val_precision: 0.6946 - 5s/epoch - 4ms/step\n",
      "Epoch 33/40\n",
      "1054/1054 - 5s - loss: 0.5815 - precision: 0.7037 - val_loss: 0.5749 - val_precision: 0.7026 - 5s/epoch - 4ms/step\n",
      "Epoch 34/40\n",
      "1054/1054 - 5s - loss: 0.5793 - precision: 0.7084 - val_loss: 0.5731 - val_precision: 0.6930 - 5s/epoch - 5ms/step\n",
      "Epoch 35/40\n",
      "1054/1054 - 5s - loss: 0.5756 - precision: 0.7084 - val_loss: 0.5644 - val_precision: 0.6942 - 5s/epoch - 4ms/step\n",
      "Epoch 36/40\n",
      "1054/1054 - 5s - loss: 0.5728 - precision: 0.7086 - val_loss: 0.5652 - val_precision: 0.7104 - 5s/epoch - 4ms/step\n",
      "Epoch 37/40\n",
      "1054/1054 - 5s - loss: 0.5742 - precision: 0.7085 - val_loss: 0.5636 - val_precision: 0.6981 - 5s/epoch - 4ms/step\n",
      "Epoch 38/40\n",
      "1054/1054 - 5s - loss: 0.5733 - precision: 0.7063 - val_loss: 0.5610 - val_precision: 0.7001 - 5s/epoch - 4ms/step\n",
      "Epoch 39/40\n",
      "1054/1054 - 5s - loss: 0.5697 - precision: 0.7112 - val_loss: 0.5629 - val_precision: 0.7065 - 5s/epoch - 5ms/step\n",
      "Epoch 40/40\n",
      "1054/1054 - 5s - loss: 0.5668 - precision: 0.7121 - val_loss: 0.5538 - val_precision: 0.6966 - 5s/epoch - 5ms/step\n",
      "55/55 [==============================] - 0s 3ms/step - loss: 0.5538 - precision: 0.6966\n",
      "Score for fold 1: loss of 0.5537999272346497; precision of 69.65944170951843%\n",
      "------------------------------------------------------------------------\n",
      "Training for fold 2 ...\n",
      "Epoch 1/40\n",
      "1054/1054 - 6s - loss: 0.6627 - precision_1: 0.6214 - val_loss: 0.6359 - val_precision_1: 0.6599 - 6s/epoch - 6ms/step\n",
      "Epoch 2/40\n",
      "1054/1054 - 5s - loss: 0.6449 - precision_1: 0.6537 - val_loss: 0.6082 - val_precision_1: 0.6899 - 5s/epoch - 4ms/step\n",
      "Epoch 3/40\n",
      "1054/1054 - 4s - loss: 0.6375 - precision_1: 0.6587 - val_loss: 0.5928 - val_precision_1: 0.7189 - 4s/epoch - 4ms/step\n",
      "Epoch 4/40\n",
      "1054/1054 - 5s - loss: 0.6303 - precision_1: 0.6607 - val_loss: 0.6036 - val_precision_1: 0.6899 - 5s/epoch - 4ms/step\n",
      "Epoch 5/40\n",
      "1054/1054 - 5s - loss: 0.6278 - precision_1: 0.6657 - val_loss: 0.6005 - val_precision_1: 0.7011 - 5s/epoch - 4ms/step\n",
      "Epoch 6/40\n",
      "1054/1054 - 5s - loss: 0.6276 - precision_1: 0.6619 - val_loss: 0.6042 - val_precision_1: 0.7092 - 5s/epoch - 4ms/step\n",
      "Epoch 7/40\n",
      "1054/1054 - 5s - loss: 0.6217 - precision_1: 0.6666 - val_loss: 0.6012 - val_precision_1: 0.7181 - 5s/epoch - 4ms/step\n",
      "Epoch 8/40\n",
      "1054/1054 - 5s - loss: 0.6225 - precision_1: 0.6635 - val_loss: 0.5971 - val_precision_1: 0.6954 - 5s/epoch - 4ms/step\n",
      "Epoch 9/40\n",
      "1054/1054 - 5s - loss: 0.6179 - precision_1: 0.6662 - val_loss: 0.5908 - val_precision_1: 0.6960 - 5s/epoch - 4ms/step\n",
      "Epoch 10/40\n",
      "1054/1054 - 5s - loss: 0.6187 - precision_1: 0.6665 - val_loss: 0.5918 - val_precision_1: 0.6883 - 5s/epoch - 4ms/step\n",
      "Epoch 11/40\n",
      "1054/1054 - 5s - loss: 0.6148 - precision_1: 0.6604 - val_loss: 0.5863 - val_precision_1: 0.6990 - 5s/epoch - 4ms/step\n",
      "Epoch 12/40\n",
      "1054/1054 - 5s - loss: 0.6138 - precision_1: 0.6696 - val_loss: 0.5986 - val_precision_1: 0.7172 - 5s/epoch - 4ms/step\n",
      "Epoch 13/40\n",
      "1054/1054 - 5s - loss: 0.6131 - precision_1: 0.6653 - val_loss: 0.5863 - val_precision_1: 0.7013 - 5s/epoch - 5ms/step\n",
      "Epoch 14/40\n",
      "1054/1054 - 5s - loss: 0.6102 - precision_1: 0.6755 - val_loss: 0.5843 - val_precision_1: 0.6948 - 5s/epoch - 5ms/step\n",
      "Epoch 15/40\n",
      "1054/1054 - 5s - loss: 0.6079 - precision_1: 0.6739 - val_loss: 0.5858 - val_precision_1: 0.6644 - 5s/epoch - 5ms/step\n",
      "Epoch 16/40\n",
      "1054/1054 - 5s - loss: 0.6067 - precision_1: 0.6684 - val_loss: 0.5824 - val_precision_1: 0.6951 - 5s/epoch - 4ms/step\n",
      "Epoch 17/40\n",
      "1054/1054 - 5s - loss: 0.6052 - precision_1: 0.6743 - val_loss: 0.5776 - val_precision_1: 0.6860 - 5s/epoch - 5ms/step\n",
      "Epoch 18/40\n",
      "1054/1054 - 5s - loss: 0.6040 - precision_1: 0.6707 - val_loss: 0.5853 - val_precision_1: 0.6590 - 5s/epoch - 5ms/step\n",
      "Epoch 19/40\n",
      "1054/1054 - 5s - loss: 0.6045 - precision_1: 0.6719 - val_loss: 0.5712 - val_precision_1: 0.7029 - 5s/epoch - 4ms/step\n",
      "Epoch 20/40\n",
      "1054/1054 - 5s - loss: 0.6024 - precision_1: 0.6704 - val_loss: 0.5866 - val_precision_1: 0.6784 - 5s/epoch - 4ms/step\n",
      "Epoch 21/40\n",
      "1054/1054 - 5s - loss: 0.5994 - precision_1: 0.6769 - val_loss: 0.5742 - val_precision_1: 0.6930 - 5s/epoch - 4ms/step\n",
      "Epoch 22/40\n",
      "1054/1054 - 5s - loss: 0.5998 - precision_1: 0.6792 - val_loss: 0.5728 - val_precision_1: 0.6867 - 5s/epoch - 4ms/step\n"
     ]
    },
    {
     "name": "stdout",
     "output_type": "stream",
     "text": [
      "Epoch 23/40\n",
      "1054/1054 - 5s - loss: 0.6004 - precision_1: 0.6671 - val_loss: 0.5712 - val_precision_1: 0.6991 - 5s/epoch - 4ms/step\n",
      "Epoch 24/40\n",
      "1054/1054 - 5s - loss: 0.5972 - precision_1: 0.6785 - val_loss: 0.5709 - val_precision_1: 0.6959 - 5s/epoch - 4ms/step\n",
      "Epoch 25/40\n",
      "1054/1054 - 5s - loss: 0.5979 - precision_1: 0.6831 - val_loss: 0.5721 - val_precision_1: 0.7069 - 5s/epoch - 5ms/step\n",
      "Epoch 26/40\n",
      "1054/1054 - 5s - loss: 0.5957 - precision_1: 0.6853 - val_loss: 0.5870 - val_precision_1: 0.6869 - 5s/epoch - 4ms/step\n",
      "Epoch 27/40\n",
      "1054/1054 - 5s - loss: 0.5920 - precision_1: 0.6805 - val_loss: 0.5600 - val_precision_1: 0.7046 - 5s/epoch - 5ms/step\n",
      "Epoch 28/40\n",
      "1054/1054 - 5s - loss: 0.5950 - precision_1: 0.6863 - val_loss: 0.5643 - val_precision_1: 0.7002 - 5s/epoch - 4ms/step\n",
      "Epoch 29/40\n",
      "1054/1054 - 5s - loss: 0.5937 - precision_1: 0.6818 - val_loss: 0.5649 - val_precision_1: 0.7045 - 5s/epoch - 4ms/step\n",
      "Epoch 30/40\n",
      "1054/1054 - 5s - loss: 0.5900 - precision_1: 0.6844 - val_loss: 0.5659 - val_precision_1: 0.7127 - 5s/epoch - 4ms/step\n",
      "Epoch 31/40\n",
      "1054/1054 - 5s - loss: 0.5895 - precision_1: 0.6891 - val_loss: 0.5656 - val_precision_1: 0.6990 - 5s/epoch - 4ms/step\n",
      "Epoch 32/40\n",
      "1054/1054 - 5s - loss: 0.5884 - precision_1: 0.6829 - val_loss: 0.5643 - val_precision_1: 0.6985 - 5s/epoch - 4ms/step\n",
      "Epoch 33/40\n",
      "1054/1054 - 5s - loss: 0.5862 - precision_1: 0.6933 - val_loss: 0.5639 - val_precision_1: 0.7120 - 5s/epoch - 4ms/step\n",
      "Epoch 34/40\n",
      "1054/1054 - 5s - loss: 0.5877 - precision_1: 0.6917 - val_loss: 0.5687 - val_precision_1: 0.6930 - 5s/epoch - 4ms/step\n",
      "Epoch 35/40\n",
      "1054/1054 - 5s - loss: 0.5847 - precision_1: 0.6881 - val_loss: 0.5624 - val_precision_1: 0.7069 - 5s/epoch - 4ms/step\n",
      "Epoch 36/40\n",
      "1054/1054 - 5s - loss: 0.5801 - precision_1: 0.6949 - val_loss: 0.5576 - val_precision_1: 0.7184 - 5s/epoch - 4ms/step\n",
      "Epoch 37/40\n",
      "1054/1054 - 5s - loss: 0.5808 - precision_1: 0.6918 - val_loss: 0.5639 - val_precision_1: 0.6973 - 5s/epoch - 4ms/step\n",
      "Epoch 38/40\n",
      "1054/1054 - 4s - loss: 0.5794 - precision_1: 0.6975 - val_loss: 0.5503 - val_precision_1: 0.7141 - 4s/epoch - 4ms/step\n",
      "Epoch 39/40\n",
      "1054/1054 - 5s - loss: 0.5800 - precision_1: 0.6926 - val_loss: 0.5587 - val_precision_1: 0.7267 - 5s/epoch - 5ms/step\n",
      "Epoch 40/40\n",
      "1054/1054 - 5s - loss: 0.5769 - precision_1: 0.7002 - val_loss: 0.5513 - val_precision_1: 0.7017 - 5s/epoch - 4ms/step\n",
      "55/55 [==============================] - 0s 3ms/step - loss: 0.5513 - precision_1: 0.7017\n",
      "Score for fold 2: loss of 0.5512841939926147; precision_1 of 70.17017006874084%\n",
      "------------------------------------------------------------------------\n",
      "Training for fold 3 ...\n",
      "Epoch 1/40\n",
      "1054/1054 - 7s - loss: 0.6561 - precision_2: 0.6328 - val_loss: 0.6427 - val_precision_2: 0.6675 - 7s/epoch - 6ms/step\n",
      "Epoch 2/40\n",
      "1054/1054 - 6s - loss: 0.6381 - precision_2: 0.6470 - val_loss: 0.6351 - val_precision_2: 0.6752 - 6s/epoch - 6ms/step\n",
      "Epoch 3/40\n",
      "1054/1054 - 6s - loss: 0.6337 - precision_2: 0.6562 - val_loss: 0.6220 - val_precision_2: 0.6635 - 6s/epoch - 6ms/step\n",
      "Epoch 4/40\n",
      "1054/1054 - 6s - loss: 0.6297 - precision_2: 0.6530 - val_loss: 0.6263 - val_precision_2: 0.6559 - 6s/epoch - 6ms/step\n",
      "Epoch 5/40\n",
      "1054/1054 - 6s - loss: 0.6248 - precision_2: 0.6686 - val_loss: 0.6094 - val_precision_2: 0.6690 - 6s/epoch - 6ms/step\n",
      "Epoch 6/40\n",
      "1054/1054 - 6s - loss: 0.6224 - precision_2: 0.6648 - val_loss: 0.6115 - val_precision_2: 0.6767 - 6s/epoch - 6ms/step\n",
      "Epoch 7/40\n",
      "1054/1054 - 6s - loss: 0.6247 - precision_2: 0.6659 - val_loss: 0.6109 - val_precision_2: 0.6341 - 6s/epoch - 6ms/step\n",
      "Epoch 8/40\n",
      "1054/1054 - 6s - loss: 0.6184 - precision_2: 0.6595 - val_loss: 0.6045 - val_precision_2: 0.6461 - 6s/epoch - 6ms/step\n",
      "Epoch 9/40\n",
      "1054/1054 - 6s - loss: 0.6161 - precision_2: 0.6640 - val_loss: 0.6010 - val_precision_2: 0.6561 - 6s/epoch - 6ms/step\n",
      "Epoch 10/40\n",
      "1054/1054 - 6s - loss: 0.6156 - precision_2: 0.6626 - val_loss: 0.5996 - val_precision_2: 0.6681 - 6s/epoch - 6ms/step\n",
      "Epoch 11/40\n",
      "1054/1054 - 6s - loss: 0.6107 - precision_2: 0.6753 - val_loss: 0.6047 - val_precision_2: 0.6638 - 6s/epoch - 6ms/step\n",
      "Epoch 12/40\n",
      "1054/1054 - 6s - loss: 0.6122 - precision_2: 0.6651 - val_loss: 0.5966 - val_precision_2: 0.6887 - 6s/epoch - 6ms/step\n",
      "Epoch 13/40\n",
      "1054/1054 - 6s - loss: 0.6057 - precision_2: 0.6799 - val_loss: 0.5941 - val_precision_2: 0.6606 - 6s/epoch - 6ms/step\n",
      "Epoch 14/40\n",
      "1054/1054 - 6s - loss: 0.6056 - precision_2: 0.6725 - val_loss: 0.5905 - val_precision_2: 0.6684 - 6s/epoch - 6ms/step\n",
      "Epoch 15/40\n",
      "1054/1054 - 6s - loss: 0.6031 - precision_2: 0.6788 - val_loss: 0.5888 - val_precision_2: 0.6815 - 6s/epoch - 6ms/step\n",
      "Epoch 16/40\n",
      "1054/1054 - 6s - loss: 0.6003 - precision_2: 0.6847 - val_loss: 0.5908 - val_precision_2: 0.6611 - 6s/epoch - 6ms/step\n",
      "Epoch 17/40\n",
      "1054/1054 - 6s - loss: 0.5976 - precision_2: 0.6810 - val_loss: 0.5881 - val_precision_2: 0.6849 - 6s/epoch - 6ms/step\n",
      "Epoch 18/40\n",
      "1054/1054 - 6s - loss: 0.5993 - precision_2: 0.6792 - val_loss: 0.5849 - val_precision_2: 0.6767 - 6s/epoch - 6ms/step\n",
      "Epoch 19/40\n",
      "1054/1054 - 6s - loss: 0.5971 - precision_2: 0.6807 - val_loss: 0.5952 - val_precision_2: 0.6796 - 6s/epoch - 6ms/step\n",
      "Epoch 20/40\n",
      "1054/1054 - 6s - loss: 0.5936 - precision_2: 0.6822 - val_loss: 0.5844 - val_precision_2: 0.6886 - 6s/epoch - 6ms/step\n",
      "Epoch 21/40\n",
      "1054/1054 - 6s - loss: 0.5925 - precision_2: 0.6803 - val_loss: 0.5855 - val_precision_2: 0.6749 - 6s/epoch - 6ms/step\n",
      "Epoch 22/40\n",
      "1054/1054 - 6s - loss: 0.5933 - precision_2: 0.6804 - val_loss: 0.5796 - val_precision_2: 0.6850 - 6s/epoch - 6ms/step\n",
      "Epoch 23/40\n",
      "1054/1054 - 6s - loss: 0.5895 - precision_2: 0.6902 - val_loss: 0.5792 - val_precision_2: 0.6723 - 6s/epoch - 6ms/step\n",
      "Epoch 24/40\n",
      "1054/1054 - 6s - loss: 0.5908 - precision_2: 0.6845 - val_loss: 0.5820 - val_precision_2: 0.6873 - 6s/epoch - 6ms/step\n",
      "Epoch 25/40\n",
      "1054/1054 - 6s - loss: 0.5872 - precision_2: 0.6918 - val_loss: 0.5752 - val_precision_2: 0.6786 - 6s/epoch - 6ms/step\n",
      "Epoch 26/40\n",
      "1054/1054 - 6s - loss: 0.5835 - precision_2: 0.6901 - val_loss: 0.5753 - val_precision_2: 0.6745 - 6s/epoch - 6ms/step\n",
      "Epoch 27/40\n",
      "1054/1054 - 6s - loss: 0.5837 - precision_2: 0.6961 - val_loss: 0.5917 - val_precision_2: 0.6957 - 6s/epoch - 6ms/step\n",
      "Epoch 28/40\n",
      "1054/1054 - 6s - loss: 0.5788 - precision_2: 0.6881 - val_loss: 0.5754 - val_precision_2: 0.6589 - 6s/epoch - 6ms/step\n",
      "Epoch 29/40\n",
      "1054/1054 - 6s - loss: 0.5835 - precision_2: 0.6884 - val_loss: 0.5855 - val_precision_2: 0.6957 - 6s/epoch - 6ms/step\n",
      "Epoch 30/40\n",
      "1054/1054 - 6s - loss: 0.5784 - precision_2: 0.7003 - val_loss: 0.5773 - val_precision_2: 0.6777 - 6s/epoch - 6ms/step\n",
      "Epoch 31/40\n",
      "1054/1054 - 6s - loss: 0.5765 - precision_2: 0.6994 - val_loss: 0.5781 - val_precision_2: 0.6850 - 6s/epoch - 6ms/step\n",
      "Epoch 32/40\n",
      "1054/1054 - 6s - loss: 0.5764 - precision_2: 0.6948 - val_loss: 0.5709 - val_precision_2: 0.6823 - 6s/epoch - 6ms/step\n",
      "Epoch 33/40\n",
      "1054/1054 - 6s - loss: 0.5768 - precision_2: 0.6913 - val_loss: 0.5654 - val_precision_2: 0.6918 - 6s/epoch - 6ms/step\n",
      "Epoch 34/40\n",
      "1054/1054 - 7s - loss: 0.5742 - precision_2: 0.6992 - val_loss: 0.5678 - val_precision_2: 0.6747 - 7s/epoch - 7ms/step\n",
      "Epoch 35/40\n",
      "1054/1054 - 7s - loss: 0.5724 - precision_2: 0.6976 - val_loss: 0.5616 - val_precision_2: 0.6845 - 7s/epoch - 6ms/step\n",
      "Epoch 36/40\n",
      "1054/1054 - 7s - loss: 0.5736 - precision_2: 0.7032 - val_loss: 0.5639 - val_precision_2: 0.6824 - 7s/epoch - 6ms/step\n",
      "Epoch 37/40\n",
      "1054/1054 - 7s - loss: 0.5690 - precision_2: 0.6976 - val_loss: 0.5587 - val_precision_2: 0.6810 - 7s/epoch - 6ms/step\n",
      "Epoch 38/40\n",
      "1054/1054 - 6s - loss: 0.5651 - precision_2: 0.6982 - val_loss: 0.5572 - val_precision_2: 0.6960 - 6s/epoch - 6ms/step\n",
      "Epoch 39/40\n",
      "1054/1054 - 6s - loss: 0.5678 - precision_2: 0.6986 - val_loss: 0.5548 - val_precision_2: 0.6951 - 6s/epoch - 6ms/step\n",
      "Epoch 40/40\n",
      "1054/1054 - 6s - loss: 0.5661 - precision_2: 0.7033 - val_loss: 0.5584 - val_precision_2: 0.6842 - 6s/epoch - 6ms/step\n",
      "55/55 [==============================] - 0s 4ms/step - loss: 0.5584 - precision_2: 0.6842\n",
      "Score for fold 3: loss of 0.5584372282028198; precision_2 of 68.42105388641357%\n",
      "------------------------------------------------------------------------\n",
      "Training for fold 4 ...\n",
      "Epoch 1/40\n",
      "1054/1054 - 7s - loss: 0.6573 - precision_3: 0.6347 - val_loss: 0.6386 - val_precision_3: 0.6767 - 7s/epoch - 7ms/step\n"
     ]
    },
    {
     "name": "stdout",
     "output_type": "stream",
     "text": [
      "Epoch 2/40\n",
      "1054/1054 - 6s - loss: 0.6381 - precision_3: 0.6601 - val_loss: 0.6202 - val_precision_3: 0.6865 - 6s/epoch - 6ms/step\n",
      "Epoch 3/40\n",
      "1054/1054 - 6s - loss: 0.6280 - precision_3: 0.6616 - val_loss: 0.6143 - val_precision_3: 0.6932 - 6s/epoch - 6ms/step\n",
      "Epoch 4/40\n",
      "1054/1054 - 6s - loss: 0.6257 - precision_3: 0.6721 - val_loss: 0.6159 - val_precision_3: 0.6620 - 6s/epoch - 6ms/step\n",
      "Epoch 5/40\n",
      "1054/1054 - 7s - loss: 0.6250 - precision_3: 0.6699 - val_loss: 0.6142 - val_precision_3: 0.6745 - 7s/epoch - 6ms/step\n",
      "Epoch 6/40\n",
      "1054/1054 - 6s - loss: 0.6189 - precision_3: 0.6687 - val_loss: 0.6119 - val_precision_3: 0.6494 - 6s/epoch - 6ms/step\n",
      "Epoch 7/40\n",
      "1054/1054 - 6s - loss: 0.6175 - precision_3: 0.6759 - val_loss: 0.6147 - val_precision_3: 0.6543 - 6s/epoch - 6ms/step\n",
      "Epoch 8/40\n",
      "1054/1054 - 6s - loss: 0.6172 - precision_3: 0.6839 - val_loss: 0.6126 - val_precision_3: 0.6469 - 6s/epoch - 6ms/step\n",
      "Epoch 9/40\n",
      "1054/1054 - 6s - loss: 0.6116 - precision_3: 0.6731 - val_loss: 0.6105 - val_precision_3: 0.6460 - 6s/epoch - 6ms/step\n",
      "Epoch 10/40\n",
      "1054/1054 - 6s - loss: 0.6129 - precision_3: 0.6785 - val_loss: 0.6112 - val_precision_3: 0.6820 - 6s/epoch - 6ms/step\n",
      "Epoch 11/40\n",
      "1054/1054 - 6s - loss: 0.6091 - precision_3: 0.6776 - val_loss: 0.6020 - val_precision_3: 0.6806 - 6s/epoch - 6ms/step\n",
      "Epoch 12/40\n",
      "1054/1054 - 6s - loss: 0.6088 - precision_3: 0.6864 - val_loss: 0.6096 - val_precision_3: 0.6437 - 6s/epoch - 6ms/step\n",
      "Epoch 13/40\n",
      "1054/1054 - 6s - loss: 0.6094 - precision_3: 0.6775 - val_loss: 0.6037 - val_precision_3: 0.6696 - 6s/epoch - 5ms/step\n",
      "Epoch 14/40\n",
      "1054/1054 - 6s - loss: 0.6038 - precision_3: 0.6870 - val_loss: 0.6016 - val_precision_3: 0.6777 - 6s/epoch - 5ms/step\n",
      "Epoch 15/40\n",
      "1054/1054 - 6s - loss: 0.6017 - precision_3: 0.6819 - val_loss: 0.6086 - val_precision_3: 0.6670 - 6s/epoch - 6ms/step\n",
      "Epoch 16/40\n",
      "1054/1054 - 6s - loss: 0.6019 - precision_3: 0.6852 - val_loss: 0.6005 - val_precision_3: 0.6824 - 6s/epoch - 5ms/step\n",
      "Epoch 17/40\n",
      "1054/1054 - 6s - loss: 0.5982 - precision_3: 0.6885 - val_loss: 0.6036 - val_precision_3: 0.6888 - 6s/epoch - 5ms/step\n",
      "Epoch 18/40\n",
      "1054/1054 - 6s - loss: 0.5982 - precision_3: 0.6888 - val_loss: 0.5935 - val_precision_3: 0.6741 - 6s/epoch - 6ms/step\n",
      "Epoch 19/40\n",
      "1054/1054 - 7s - loss: 0.5959 - precision_3: 0.6900 - val_loss: 0.5966 - val_precision_3: 0.6736 - 7s/epoch - 7ms/step\n",
      "Epoch 20/40\n",
      "1054/1054 - 8s - loss: 0.5971 - precision_3: 0.6852 - val_loss: 0.5944 - val_precision_3: 0.6873 - 8s/epoch - 7ms/step\n",
      "Epoch 21/40\n",
      "1054/1054 - 6s - loss: 0.5914 - precision_3: 0.6926 - val_loss: 0.5941 - val_precision_3: 0.6871 - 6s/epoch - 6ms/step\n",
      "Epoch 22/40\n",
      "1054/1054 - 6s - loss: 0.5923 - precision_3: 0.6926 - val_loss: 0.5892 - val_precision_3: 0.6770 - 6s/epoch - 6ms/step\n",
      "Epoch 23/40\n",
      "1054/1054 - 6s - loss: 0.5930 - precision_3: 0.6871 - val_loss: 0.5971 - val_precision_3: 0.6878 - 6s/epoch - 5ms/step\n",
      "Epoch 24/40\n",
      "1054/1054 - 6s - loss: 0.5923 - precision_3: 0.6893 - val_loss: 0.5874 - val_precision_3: 0.6785 - 6s/epoch - 5ms/step\n",
      "Epoch 25/40\n",
      "1054/1054 - 6s - loss: 0.5876 - precision_3: 0.6995 - val_loss: 0.5922 - val_precision_3: 0.6699 - 6s/epoch - 6ms/step\n",
      "Epoch 26/40\n",
      "1054/1054 - 6s - loss: 0.5887 - precision_3: 0.6918 - val_loss: 0.5919 - val_precision_3: 0.6895 - 6s/epoch - 5ms/step\n",
      "Epoch 27/40\n",
      "1054/1054 - 5s - loss: 0.5870 - precision_3: 0.7019 - val_loss: 0.5942 - val_precision_3: 0.6860 - 5s/epoch - 5ms/step\n",
      "Epoch 28/40\n",
      "1054/1054 - 5s - loss: 0.5861 - precision_3: 0.6940 - val_loss: 0.5966 - val_precision_3: 0.6819 - 5s/epoch - 5ms/step\n",
      "Epoch 29/40\n",
      "1054/1054 - 5s - loss: 0.5848 - precision_3: 0.7012 - val_loss: 0.5871 - val_precision_3: 0.6896 - 5s/epoch - 5ms/step\n",
      "Epoch 30/40\n",
      "1054/1054 - 6s - loss: 0.5821 - precision_3: 0.6982 - val_loss: 0.5923 - val_precision_3: 0.6986 - 6s/epoch - 5ms/step\n",
      "Epoch 31/40\n",
      "1054/1054 - 6s - loss: 0.5829 - precision_3: 0.7002 - val_loss: 0.5878 - val_precision_3: 0.6954 - 6s/epoch - 6ms/step\n",
      "Epoch 32/40\n",
      "1054/1054 - 6s - loss: 0.5804 - precision_3: 0.7017 - val_loss: 0.5840 - val_precision_3: 0.6934 - 6s/epoch - 5ms/step\n",
      "Epoch 33/40\n",
      "1054/1054 - 6s - loss: 0.5799 - precision_3: 0.7001 - val_loss: 0.5837 - val_precision_3: 0.6729 - 6s/epoch - 5ms/step\n",
      "Epoch 34/40\n",
      "1054/1054 - 6s - loss: 0.5767 - precision_3: 0.7015 - val_loss: 0.5863 - val_precision_3: 0.6747 - 6s/epoch - 6ms/step\n",
      "Epoch 35/40\n",
      "1054/1054 - 6s - loss: 0.5756 - precision_3: 0.7038 - val_loss: 0.5798 - val_precision_3: 0.6795 - 6s/epoch - 6ms/step\n",
      "Epoch 36/40\n",
      "1054/1054 - 5s - loss: 0.5754 - precision_3: 0.7062 - val_loss: 0.5887 - val_precision_3: 0.7062 - 5s/epoch - 5ms/step\n",
      "Epoch 37/40\n",
      "1054/1054 - 5s - loss: 0.5725 - precision_3: 0.7063 - val_loss: 0.5784 - val_precision_3: 0.6965 - 5s/epoch - 5ms/step\n",
      "Epoch 38/40\n",
      "1054/1054 - 6s - loss: 0.5735 - precision_3: 0.6998 - val_loss: 0.5814 - val_precision_3: 0.6791 - 6s/epoch - 5ms/step\n",
      "Epoch 39/40\n",
      "1054/1054 - 6s - loss: 0.5706 - precision_3: 0.7042 - val_loss: 0.5825 - val_precision_3: 0.6690 - 6s/epoch - 5ms/step\n",
      "Epoch 40/40\n",
      "1054/1054 - 5s - loss: 0.5700 - precision_3: 0.7074 - val_loss: 0.5713 - val_precision_3: 0.7088 - 5s/epoch - 5ms/step\n",
      "55/55 [==============================] - 0s 3ms/step - loss: 0.5713 - precision_3: 0.7088\n",
      "Score for fold 4: loss of 0.5712677836418152; precision_3 of 70.88167071342468%\n",
      "------------------------------------------------------------------------\n",
      "Training for fold 5 ...\n",
      "Epoch 1/40\n",
      "1054/1054 - 6s - loss: 0.6582 - precision_4: 0.6296 - val_loss: 0.6193 - val_precision_4: 0.6674 - 6s/epoch - 6ms/step\n",
      "Epoch 2/40\n",
      "1054/1054 - 5s - loss: 0.6352 - precision_4: 0.6593 - val_loss: 0.6164 - val_precision_4: 0.6917 - 5s/epoch - 5ms/step\n",
      "Epoch 3/40\n",
      "1054/1054 - 5s - loss: 0.6314 - precision_4: 0.6541 - val_loss: 0.6070 - val_precision_4: 0.6918 - 5s/epoch - 5ms/step\n",
      "Epoch 4/40\n",
      "1054/1054 - 5s - loss: 0.6300 - precision_4: 0.6561 - val_loss: 0.6084 - val_precision_4: 0.6856 - 5s/epoch - 5ms/step\n",
      "Epoch 5/40\n",
      "1054/1054 - 5s - loss: 0.6217 - precision_4: 0.6631 - val_loss: 0.6084 - val_precision_4: 0.6960 - 5s/epoch - 5ms/step\n",
      "Epoch 6/40\n",
      "1054/1054 - 5s - loss: 0.6202 - precision_4: 0.6615 - val_loss: 0.5978 - val_precision_4: 0.7049 - 5s/epoch - 5ms/step\n",
      "Epoch 7/40\n",
      "1054/1054 - 5s - loss: 0.6180 - precision_4: 0.6648 - val_loss: 0.5969 - val_precision_4: 0.6667 - 5s/epoch - 5ms/step\n",
      "Epoch 8/40\n",
      "1054/1054 - 5s - loss: 0.6176 - precision_4: 0.6639 - val_loss: 0.5978 - val_precision_4: 0.6742 - 5s/epoch - 5ms/step\n",
      "Epoch 9/40\n",
      "1054/1054 - 5s - loss: 0.6155 - precision_4: 0.6651 - val_loss: 0.5999 - val_precision_4: 0.6493 - 5s/epoch - 5ms/step\n",
      "Epoch 10/40\n",
      "1054/1054 - 5s - loss: 0.6155 - precision_4: 0.6651 - val_loss: 0.6026 - val_precision_4: 0.6618 - 5s/epoch - 5ms/step\n",
      "Epoch 11/40\n",
      "1054/1054 - 5s - loss: 0.6130 - precision_4: 0.6685 - val_loss: 0.5963 - val_precision_4: 0.6647 - 5s/epoch - 5ms/step\n",
      "Epoch 12/40\n",
      "1054/1054 - 5s - loss: 0.6088 - precision_4: 0.6678 - val_loss: 0.5910 - val_precision_4: 0.6990 - 5s/epoch - 5ms/step\n",
      "Epoch 13/40\n",
      "1054/1054 - 5s - loss: 0.6074 - precision_4: 0.6696 - val_loss: 0.5859 - val_precision_4: 0.6947 - 5s/epoch - 5ms/step\n",
      "Epoch 14/40\n",
      "1054/1054 - 5s - loss: 0.6041 - precision_4: 0.6753 - val_loss: 0.5869 - val_precision_4: 0.6798 - 5s/epoch - 5ms/step\n",
      "Epoch 15/40\n",
      "1054/1054 - 5s - loss: 0.6017 - precision_4: 0.6664 - val_loss: 0.5946 - val_precision_4: 0.6641 - 5s/epoch - 5ms/step\n",
      "Epoch 16/40\n",
      "1054/1054 - 5s - loss: 0.6016 - precision_4: 0.6764 - val_loss: 0.5823 - val_precision_4: 0.6822 - 5s/epoch - 5ms/step\n",
      "Epoch 17/40\n",
      "1054/1054 - 5s - loss: 0.5987 - precision_4: 0.6846 - val_loss: 0.5885 - val_precision_4: 0.6781 - 5s/epoch - 5ms/step\n",
      "Epoch 18/40\n",
      "1054/1054 - 6s - loss: 0.5989 - precision_4: 0.6831 - val_loss: 0.5797 - val_precision_4: 0.6958 - 6s/epoch - 6ms/step\n",
      "Epoch 19/40\n",
      "1054/1054 - 6s - loss: 0.5943 - precision_4: 0.6787 - val_loss: 0.5767 - val_precision_4: 0.6840 - 6s/epoch - 6ms/step\n",
      "Epoch 20/40\n",
      "1054/1054 - 6s - loss: 0.5950 - precision_4: 0.6784 - val_loss: 0.5838 - val_precision_4: 0.6924 - 6s/epoch - 6ms/step\n",
      "Epoch 21/40\n",
      "1054/1054 - 6s - loss: 0.5901 - precision_4: 0.6841 - val_loss: 0.5778 - val_precision_4: 0.7016 - 6s/epoch - 5ms/step\n",
      "Epoch 22/40\n",
      "1054/1054 - 6s - loss: 0.5889 - precision_4: 0.6854 - val_loss: 0.5811 - val_precision_4: 0.6948 - 6s/epoch - 5ms/step\n"
     ]
    },
    {
     "name": "stdout",
     "output_type": "stream",
     "text": [
      "Epoch 23/40\n",
      "1054/1054 - 5s - loss: 0.5878 - precision_4: 0.6914 - val_loss: 0.5833 - val_precision_4: 0.6784 - 5s/epoch - 5ms/step\n",
      "Epoch 24/40\n",
      "1054/1054 - 5s - loss: 0.5868 - precision_4: 0.6905 - val_loss: 0.5758 - val_precision_4: 0.6914 - 5s/epoch - 5ms/step\n",
      "Epoch 25/40\n",
      "1054/1054 - 5s - loss: 0.5881 - precision_4: 0.6877 - val_loss: 0.5740 - val_precision_4: 0.6818 - 5s/epoch - 5ms/step\n",
      "Epoch 26/40\n",
      "1054/1054 - 5s - loss: 0.5835 - precision_4: 0.6922 - val_loss: 0.5665 - val_precision_4: 0.7074 - 5s/epoch - 5ms/step\n",
      "Epoch 27/40\n",
      "1054/1054 - 5s - loss: 0.5810 - precision_4: 0.6911 - val_loss: 0.5709 - val_precision_4: 0.7003 - 5s/epoch - 5ms/step\n",
      "Epoch 28/40\n",
      "1054/1054 - 5s - loss: 0.5815 - precision_4: 0.6910 - val_loss: 0.5634 - val_precision_4: 0.7008 - 5s/epoch - 5ms/step\n",
      "Epoch 29/40\n",
      "1054/1054 - 5s - loss: 0.5810 - precision_4: 0.6953 - val_loss: 0.5633 - val_precision_4: 0.7030 - 5s/epoch - 5ms/step\n",
      "Epoch 30/40\n",
      "1054/1054 - 5s - loss: 0.5792 - precision_4: 0.6983 - val_loss: 0.5667 - val_precision_4: 0.6862 - 5s/epoch - 5ms/step\n",
      "Epoch 31/40\n",
      "1054/1054 - 6s - loss: 0.5771 - precision_4: 0.7010 - val_loss: 0.5600 - val_precision_4: 0.6932 - 6s/epoch - 5ms/step\n",
      "Epoch 32/40\n",
      "1054/1054 - 6s - loss: 0.5740 - precision_4: 0.7038 - val_loss: 0.5611 - val_precision_4: 0.7191 - 6s/epoch - 6ms/step\n",
      "Epoch 33/40\n",
      "1054/1054 - 6s - loss: 0.5751 - precision_4: 0.7067 - val_loss: 0.5689 - val_precision_4: 0.6962 - 6s/epoch - 6ms/step\n",
      "Epoch 34/40\n",
      "1054/1054 - 6s - loss: 0.5721 - precision_4: 0.7091 - val_loss: 0.5587 - val_precision_4: 0.6922 - 6s/epoch - 6ms/step\n",
      "Epoch 35/40\n",
      "1054/1054 - 6s - loss: 0.5703 - precision_4: 0.7128 - val_loss: 0.5587 - val_precision_4: 0.7045 - 6s/epoch - 6ms/step\n",
      "Epoch 36/40\n",
      "1054/1054 - 6s - loss: 0.5685 - precision_4: 0.7105 - val_loss: 0.5529 - val_precision_4: 0.7194 - 6s/epoch - 6ms/step\n",
      "Epoch 37/40\n",
      "1054/1054 - 6s - loss: 0.5647 - precision_4: 0.7146 - val_loss: 0.5538 - val_precision_4: 0.7168 - 6s/epoch - 5ms/step\n",
      "Epoch 38/40\n",
      "1054/1054 - 5s - loss: 0.5613 - precision_4: 0.7119 - val_loss: 0.5566 - val_precision_4: 0.7088 - 5s/epoch - 5ms/step\n",
      "Epoch 39/40\n",
      "1054/1054 - 5s - loss: 0.5634 - precision_4: 0.7114 - val_loss: 0.5573 - val_precision_4: 0.6833 - 5s/epoch - 5ms/step\n",
      "Epoch 40/40\n",
      "1054/1054 - 5s - loss: 0.5601 - precision_4: 0.7157 - val_loss: 0.5577 - val_precision_4: 0.6919 - 5s/epoch - 5ms/step\n",
      "55/55 [==============================] - 0s 3ms/step - loss: 0.5577 - precision_4: 0.6919\n",
      "Score for fold 5: loss of 0.5576803088188171; precision_4 of 69.19339299201965%\n",
      "------------------------------------------------------------------------\n",
      "Training for fold 6 ...\n",
      "Epoch 1/40\n",
      "1054/1054 - 7s - loss: 0.6615 - precision_5: 0.6159 - val_loss: 0.6267 - val_precision_5: 0.6400 - 7s/epoch - 6ms/step\n",
      "Epoch 2/40\n",
      "1054/1054 - 6s - loss: 0.6419 - precision_5: 0.6429 - val_loss: 0.6246 - val_precision_5: 0.6472 - 6s/epoch - 6ms/step\n",
      "Epoch 3/40\n",
      "1054/1054 - 6s - loss: 0.6325 - precision_5: 0.6535 - val_loss: 0.6117 - val_precision_5: 0.6562 - 6s/epoch - 5ms/step\n",
      "Epoch 4/40\n",
      "1054/1054 - 5s - loss: 0.6281 - precision_5: 0.6658 - val_loss: 0.6027 - val_precision_5: 0.6886 - 5s/epoch - 5ms/step\n",
      "Epoch 5/40\n",
      "1054/1054 - 5s - loss: 0.6244 - precision_5: 0.6738 - val_loss: 0.6063 - val_precision_5: 0.6851 - 5s/epoch - 5ms/step\n",
      "Epoch 6/40\n",
      "1054/1054 - 5s - loss: 0.6221 - precision_5: 0.6644 - val_loss: 0.5975 - val_precision_5: 0.6607 - 5s/epoch - 5ms/step\n",
      "Epoch 7/40\n",
      "1054/1054 - 6s - loss: 0.6207 - precision_5: 0.6610 - val_loss: 0.6013 - val_precision_5: 0.6816 - 6s/epoch - 5ms/step\n",
      "Epoch 8/40\n",
      "1054/1054 - 5s - loss: 0.6169 - precision_5: 0.6620 - val_loss: 0.5924 - val_precision_5: 0.6753 - 5s/epoch - 5ms/step\n",
      "Epoch 9/40\n",
      "1054/1054 - 5s - loss: 0.6143 - precision_5: 0.6635 - val_loss: 0.5977 - val_precision_5: 0.6925 - 5s/epoch - 5ms/step\n",
      "Epoch 10/40\n",
      "1054/1054 - 5s - loss: 0.6138 - precision_5: 0.6717 - val_loss: 0.6003 - val_precision_5: 0.6649 - 5s/epoch - 5ms/step\n",
      "Epoch 11/40\n",
      "1054/1054 - 5s - loss: 0.6124 - precision_5: 0.6668 - val_loss: 0.5846 - val_precision_5: 0.6854 - 5s/epoch - 5ms/step\n",
      "Epoch 12/40\n",
      "1054/1054 - 5s - loss: 0.6086 - precision_5: 0.6709 - val_loss: 0.5804 - val_precision_5: 0.6727 - 5s/epoch - 5ms/step\n",
      "Epoch 13/40\n",
      "1054/1054 - 5s - loss: 0.6076 - precision_5: 0.6724 - val_loss: 0.5879 - val_precision_5: 0.6680 - 5s/epoch - 5ms/step\n",
      "Epoch 14/40\n",
      "1054/1054 - 5s - loss: 0.6016 - precision_5: 0.6788 - val_loss: 0.5899 - val_precision_5: 0.6691 - 5s/epoch - 5ms/step\n",
      "Epoch 15/40\n",
      "1054/1054 - 5s - loss: 0.6043 - precision_5: 0.6746 - val_loss: 0.5816 - val_precision_5: 0.7010 - 5s/epoch - 5ms/step\n",
      "Epoch 16/40\n",
      "1054/1054 - 5s - loss: 0.6016 - precision_5: 0.6749 - val_loss: 0.5740 - val_precision_5: 0.6892 - 5s/epoch - 5ms/step\n",
      "Epoch 17/40\n",
      "1054/1054 - 5s - loss: 0.6009 - precision_5: 0.6765 - val_loss: 0.5761 - val_precision_5: 0.6914 - 5s/epoch - 5ms/step\n",
      "Epoch 18/40\n",
      "1054/1054 - 5s - loss: 0.5984 - precision_5: 0.6769 - val_loss: 0.5721 - val_precision_5: 0.7003 - 5s/epoch - 5ms/step\n",
      "Epoch 19/40\n",
      "1054/1054 - 5s - loss: 0.5991 - precision_5: 0.6874 - val_loss: 0.5715 - val_precision_5: 0.7007 - 5s/epoch - 5ms/step\n",
      "Epoch 20/40\n",
      "1054/1054 - 5s - loss: 0.5916 - precision_5: 0.6855 - val_loss: 0.5742 - val_precision_5: 0.7159 - 5s/epoch - 5ms/step\n",
      "Epoch 21/40\n",
      "1054/1054 - 5s - loss: 0.5955 - precision_5: 0.6898 - val_loss: 0.5641 - val_precision_5: 0.7111 - 5s/epoch - 5ms/step\n",
      "Epoch 22/40\n",
      "1054/1054 - 5s - loss: 0.5916 - precision_5: 0.6927 - val_loss: 0.5620 - val_precision_5: 0.6829 - 5s/epoch - 5ms/step\n",
      "Epoch 23/40\n",
      "1054/1054 - 5s - loss: 0.5886 - precision_5: 0.6898 - val_loss: 0.5667 - val_precision_5: 0.7218 - 5s/epoch - 5ms/step\n",
      "Epoch 24/40\n",
      "1054/1054 - 5s - loss: 0.5911 - precision_5: 0.6909 - val_loss: 0.5628 - val_precision_5: 0.6995 - 5s/epoch - 5ms/step\n",
      "Epoch 25/40\n",
      "1054/1054 - 5s - loss: 0.5855 - precision_5: 0.6950 - val_loss: 0.5656 - val_precision_5: 0.7086 - 5s/epoch - 4ms/step\n",
      "Epoch 26/40\n",
      "1054/1054 - 5s - loss: 0.5872 - precision_5: 0.6901 - val_loss: 0.5548 - val_precision_5: 0.7019 - 5s/epoch - 5ms/step\n",
      "Epoch 27/40\n",
      "1054/1054 - 5s - loss: 0.5804 - precision_5: 0.6929 - val_loss: 0.5554 - val_precision_5: 0.6985 - 5s/epoch - 4ms/step\n",
      "Epoch 28/40\n",
      "1054/1054 - 5s - loss: 0.5817 - precision_5: 0.6901 - val_loss: 0.5538 - val_precision_5: 0.7037 - 5s/epoch - 5ms/step\n",
      "Epoch 29/40\n",
      "1054/1054 - 5s - loss: 0.5813 - precision_5: 0.6910 - val_loss: 0.5671 - val_precision_5: 0.6980 - 5s/epoch - 5ms/step\n",
      "Epoch 30/40\n",
      "1054/1054 - 5s - loss: 0.5802 - precision_5: 0.6999 - val_loss: 0.5470 - val_precision_5: 0.6951 - 5s/epoch - 5ms/step\n",
      "Epoch 31/40\n",
      "1054/1054 - 5s - loss: 0.5759 - precision_5: 0.6873 - val_loss: 0.5583 - val_precision_5: 0.7221 - 5s/epoch - 5ms/step\n",
      "Epoch 32/40\n",
      "1054/1054 - 5s - loss: 0.5752 - precision_5: 0.6942 - val_loss: 0.5437 - val_precision_5: 0.7186 - 5s/epoch - 5ms/step\n",
      "Epoch 33/40\n",
      "1054/1054 - 5s - loss: 0.5739 - precision_5: 0.6987 - val_loss: 0.5525 - val_precision_5: 0.7206 - 5s/epoch - 5ms/step\n",
      "Epoch 34/40\n",
      "1054/1054 - 5s - loss: 0.5683 - precision_5: 0.7010 - val_loss: 0.5447 - val_precision_5: 0.7191 - 5s/epoch - 5ms/step\n",
      "Epoch 35/40\n",
      "1054/1054 - 5s - loss: 0.5699 - precision_5: 0.6951 - val_loss: 0.5391 - val_precision_5: 0.7085 - 5s/epoch - 5ms/step\n",
      "Epoch 36/40\n",
      "1054/1054 - 5s - loss: 0.5708 - precision_5: 0.6985 - val_loss: 0.5348 - val_precision_5: 0.7220 - 5s/epoch - 5ms/step\n",
      "Epoch 37/40\n",
      "1054/1054 - 5s - loss: 0.5689 - precision_5: 0.7030 - val_loss: 0.5424 - val_precision_5: 0.7331 - 5s/epoch - 5ms/step\n",
      "Epoch 38/40\n",
      "1054/1054 - 5s - loss: 0.5688 - precision_5: 0.7028 - val_loss: 0.5373 - val_precision_5: 0.7210 - 5s/epoch - 5ms/step\n",
      "Epoch 39/40\n",
      "1054/1054 - 5s - loss: 0.5661 - precision_5: 0.7007 - val_loss: 0.5320 - val_precision_5: 0.7055 - 5s/epoch - 5ms/step\n",
      "Epoch 40/40\n",
      "1054/1054 - 5s - loss: 0.5633 - precision_5: 0.7033 - val_loss: 0.5366 - val_precision_5: 0.7234 - 5s/epoch - 5ms/step\n",
      "55/55 [==============================] - 0s 3ms/step - loss: 0.5366 - precision_5: 0.7234\n",
      "Score for fold 6: loss of 0.5366407632827759; precision_5 of 72.34042286872864%\n",
      "------------------------------------------------------------------------\n",
      "Training for fold 7 ...\n",
      "Epoch 1/40\n",
      "1054/1054 - 6s - loss: 0.6537 - precision_6: 0.6363 - val_loss: 0.6146 - val_precision_6: 0.6694 - 6s/epoch - 6ms/step\n"
     ]
    },
    {
     "name": "stdout",
     "output_type": "stream",
     "text": [
      "Epoch 2/40\n",
      "1054/1054 - 5s - loss: 0.6401 - precision_6: 0.6587 - val_loss: 0.6244 - val_precision_6: 0.6367 - 5s/epoch - 5ms/step\n",
      "Epoch 3/40\n",
      "1054/1054 - 5s - loss: 0.6271 - precision_6: 0.6640 - val_loss: 0.6124 - val_precision_6: 0.6766 - 5s/epoch - 5ms/step\n",
      "Epoch 4/40\n",
      "1054/1054 - 5s - loss: 0.6271 - precision_6: 0.6740 - val_loss: 0.6272 - val_precision_6: 0.6927 - 5s/epoch - 5ms/step\n",
      "Epoch 5/40\n",
      "1054/1054 - 5s - loss: 0.6226 - precision_6: 0.6716 - val_loss: 0.6021 - val_precision_6: 0.6583 - 5s/epoch - 5ms/step\n",
      "Epoch 6/40\n",
      "1054/1054 - 5s - loss: 0.6203 - precision_6: 0.6671 - val_loss: 0.6127 - val_precision_6: 0.6708 - 5s/epoch - 5ms/step\n",
      "Epoch 7/40\n",
      "1054/1054 - 5s - loss: 0.6184 - precision_6: 0.6650 - val_loss: 0.6012 - val_precision_6: 0.6510 - 5s/epoch - 4ms/step\n",
      "Epoch 8/40\n",
      "1054/1054 - 5s - loss: 0.6174 - precision_6: 0.6720 - val_loss: 0.6063 - val_precision_6: 0.6733 - 5s/epoch - 4ms/step\n",
      "Epoch 9/40\n",
      "1054/1054 - 5s - loss: 0.6135 - precision_6: 0.6788 - val_loss: 0.6043 - val_precision_6: 0.6696 - 5s/epoch - 5ms/step\n",
      "Epoch 10/40\n",
      "1054/1054 - 5s - loss: 0.6137 - precision_6: 0.6750 - val_loss: 0.5949 - val_precision_6: 0.6659 - 5s/epoch - 4ms/step\n",
      "Epoch 11/40\n",
      "1054/1054 - 5s - loss: 0.6107 - precision_6: 0.6794 - val_loss: 0.6066 - val_precision_6: 0.6451 - 5s/epoch - 5ms/step\n",
      "Epoch 12/40\n",
      "1054/1054 - 5s - loss: 0.6088 - precision_6: 0.6702 - val_loss: 0.5973 - val_precision_6: 0.6656 - 5s/epoch - 4ms/step\n",
      "Epoch 13/40\n",
      "1054/1054 - 5s - loss: 0.6070 - precision_6: 0.6781 - val_loss: 0.5925 - val_precision_6: 0.6599 - 5s/epoch - 4ms/step\n",
      "Epoch 14/40\n",
      "1054/1054 - 5s - loss: 0.6047 - precision_6: 0.6711 - val_loss: 0.5905 - val_precision_6: 0.6594 - 5s/epoch - 4ms/step\n",
      "Epoch 15/40\n",
      "1054/1054 - 5s - loss: 0.6039 - precision_6: 0.6719 - val_loss: 0.5950 - val_precision_6: 0.6729 - 5s/epoch - 5ms/step\n",
      "Epoch 16/40\n",
      "1054/1054 - 5s - loss: 0.6051 - precision_6: 0.6796 - val_loss: 0.5902 - val_precision_6: 0.6588 - 5s/epoch - 4ms/step\n",
      "Epoch 17/40\n",
      "1054/1054 - 5s - loss: 0.6006 - precision_6: 0.6787 - val_loss: 0.5881 - val_precision_6: 0.6660 - 5s/epoch - 5ms/step\n",
      "Epoch 18/40\n",
      "1054/1054 - 6s - loss: 0.5973 - precision_6: 0.6830 - val_loss: 0.5840 - val_precision_6: 0.6673 - 6s/epoch - 6ms/step\n",
      "Epoch 19/40\n",
      "1054/1054 - 6s - loss: 0.5975 - precision_6: 0.6763 - val_loss: 0.5848 - val_precision_6: 0.6620 - 6s/epoch - 5ms/step\n",
      "Epoch 20/40\n",
      "1054/1054 - 6s - loss: 0.5959 - precision_6: 0.6822 - val_loss: 0.5865 - val_precision_6: 0.6630 - 6s/epoch - 6ms/step\n",
      "Epoch 21/40\n",
      "1054/1054 - 6s - loss: 0.5931 - precision_6: 0.6826 - val_loss: 0.5847 - val_precision_6: 0.6826 - 6s/epoch - 6ms/step\n",
      "Epoch 22/40\n",
      "1054/1054 - 5s - loss: 0.5915 - precision_6: 0.6870 - val_loss: 0.5817 - val_precision_6: 0.6809 - 5s/epoch - 5ms/step\n",
      "Epoch 23/40\n",
      "1054/1054 - 6s - loss: 0.5928 - precision_6: 0.6794 - val_loss: 0.5809 - val_precision_6: 0.6852 - 6s/epoch - 6ms/step\n",
      "Epoch 24/40\n",
      "1054/1054 - 6s - loss: 0.5915 - precision_6: 0.6865 - val_loss: 0.5837 - val_precision_6: 0.6708 - 6s/epoch - 6ms/step\n",
      "Epoch 25/40\n",
      "1054/1054 - 5s - loss: 0.5862 - precision_6: 0.6867 - val_loss: 0.5773 - val_precision_6: 0.6770 - 5s/epoch - 5ms/step\n",
      "Epoch 26/40\n",
      "1054/1054 - 5s - loss: 0.5876 - precision_6: 0.6854 - val_loss: 0.5737 - val_precision_6: 0.6768 - 5s/epoch - 5ms/step\n",
      "Epoch 27/40\n",
      "1054/1054 - 5s - loss: 0.5885 - precision_6: 0.6884 - val_loss: 0.5707 - val_precision_6: 0.6787 - 5s/epoch - 5ms/step\n",
      "Epoch 28/40\n",
      "1054/1054 - 5s - loss: 0.5855 - precision_6: 0.6959 - val_loss: 0.5773 - val_precision_6: 0.6693 - 5s/epoch - 4ms/step\n",
      "Epoch 29/40\n",
      "1054/1054 - 5s - loss: 0.5842 - precision_6: 0.6924 - val_loss: 0.5845 - val_precision_6: 0.6887 - 5s/epoch - 5ms/step\n",
      "Epoch 30/40\n",
      "1054/1054 - 5s - loss: 0.5824 - precision_6: 0.6903 - val_loss: 0.5795 - val_precision_6: 0.6638 - 5s/epoch - 5ms/step\n",
      "Epoch 31/40\n",
      "1054/1054 - 6s - loss: 0.5843 - precision_6: 0.6886 - val_loss: 0.5739 - val_precision_6: 0.6927 - 6s/epoch - 5ms/step\n",
      "Epoch 32/40\n",
      "1054/1054 - 5s - loss: 0.5828 - precision_6: 0.6929 - val_loss: 0.5739 - val_precision_6: 0.6794 - 5s/epoch - 5ms/step\n",
      "Epoch 33/40\n",
      "1054/1054 - 6s - loss: 0.5820 - precision_6: 0.6982 - val_loss: 0.5717 - val_precision_6: 0.6811 - 6s/epoch - 6ms/step\n",
      "Epoch 34/40\n",
      "1054/1054 - 6s - loss: 0.5785 - precision_6: 0.6891 - val_loss: 0.5731 - val_precision_6: 0.6782 - 6s/epoch - 6ms/step\n",
      "Epoch 35/40\n",
      "1054/1054 - 6s - loss: 0.5766 - precision_6: 0.6936 - val_loss: 0.5669 - val_precision_6: 0.6706 - 6s/epoch - 5ms/step\n",
      "Epoch 36/40\n",
      "1054/1054 - 6s - loss: 0.5748 - precision_6: 0.6955 - val_loss: 0.5683 - val_precision_6: 0.6926 - 6s/epoch - 5ms/step\n",
      "Epoch 37/40\n",
      "1054/1054 - 5s - loss: 0.5728 - precision_6: 0.7035 - val_loss: 0.5704 - val_precision_6: 0.6927 - 5s/epoch - 5ms/step\n",
      "Epoch 38/40\n",
      "1054/1054 - 6s - loss: 0.5737 - precision_6: 0.7020 - val_loss: 0.5736 - val_precision_6: 0.6644 - 6s/epoch - 6ms/step\n",
      "Epoch 39/40\n",
      "1054/1054 - 6s - loss: 0.5732 - precision_6: 0.7013 - val_loss: 0.5646 - val_precision_6: 0.6981 - 6s/epoch - 5ms/step\n",
      "Epoch 40/40\n",
      "1054/1054 - 6s - loss: 0.5728 - precision_6: 0.6959 - val_loss: 0.5653 - val_precision_6: 0.6908 - 6s/epoch - 5ms/step\n",
      "55/55 [==============================] - 0s 4ms/step - loss: 0.5653 - precision_6: 0.6908\n",
      "Score for fold 7: loss of 0.5653278827667236; precision_6 of 69.07545328140259%\n",
      "------------------------------------------------------------------------\n",
      "Training for fold 8 ...\n",
      "Epoch 1/40\n",
      "1054/1054 - 7s - loss: 0.6577 - precision_7: 0.6302 - val_loss: 0.6129 - val_precision_7: 0.6730 - 7s/epoch - 7ms/step\n",
      "Epoch 2/40\n",
      "1054/1054 - 8s - loss: 0.6332 - precision_7: 0.6542 - val_loss: 0.6141 - val_precision_7: 0.7250 - 8s/epoch - 8ms/step\n",
      "Epoch 3/40\n",
      "1054/1054 - 9s - loss: 0.6300 - precision_7: 0.6597 - val_loss: 0.6066 - val_precision_7: 0.6567 - 9s/epoch - 9ms/step\n",
      "Epoch 4/40\n",
      "1054/1054 - 9s - loss: 0.6291 - precision_7: 0.6637 - val_loss: 0.6142 - val_precision_7: 0.6844 - 9s/epoch - 8ms/step\n",
      "Epoch 5/40\n",
      "1054/1054 - 7s - loss: 0.6237 - precision_7: 0.6604 - val_loss: 0.5968 - val_precision_7: 0.6646 - 7s/epoch - 7ms/step\n",
      "Epoch 6/40\n",
      "1054/1054 - 7s - loss: 0.6226 - precision_7: 0.6679 - val_loss: 0.6033 - val_precision_7: 0.6395 - 7s/epoch - 7ms/step\n",
      "Epoch 7/40\n",
      "1054/1054 - 8s - loss: 0.6231 - precision_7: 0.6621 - val_loss: 0.5971 - val_precision_7: 0.6910 - 8s/epoch - 8ms/step\n",
      "Epoch 8/40\n",
      "1054/1054 - 8s - loss: 0.6204 - precision_7: 0.6676 - val_loss: 0.5998 - val_precision_7: 0.6935 - 8s/epoch - 7ms/step\n",
      "Epoch 9/40\n",
      "1054/1054 - 9s - loss: 0.6175 - precision_7: 0.6776 - val_loss: 0.6020 - val_precision_7: 0.6854 - 9s/epoch - 8ms/step\n",
      "Epoch 10/40\n",
      "1054/1054 - 7s - loss: 0.6123 - precision_7: 0.6736 - val_loss: 0.5945 - val_precision_7: 0.6773 - 7s/epoch - 7ms/step\n",
      "Epoch 11/40\n",
      "1054/1054 - 7s - loss: 0.6157 - precision_7: 0.6743 - val_loss: 0.6011 - val_precision_7: 0.6950 - 7s/epoch - 7ms/step\n",
      "Epoch 12/40\n",
      "1054/1054 - 9s - loss: 0.6115 - precision_7: 0.6816 - val_loss: 0.5888 - val_precision_7: 0.6777 - 9s/epoch - 8ms/step\n",
      "Epoch 13/40\n",
      "1054/1054 - 8s - loss: 0.6103 - precision_7: 0.6785 - val_loss: 0.5954 - val_precision_7: 0.6695 - 8s/epoch - 8ms/step\n",
      "Epoch 14/40\n",
      "1054/1054 - 8s - loss: 0.6071 - precision_7: 0.6819 - val_loss: 0.5881 - val_precision_7: 0.6724 - 8s/epoch - 8ms/step\n",
      "Epoch 15/40\n",
      "1054/1054 - 8s - loss: 0.6078 - precision_7: 0.6896 - val_loss: 0.5895 - val_precision_7: 0.6772 - 8s/epoch - 8ms/step\n",
      "Epoch 16/40\n",
      "1054/1054 - 7s - loss: 0.6048 - precision_7: 0.6802 - val_loss: 0.5770 - val_precision_7: 0.6794 - 7s/epoch - 7ms/step\n",
      "Epoch 17/40\n",
      "1054/1054 - 7s - loss: 0.5999 - precision_7: 0.6758 - val_loss: 0.5790 - val_precision_7: 0.6998 - 7s/epoch - 6ms/step\n",
      "Epoch 18/40\n",
      "1054/1054 - 7s - loss: 0.5989 - precision_7: 0.6862 - val_loss: 0.5784 - val_precision_7: 0.6872 - 7s/epoch - 6ms/step\n",
      "Epoch 19/40\n",
      "1054/1054 - 7s - loss: 0.5990 - precision_7: 0.6774 - val_loss: 0.5802 - val_precision_7: 0.6908 - 7s/epoch - 7ms/step\n",
      "Epoch 20/40\n",
      "1054/1054 - 6s - loss: 0.5976 - precision_7: 0.6882 - val_loss: 0.5713 - val_precision_7: 0.6901 - 6s/epoch - 6ms/step\n",
      "Epoch 21/40\n",
      "1054/1054 - 6s - loss: 0.5963 - precision_7: 0.6788 - val_loss: 0.5760 - val_precision_7: 0.6899 - 6s/epoch - 6ms/step\n",
      "Epoch 22/40\n",
      "1054/1054 - 7s - loss: 0.5937 - precision_7: 0.6855 - val_loss: 0.5829 - val_precision_7: 0.6750 - 7s/epoch - 6ms/step\n"
     ]
    },
    {
     "name": "stdout",
     "output_type": "stream",
     "text": [
      "Epoch 23/40\n",
      "1054/1054 - 6s - loss: 0.5948 - precision_7: 0.6902 - val_loss: 0.5734 - val_precision_7: 0.6869 - 6s/epoch - 6ms/step\n",
      "Epoch 24/40\n",
      "1054/1054 - 6s - loss: 0.5944 - precision_7: 0.6866 - val_loss: 0.5662 - val_precision_7: 0.7088 - 6s/epoch - 6ms/step\n",
      "Epoch 25/40\n",
      "1054/1054 - 6s - loss: 0.5906 - precision_7: 0.6955 - val_loss: 0.5688 - val_precision_7: 0.6958 - 6s/epoch - 6ms/step\n",
      "Epoch 26/40\n",
      "1054/1054 - 7s - loss: 0.5861 - precision_7: 0.6980 - val_loss: 0.5641 - val_precision_7: 0.7017 - 7s/epoch - 6ms/step\n",
      "Epoch 27/40\n",
      "1054/1054 - 6s - loss: 0.5886 - precision_7: 0.6928 - val_loss: 0.5597 - val_precision_7: 0.7070 - 6s/epoch - 6ms/step\n",
      "Epoch 28/40\n",
      "1054/1054 - 7s - loss: 0.5838 - precision_7: 0.6995 - val_loss: 0.5630 - val_precision_7: 0.7043 - 7s/epoch - 6ms/step\n",
      "Epoch 29/40\n",
      "1054/1054 - 7s - loss: 0.5846 - precision_7: 0.6940 - val_loss: 0.5655 - val_precision_7: 0.6918 - 7s/epoch - 7ms/step\n",
      "Epoch 30/40\n",
      "1054/1054 - 7s - loss: 0.5819 - precision_7: 0.6988 - val_loss: 0.5591 - val_precision_7: 0.6952 - 7s/epoch - 6ms/step\n",
      "Epoch 31/40\n",
      "1054/1054 - 7s - loss: 0.5790 - precision_7: 0.6985 - val_loss: 0.5549 - val_precision_7: 0.7063 - 7s/epoch - 6ms/step\n",
      "Epoch 32/40\n",
      "1054/1054 - 6s - loss: 0.5787 - precision_7: 0.6979 - val_loss: 0.5603 - val_precision_7: 0.7041 - 6s/epoch - 6ms/step\n",
      "Epoch 33/40\n",
      "1054/1054 - 6s - loss: 0.5791 - precision_7: 0.6988 - val_loss: 0.5531 - val_precision_7: 0.6971 - 6s/epoch - 6ms/step\n",
      "Epoch 34/40\n",
      "1054/1054 - 6s - loss: 0.5754 - precision_7: 0.6991 - val_loss: 0.5519 - val_precision_7: 0.6966 - 6s/epoch - 6ms/step\n",
      "Epoch 35/40\n",
      "1054/1054 - 7s - loss: 0.5759 - precision_7: 0.6949 - val_loss: 0.5507 - val_precision_7: 0.7110 - 7s/epoch - 6ms/step\n",
      "Epoch 36/40\n",
      "1054/1054 - 6s - loss: 0.5721 - precision_7: 0.7018 - val_loss: 0.5572 - val_precision_7: 0.7152 - 6s/epoch - 6ms/step\n",
      "Epoch 37/40\n",
      "1054/1054 - 6s - loss: 0.5711 - precision_7: 0.6991 - val_loss: 0.5722 - val_precision_7: 0.6734 - 6s/epoch - 6ms/step\n",
      "Epoch 38/40\n",
      "1054/1054 - 6s - loss: 0.5712 - precision_7: 0.6966 - val_loss: 0.5576 - val_precision_7: 0.6986 - 6s/epoch - 6ms/step\n",
      "Epoch 39/40\n",
      "1054/1054 - 7s - loss: 0.5693 - precision_7: 0.7003 - val_loss: 0.5499 - val_precision_7: 0.7146 - 7s/epoch - 6ms/step\n",
      "Epoch 40/40\n",
      "1054/1054 - 7s - loss: 0.5673 - precision_7: 0.7089 - val_loss: 0.5574 - val_precision_7: 0.7089 - 7s/epoch - 6ms/step\n",
      "55/55 [==============================] - 1s 5ms/step - loss: 0.5574 - precision_7: 0.7089\n",
      "Score for fold 8: loss of 0.5574355125427246; precision_7 of 70.88607549667358%\n",
      "------------------------------------------------------------------------\n",
      "Training for fold 9 ...\n",
      "Epoch 1/40\n",
      "1054/1054 - 9s - loss: 0.6580 - precision_8: 0.6354 - val_loss: 0.6352 - val_precision_8: 0.6792 - 9s/epoch - 8ms/step\n",
      "Epoch 2/40\n",
      "1054/1054 - 6s - loss: 0.6428 - precision_8: 0.6632 - val_loss: 0.6196 - val_precision_8: 0.6791 - 6s/epoch - 6ms/step\n",
      "Epoch 3/40\n",
      "1054/1054 - 7s - loss: 0.6293 - precision_8: 0.6759 - val_loss: 0.6152 - val_precision_8: 0.6659 - 7s/epoch - 6ms/step\n",
      "Epoch 4/40\n",
      "1054/1054 - 6s - loss: 0.6278 - precision_8: 0.6776 - val_loss: 0.6148 - val_precision_8: 0.6819 - 6s/epoch - 6ms/step\n",
      "Epoch 5/40\n",
      "1054/1054 - 8s - loss: 0.6290 - precision_8: 0.6876 - val_loss: 0.6171 - val_precision_8: 0.6789 - 8s/epoch - 7ms/step\n",
      "Epoch 6/40\n",
      "1054/1054 - 7s - loss: 0.6261 - precision_8: 0.6736 - val_loss: 0.6204 - val_precision_8: 0.6707 - 7s/epoch - 6ms/step\n",
      "Epoch 7/40\n",
      "1054/1054 - 7s - loss: 0.6239 - precision_8: 0.6773 - val_loss: 0.6161 - val_precision_8: 0.6784 - 7s/epoch - 6ms/step\n",
      "Epoch 8/40\n",
      "1054/1054 - 7s - loss: 0.6207 - precision_8: 0.6804 - val_loss: 0.6200 - val_precision_8: 0.6639 - 7s/epoch - 7ms/step\n",
      "Epoch 9/40\n",
      "1054/1054 - 7s - loss: 0.6212 - precision_8: 0.6688 - val_loss: 0.6120 - val_precision_8: 0.6716 - 7s/epoch - 7ms/step\n",
      "Epoch 10/40\n",
      "1054/1054 - 7s - loss: 0.6171 - precision_8: 0.6718 - val_loss: 0.6190 - val_precision_8: 0.7050 - 7s/epoch - 7ms/step\n",
      "Epoch 11/40\n",
      "1054/1054 - 7s - loss: 0.6155 - precision_8: 0.6783 - val_loss: 0.6054 - val_precision_8: 0.7039 - 7s/epoch - 7ms/step\n",
      "Epoch 12/40\n",
      "1054/1054 - 7s - loss: 0.6151 - precision_8: 0.6860 - val_loss: 0.5991 - val_precision_8: 0.6935 - 7s/epoch - 7ms/step\n",
      "Epoch 13/40\n",
      "1054/1054 - 8s - loss: 0.6140 - precision_8: 0.6791 - val_loss: 0.6054 - val_precision_8: 0.6663 - 8s/epoch - 7ms/step\n",
      "Epoch 14/40\n",
      "1054/1054 - 7s - loss: 0.6105 - precision_8: 0.6748 - val_loss: 0.5995 - val_precision_8: 0.7025 - 7s/epoch - 7ms/step\n",
      "Epoch 15/40\n",
      "1054/1054 - 6s - loss: 0.6083 - precision_8: 0.6782 - val_loss: 0.6019 - val_precision_8: 0.6894 - 6s/epoch - 6ms/step\n",
      "Epoch 16/40\n",
      "1054/1054 - 8s - loss: 0.6070 - precision_8: 0.6778 - val_loss: 0.5985 - val_precision_8: 0.6642 - 8s/epoch - 7ms/step\n",
      "Epoch 17/40\n",
      "1054/1054 - 9s - loss: 0.6092 - precision_8: 0.6830 - val_loss: 0.5982 - val_precision_8: 0.6780 - 9s/epoch - 8ms/step\n",
      "Epoch 18/40\n",
      "1054/1054 - 8s - loss: 0.6059 - precision_8: 0.6777 - val_loss: 0.5910 - val_precision_8: 0.6844 - 8s/epoch - 7ms/step\n",
      "Epoch 19/40\n",
      "1054/1054 - 7s - loss: 0.6034 - precision_8: 0.6743 - val_loss: 0.5982 - val_precision_8: 0.6730 - 7s/epoch - 7ms/step\n",
      "Epoch 20/40\n",
      "1054/1054 - 7s - loss: 0.6044 - precision_8: 0.6822 - val_loss: 0.6017 - val_precision_8: 0.6701 - 7s/epoch - 7ms/step\n",
      "Epoch 21/40\n",
      "1054/1054 - 7s - loss: 0.6011 - precision_8: 0.6831 - val_loss: 0.5950 - val_precision_8: 0.6811 - 7s/epoch - 7ms/step\n",
      "Epoch 22/40\n",
      "1054/1054 - 7s - loss: 0.6020 - precision_8: 0.6919 - val_loss: 0.5900 - val_precision_8: 0.6835 - 7s/epoch - 6ms/step\n",
      "Epoch 23/40\n",
      "1054/1054 - 7s - loss: 0.5965 - precision_8: 0.6837 - val_loss: 0.5935 - val_precision_8: 0.6937 - 7s/epoch - 6ms/step\n",
      "Epoch 24/40\n",
      "1054/1054 - 7s - loss: 0.5965 - precision_8: 0.6881 - val_loss: 0.5895 - val_precision_8: 0.6880 - 7s/epoch - 6ms/step\n",
      "Epoch 25/40\n",
      "1054/1054 - 7s - loss: 0.5961 - precision_8: 0.6888 - val_loss: 0.5909 - val_precision_8: 0.6882 - 7s/epoch - 6ms/step\n",
      "Epoch 26/40\n",
      "1054/1054 - 6s - loss: 0.5949 - precision_8: 0.6871 - val_loss: 0.5796 - val_precision_8: 0.7073 - 6s/epoch - 6ms/step\n",
      "Epoch 27/40\n",
      "1054/1054 - 7s - loss: 0.5951 - precision_8: 0.6895 - val_loss: 0.5835 - val_precision_8: 0.6870 - 7s/epoch - 6ms/step\n",
      "Epoch 28/40\n",
      "1054/1054 - 6s - loss: 0.5924 - precision_8: 0.6917 - val_loss: 0.5858 - val_precision_8: 0.6731 - 6s/epoch - 6ms/step\n",
      "Epoch 29/40\n",
      "1054/1054 - 7s - loss: 0.5895 - precision_8: 0.6918 - val_loss: 0.5825 - val_precision_8: 0.6851 - 7s/epoch - 6ms/step\n",
      "Epoch 30/40\n",
      "1054/1054 - 7s - loss: 0.5919 - precision_8: 0.6915 - val_loss: 0.5817 - val_precision_8: 0.6878 - 7s/epoch - 7ms/step\n",
      "Epoch 31/40\n",
      "1054/1054 - 7s - loss: 0.5889 - precision_8: 0.6898 - val_loss: 0.5827 - val_precision_8: 0.7042 - 7s/epoch - 7ms/step\n",
      "Epoch 32/40\n",
      "1054/1054 - 7s - loss: 0.5906 - precision_8: 0.6934 - val_loss: 0.5711 - val_precision_8: 0.6853 - 7s/epoch - 7ms/step\n",
      "Epoch 33/40\n",
      "1054/1054 - 6s - loss: 0.5872 - precision_8: 0.6908 - val_loss: 0.5694 - val_precision_8: 0.6950 - 6s/epoch - 6ms/step\n",
      "Epoch 34/40\n",
      "1054/1054 - 6s - loss: 0.5843 - precision_8: 0.6942 - val_loss: 0.5739 - val_precision_8: 0.6942 - 6s/epoch - 6ms/step\n",
      "Epoch 35/40\n",
      "1054/1054 - 7s - loss: 0.5844 - precision_8: 0.7054 - val_loss: 0.5710 - val_precision_8: 0.7098 - 7s/epoch - 7ms/step\n",
      "Epoch 36/40\n",
      "1054/1054 - 9s - loss: 0.5847 - precision_8: 0.7001 - val_loss: 0.5686 - val_precision_8: 0.7038 - 9s/epoch - 8ms/step\n",
      "Epoch 37/40\n",
      "1054/1054 - 7s - loss: 0.5828 - precision_8: 0.7015 - val_loss: 0.5692 - val_precision_8: 0.6999 - 7s/epoch - 7ms/step\n",
      "Epoch 38/40\n",
      "1054/1054 - 7s - loss: 0.5777 - precision_8: 0.7060 - val_loss: 0.5728 - val_precision_8: 0.6865 - 7s/epoch - 6ms/step\n",
      "Epoch 39/40\n",
      "1054/1054 - 7s - loss: 0.5815 - precision_8: 0.7028 - val_loss: 0.5663 - val_precision_8: 0.7047 - 7s/epoch - 6ms/step\n",
      "Epoch 40/40\n",
      "1054/1054 - 7s - loss: 0.5819 - precision_8: 0.7025 - val_loss: 0.5717 - val_precision_8: 0.7012 - 7s/epoch - 7ms/step\n",
      "55/55 [==============================] - 0s 4ms/step - loss: 0.5717 - precision_8: 0.7012\n",
      "Score for fold 9: loss of 0.5716983079910278; precision_8 of 70.11865973472595%\n",
      "------------------------------------------------------------------------\n",
      "Training for fold 10 ...\n",
      "Epoch 1/40\n",
      "1054/1054 - 8s - loss: 0.6610 - precision_9: 0.6200 - val_loss: 0.6330 - val_precision_9: 0.6868 - 8s/epoch - 7ms/step\n"
     ]
    },
    {
     "name": "stdout",
     "output_type": "stream",
     "text": [
      "Epoch 2/40\n",
      "1054/1054 - 6s - loss: 0.6428 - precision_9: 0.6563 - val_loss: 0.6193 - val_precision_9: 0.6587 - 6s/epoch - 6ms/step\n",
      "Epoch 3/40\n",
      "1054/1054 - 6s - loss: 0.6339 - precision_9: 0.6702 - val_loss: 0.6195 - val_precision_9: 0.6827 - 6s/epoch - 6ms/step\n",
      "Epoch 4/40\n",
      "1054/1054 - 6s - loss: 0.6272 - precision_9: 0.6725 - val_loss: 0.6148 - val_precision_9: 0.6799 - 6s/epoch - 6ms/step\n",
      "Epoch 5/40\n",
      "1054/1054 - 6s - loss: 0.6269 - precision_9: 0.6694 - val_loss: 0.6192 - val_precision_9: 0.6692 - 6s/epoch - 6ms/step\n",
      "Epoch 6/40\n",
      "1054/1054 - 7s - loss: 0.6245 - precision_9: 0.6743 - val_loss: 0.6070 - val_precision_9: 0.6593 - 7s/epoch - 6ms/step\n",
      "Epoch 7/40\n",
      "1054/1054 - 6s - loss: 0.6220 - precision_9: 0.6767 - val_loss: 0.6132 - val_precision_9: 0.6898 - 6s/epoch - 6ms/step\n",
      "Epoch 8/40\n",
      "1054/1054 - 6s - loss: 0.6204 - precision_9: 0.6825 - val_loss: 0.6107 - val_precision_9: 0.6730 - 6s/epoch - 6ms/step\n",
      "Epoch 9/40\n",
      "1054/1054 - 6s - loss: 0.6170 - precision_9: 0.6757 - val_loss: 0.6152 - val_precision_9: 0.7266 - 6s/epoch - 6ms/step\n",
      "Epoch 10/40\n",
      "1054/1054 - 6s - loss: 0.6174 - precision_9: 0.6776 - val_loss: 0.6066 - val_precision_9: 0.6795 - 6s/epoch - 6ms/step\n",
      "Epoch 11/40\n",
      "1054/1054 - 6s - loss: 0.6138 - precision_9: 0.6763 - val_loss: 0.6013 - val_precision_9: 0.6725 - 6s/epoch - 6ms/step\n",
      "Epoch 12/40\n",
      "1054/1054 - 6s - loss: 0.6126 - precision_9: 0.6809 - val_loss: 0.6103 - val_precision_9: 0.6839 - 6s/epoch - 6ms/step\n",
      "Epoch 13/40\n",
      "1054/1054 - 6s - loss: 0.6096 - precision_9: 0.6843 - val_loss: 0.6059 - val_precision_9: 0.6674 - 6s/epoch - 6ms/step\n",
      "Epoch 14/40\n",
      "1054/1054 - 6s - loss: 0.6082 - precision_9: 0.6799 - val_loss: 0.5950 - val_precision_9: 0.6809 - 6s/epoch - 6ms/step\n",
      "Epoch 15/40\n",
      "1054/1054 - 6s - loss: 0.6086 - precision_9: 0.6831 - val_loss: 0.6002 - val_precision_9: 0.6928 - 6s/epoch - 6ms/step\n",
      "Epoch 16/40\n",
      "1054/1054 - 6s - loss: 0.6055 - precision_9: 0.6870 - val_loss: 0.5975 - val_precision_9: 0.6895 - 6s/epoch - 6ms/step\n",
      "Epoch 17/40\n",
      "1054/1054 - 6s - loss: 0.6023 - precision_9: 0.6859 - val_loss: 0.5933 - val_precision_9: 0.6639 - 6s/epoch - 6ms/step\n",
      "Epoch 18/40\n",
      "1054/1054 - 6s - loss: 0.6015 - precision_9: 0.6840 - val_loss: 0.5869 - val_precision_9: 0.6866 - 6s/epoch - 6ms/step\n",
      "Epoch 19/40\n",
      "1054/1054 - 6s - loss: 0.6010 - precision_9: 0.6854 - val_loss: 0.5909 - val_precision_9: 0.6844 - 6s/epoch - 6ms/step\n",
      "Epoch 20/40\n",
      "1054/1054 - 6s - loss: 0.5984 - precision_9: 0.6860 - val_loss: 0.5896 - val_precision_9: 0.6770 - 6s/epoch - 6ms/step\n",
      "Epoch 21/40\n",
      "1054/1054 - 6s - loss: 0.5995 - precision_9: 0.6849 - val_loss: 0.5860 - val_precision_9: 0.6824 - 6s/epoch - 6ms/step\n",
      "Epoch 22/40\n",
      "1054/1054 - 6s - loss: 0.5975 - precision_9: 0.6868 - val_loss: 0.5899 - val_precision_9: 0.7093 - 6s/epoch - 6ms/step\n",
      "Epoch 23/40\n",
      "1054/1054 - 6s - loss: 0.5929 - precision_9: 0.6959 - val_loss: 0.5897 - val_precision_9: 0.6646 - 6s/epoch - 6ms/step\n",
      "Epoch 24/40\n",
      "1054/1054 - 6s - loss: 0.5957 - precision_9: 0.6838 - val_loss: 0.5889 - val_precision_9: 0.6892 - 6s/epoch - 6ms/step\n",
      "Epoch 25/40\n",
      "1054/1054 - 6s - loss: 0.5960 - precision_9: 0.6878 - val_loss: 0.5854 - val_precision_9: 0.6967 - 6s/epoch - 6ms/step\n",
      "Epoch 26/40\n",
      "1054/1054 - 6s - loss: 0.5905 - precision_9: 0.6985 - val_loss: 0.5842 - val_precision_9: 0.6884 - 6s/epoch - 6ms/step\n",
      "Epoch 27/40\n",
      "1054/1054 - 6s - loss: 0.5925 - precision_9: 0.6899 - val_loss: 0.5803 - val_precision_9: 0.7023 - 6s/epoch - 6ms/step\n",
      "Epoch 28/40\n",
      "1054/1054 - 6s - loss: 0.5885 - precision_9: 0.6946 - val_loss: 0.5736 - val_precision_9: 0.6842 - 6s/epoch - 6ms/step\n",
      "Epoch 29/40\n",
      "1054/1054 - 6s - loss: 0.5881 - precision_9: 0.6955 - val_loss: 0.5826 - val_precision_9: 0.6811 - 6s/epoch - 6ms/step\n",
      "Epoch 30/40\n",
      "1054/1054 - 6s - loss: 0.5873 - precision_9: 0.6949 - val_loss: 0.5769 - val_precision_9: 0.6976 - 6s/epoch - 6ms/step\n",
      "Epoch 31/40\n",
      "1054/1054 - 7s - loss: 0.5840 - precision_9: 0.6915 - val_loss: 0.5747 - val_precision_9: 0.7024 - 7s/epoch - 6ms/step\n",
      "Epoch 32/40\n",
      "1054/1054 - 6s - loss: 0.5864 - precision_9: 0.6931 - val_loss: 0.5717 - val_precision_9: 0.7204 - 6s/epoch - 6ms/step\n",
      "Epoch 33/40\n",
      "1054/1054 - 6s - loss: 0.5800 - precision_9: 0.7048 - val_loss: 0.5710 - val_precision_9: 0.7100 - 6s/epoch - 6ms/step\n",
      "Epoch 34/40\n",
      "1054/1054 - 6s - loss: 0.5827 - precision_9: 0.6999 - val_loss: 0.5702 - val_precision_9: 0.7123 - 6s/epoch - 6ms/step\n",
      "Epoch 35/40\n",
      "1054/1054 - 6s - loss: 0.5826 - precision_9: 0.7038 - val_loss: 0.5690 - val_precision_9: 0.6993 - 6s/epoch - 6ms/step\n",
      "Epoch 36/40\n",
      "1054/1054 - 6s - loss: 0.5808 - precision_9: 0.6986 - val_loss: 0.5600 - val_precision_9: 0.7172 - 6s/epoch - 6ms/step\n",
      "Epoch 37/40\n",
      "1054/1054 - 6s - loss: 0.5761 - precision_9: 0.7074 - val_loss: 0.5750 - val_precision_9: 0.7013 - 6s/epoch - 6ms/step\n",
      "Epoch 38/40\n",
      "1054/1054 - 6s - loss: 0.5747 - precision_9: 0.6947 - val_loss: 0.5651 - val_precision_9: 0.7116 - 6s/epoch - 6ms/step\n",
      "Epoch 39/40\n",
      "1054/1054 - 6s - loss: 0.5718 - precision_9: 0.7019 - val_loss: 0.5696 - val_precision_9: 0.6964 - 6s/epoch - 6ms/step\n",
      "Epoch 40/40\n",
      "1054/1054 - 6s - loss: 0.5729 - precision_9: 0.7030 - val_loss: 0.5615 - val_precision_9: 0.7130 - 6s/epoch - 6ms/step\n",
      "55/55 [==============================] - 0s 3ms/step - loss: 0.5615 - precision_9: 0.7130\n",
      "Score for fold 10: loss of 0.5615198016166687; precision_9 of 71.30144834518433%\n"
     ]
    }
   ],
   "source": [
    "fold_no = 1\n",
    "acc_per_fold = []\n",
    "loss_per_fold = []\n",
    "\n",
    "acc_train_his = []\n",
    "acc_val_his = []\n",
    "\n",
    "loss_train_his = []\n",
    "loss_val_his = []\n",
    "\n",
    "for train, test in skf.split(X, y):   \n",
    "    model = Sequential()\n",
    "    model.add(Conv1D(32, 1, activation='relu',input_shape=(16, 1)))\n",
    "    model.add(BatchNormalization())\n",
    "    model.add(Dropout(.5))\n",
    "    model.add(Conv1D(64, 3, activation='relu', padding='same'))    \n",
    "    model.add(MaxPooling1D(pool_size = 2, padding='same'))\n",
    "    model.add(Conv1D(128, 1, activation='relu', padding='same'))\n",
    "    model.add(BatchNormalization())\n",
    "    model.add(Conv1D(128, 3, activation='relu', padding='same'))    \n",
    "    model.add(MaxPooling1D(pool_size = 2, padding='same'))\n",
    "    model.add(Conv1D(64, 3, activation='relu', padding='same'))\n",
    "    model.add(Flatten())\n",
    "    model.add(Dense(32, activation='relu'))\n",
    "    model.add(Dropout(.5))\n",
    "    model.add(Dense(1, activation='sigmoid'))\n",
    "    \"\"\"\n",
    "    model = Sequential()\n",
    "    model.add(Conv1D(32, 1, activation='relu',input_shape=(21, 1)))\n",
    "    model.add(Dropout(.2))\n",
    "    model.add(Conv1D(64, 3, activation='relu', padding='same'))\n",
    "    model.add(Dropout(.2))\n",
    "    model.add(MaxPooling1D(pool_size = 2, padding='same'))\n",
    "    model.add(Conv1D(128, 1, activation='relu', padding='same'))\n",
    "    #model.add(Conv1D(128, 3, activation='relu', padding='same'))\n",
    "   # model.add(Dropout(.5))\n",
    "    model.add(MaxPooling1D(pool_size = 2, padding='same'))\n",
    "   # model.add(Conv1D(64, 3, activation='relu', padding='same'))\n",
    "    model.add(Flatten())\n",
    "    model.add(Dense(32, activation='relu'))\n",
    "    model.add(Dropout(.2))\n",
    "    model.add(Dense(1, activation='sigmoid'))\n",
    "    \n",
    "    model = Sequential()\n",
    "    model.add(Conv2D(32, (1, 1), activation='relu', input_shape=(21, 1)))\n",
    "    #model.add(Dropout(.2))   \n",
    "    model.add(Conv2D(64, (3, 3), activation='relu', padding='same'))\n",
    "    model.add(Dropout(.2))\n",
    "    model.add(MaxPooling2D((2, 2), padding='same'))\n",
    "    model.add(Conv2D(128, (1, 1), activation='relu', padding='same'))\n",
    "    #model.add(Dropout(.2))\n",
    "    model.add(MaxPooling2D((2, 2), padding='same'))\n",
    "    model.add(Conv2D(64, (3, 3), activation='relu', padding='same'))\n",
    "    model.add(Flatten())\n",
    "    model.add(Dense(32, activation='relu'))\n",
    "    model.add(Dropout(.2))\n",
    "    model.add(Dense(1, activation='sigmoid'))   \n",
    "    \n",
    "    \"\"\"\n",
    "    model.compile(loss='binary_crossentropy', optimizer='adam', metrics=[tf.keras.metrics.Precision()])\n",
    "  #  model.compile(loss='binary_crossentropy', optimizer='adam', metrics=['accuracy'])\n",
    "    \n",
    "    print('------------------------------------------------------------------------')\n",
    "    print(f'Training for fold {fold_no} ...')\n",
    "    \n",
    "    history = model.fit(X[train], y[train], batch_size = 15, epochs = 40, validation_data=(X[test], y[test]), verbose = 2)\n",
    "    \n",
    "    # Generate generalization metrics\n",
    "    scores = model.evaluate(X[test], y[test], verbose = 1)\n",
    "    print(f'Score for fold {fold_no}: {model.metrics_names[0]} of {scores[0]}; {model.metrics_names[1]} of {scores[1]*100}%')\n",
    "    acc_per_fold.append(scores[1] * 100)\n",
    "    loss_per_fold.append(scores[0])\n",
    "\n",
    "  #  acc_train_his.append(history.history['accuracy'])\n",
    " #   acc_val_his.append(history.history['val_accuracy'])\n",
    "    \n",
    "    loss_train_his.append(history.history['loss'])\n",
    "    loss_val_his.append(history.history['val_loss'])\n",
    "    \n",
    "    fold_no = fold_no + 1"
   ]
  },
  {
   "cell_type": "code",
   "execution_count": 115,
   "metadata": {
    "colab": {
     "base_uri": "https://localhost:8080/"
    },
    "executionInfo": {
     "elapsed": 202,
     "status": "ok",
     "timestamp": 1678721143918,
     "user": {
      "displayName": "Hà Thị Minh Phương",
      "userId": "03221265603374510364"
     },
     "user_tz": 0
    },
    "id": "N02Q8-ilbE8O",
    "outputId": "6ac2c0d1-9ed0-4bf6-eb06-52d939604823"
   },
   "outputs": [
    {
     "name": "stdout",
     "output_type": "stream",
     "text": [
      "Mean Acc: 79.2212975025177\n"
     ]
    }
   ],
   "source": [
    "print(f'Mean Acc: {np.mean(np.array(acc_per_fold))}')"
   ]
  },
  {
   "cell_type": "code",
   "execution_count": 28,
   "metadata": {
    "colab": {
     "base_uri": "https://localhost:8080/",
     "height": 594
    },
    "executionInfo": {
     "elapsed": 1847,
     "status": "ok",
     "timestamp": 1678721164170,
     "user": {
      "displayName": "Hà Thị Minh Phương",
      "userId": "03221265603374510364"
     },
     "user_tz": 0
    },
    "id": "kcl9fp2KbE1e",
    "outputId": "ea36ad49-60d5-4a55-b3b0-0fd6b76b4bce"
   },
   "outputs": [
    {
     "data": {
      "image/png": "[encoded data removed]",
      "text/plain": [
       "<Figure size 1800x720 with 10 Axes>"
      ]
     },
     "metadata": {
      "needs_background": "light"
     },
     "output_type": "display_data"
    }
   ],
   "source": [
    "fig, axs = plt.subplots(2, 5, figsize=(25, 10))\n",
    "\n",
    "for i in range(len(acc_train_his)):\n",
    "    axs[0 + i // 5, i % 5].plot(loss_train_his[i])\n",
    "    axs[0 + i // 5, i % 5].plot(loss_val_his[i])\n",
    "    axs[0 + i // 5, i % 5].set_title(f'model loss fold{i + 1}')\n",
    "    axs[0 + i // 5, i % 5].legend([f'train{i}', f'val{i}'], loc='upper left')\n",
    "    \n",
    "for ax in axs.flat:\n",
    "    ax.set(xlabel='epoch', ylabel='accuracy')\n",
    "\n",
    "# Hide x labels and tick labels for top plots and y ticks for right plots.\n",
    "for ax in axs.flat:\n",
    "    ax.label_outer()"
   ]
  },
  {
   "cell_type": "code",
   "execution_count": 29,
   "metadata": {
    "executionInfo": {
     "elapsed": 526,
     "status": "ok",
     "timestamp": 1678721174255,
     "user": {
      "displayName": "Hà Thị Minh Phương",
      "userId": "03221265603374510364"
     },
     "user_tz": 0
    },
    "id": "8UdQDtwUd7Id"
   },
   "outputs": [],
   "source": [
    "import pandas as pd\n",
    "import numpy as np\n",
    "from numpy import savetxt\n",
    "from scipy.io.arff import loadarff \n",
    "from sklearn import preprocessing\n",
    "import torch\n",
    "import seaborn as sns\n",
    "\n",
    "from matplotlib import pyplot as plt\n",
    "\n",
    "from sklearn.model_selection import train_test_split\n",
    "from sklearn.preprocessing import StandardScaler\n",
    "from sklearn.model_selection import StratifiedKFold, cross_val_score\n",
    "from sklearn.feature_selection import chi2, RFE\n",
    "\n",
    "# models\n",
    "from sklearn.linear_model import LogisticRegression, Ridge\n",
    "from sklearn.ensemble import RandomForestClassifier\n",
    "from sklearn.tree import DecisionTreeClassifier\n",
    "from sklearn.svm import SVC\n",
    "from sklearn.ensemble import ExtraTreesClassifier, AdaBoostClassifier, StackingClassifier\n",
    "import xgboost as xgb\n",
    "\n",
    "import tensorflow as tf\n",
    "from tensorflow.keras.layers import Input, Dropout, Dense, Flatten, Conv2D, MaxPooling2D, BatchNormalization, Conv1D, MaxPooling1D\n",
    "from tensorflow.keras.models import Model, Sequential\n",
    "from tensorflow.keras.optimizers import Adam\n",
    "\n",
    "from collections import Counter\n",
    "\n",
    "from imblearn.over_sampling import SMOTE\n",
    "from imblearn.under_sampling import RandomUnderSampler\n",
    "from imblearn.pipeline import Pipeline\n",
    "\n",
    "from imblearn.metrics import geometric_mean_score\n",
    "from sklearn.metrics import roc_auc_score, accuracy_score, f1_score, balanced_accuracy_score, average_precision_score, \\\n",
    "    mean_squared_error, r2_score, brier_score_loss\n",
    "from sklearn.utils import resample\n",
    "from scipy.stats import pearsonr\n",
    "#from sklearn.metrics import plot_confusion_matrix\n",
    "from sklearn.metrics import classification_report\n",
    "import json\n",
    "from sklearn.preprocessing import MinMaxScaler\n",
    "from tensorflow.keras import regularizers\n",
    "\n",
    "import random\n",
    "import string\n",
    "import datetime\n",
    "\n",
    "from typing import Tuple\n",
    "\n",
    "import logging\n",
    "import keras\n",
    "from tensorflow.keras import optimizers\n",
    "from tensorflow.keras.optimizers import schedules\n",
    "from tensorflow.keras import optimizers\n",
    "\n",
    "from tensorflow import keras\n",
    "from sklearn.ensemble import HistGradientBoostingClassifier"
   ]
  },
  {
   "cell_type": "code",
   "execution_count": 30,
   "metadata": {
    "colab": {
     "base_uri": "https://localhost:8080/"
    },
    "executionInfo": {
     "elapsed": 15970,
     "status": "ok",
     "timestamp": 1678721197009,
     "user": {
      "displayName": "Hà Thị Minh Phương",
      "userId": "03221265603374510364"
     },
     "user_tz": 0
    },
    "id": "8QiOHrzybEg4",
    "outputId": "9f00adb3-0b75-42fd-fbc4-5baa5949f2ee"
   },
   "outputs": [
    {
     "name": "stdout",
     "output_type": "stream",
     "text": [
      "------------------------------------------------------------------------\n",
      "Training for fold 1 ...\n"
     ]
    },
    {
     "name": "stderr",
     "output_type": "stream",
     "text": [
      "/usr/local/lib/python3.9/dist-packages/sklearn/ensemble/_forest.py:424: FutureWarning: `max_features='auto'` has been deprecated in 1.1 and will be removed in 1.3. To keep the past behaviour, explicitly set `max_features='sqrt'` or remove this parameter as it is also the default value for RandomForestClassifiers and ExtraTreesClassifiers.\n",
      "  warn(\n"
     ]
    },
    {
     "name": "stdout",
     "output_type": "stream",
     "text": [
      "Score for fold 1: 0.9746543778801844\n",
      "------------------------------------------------------------------------\n",
      "Training for fold 2 ...\n"
     ]
    },
    {
     "name": "stderr",
     "output_type": "stream",
     "text": [
      "/usr/local/lib/python3.9/dist-packages/sklearn/ensemble/_forest.py:424: FutureWarning: `max_features='auto'` has been deprecated in 1.1 and will be removed in 1.3. To keep the past behaviour, explicitly set `max_features='sqrt'` or remove this parameter as it is also the default value for RandomForestClassifiers and ExtraTreesClassifiers.\n",
      "  warn(\n"
     ]
    },
    {
     "name": "stdout",
     "output_type": "stream",
     "text": [
      "Score for fold 2: 0.967741935483871\n",
      "------------------------------------------------------------------------\n",
      "Training for fold 3 ...\n"
     ]
    },
    {
     "name": "stderr",
     "output_type": "stream",
     "text": [
      "/usr/local/lib/python3.9/dist-packages/sklearn/ensemble/_forest.py:424: FutureWarning: `max_features='auto'` has been deprecated in 1.1 and will be removed in 1.3. To keep the past behaviour, explicitly set `max_features='sqrt'` or remove this parameter as it is also the default value for RandomForestClassifiers and ExtraTreesClassifiers.\n",
      "  warn(\n"
     ]
    },
    {
     "name": "stdout",
     "output_type": "stream",
     "text": [
      "Score for fold 3: 0.9792147806004619\n",
      "------------------------------------------------------------------------\n",
      "Training for fold 4 ...\n"
     ]
    },
    {
     "name": "stderr",
     "output_type": "stream",
     "text": [
      "/usr/local/lib/python3.9/dist-packages/sklearn/ensemble/_forest.py:424: FutureWarning: `max_features='auto'` has been deprecated in 1.1 and will be removed in 1.3. To keep the past behaviour, explicitly set `max_features='sqrt'` or remove this parameter as it is also the default value for RandomForestClassifiers and ExtraTreesClassifiers.\n",
      "  warn(\n"
     ]
    },
    {
     "name": "stdout",
     "output_type": "stream",
     "text": [
      "Score for fold 4: 0.9676674364896074\n",
      "------------------------------------------------------------------------\n",
      "Training for fold 5 ...\n"
     ]
    },
    {
     "name": "stderr",
     "output_type": "stream",
     "text": [
      "/usr/local/lib/python3.9/dist-packages/sklearn/ensemble/_forest.py:424: FutureWarning: `max_features='auto'` has been deprecated in 1.1 and will be removed in 1.3. To keep the past behaviour, explicitly set `max_features='sqrt'` or remove this parameter as it is also the default value for RandomForestClassifiers and ExtraTreesClassifiers.\n",
      "  warn(\n"
     ]
    },
    {
     "name": "stdout",
     "output_type": "stream",
     "text": [
      "Score for fold 5: 0.9491916859122402\n",
      "------------------------------------------------------------------------\n",
      "Training for fold 6 ...\n"
     ]
    },
    {
     "name": "stderr",
     "output_type": "stream",
     "text": [
      "/usr/local/lib/python3.9/dist-packages/sklearn/ensemble/_forest.py:424: FutureWarning: `max_features='auto'` has been deprecated in 1.1 and will be removed in 1.3. To keep the past behaviour, explicitly set `max_features='sqrt'` or remove this parameter as it is also the default value for RandomForestClassifiers and ExtraTreesClassifiers.\n",
      "  warn(\n"
     ]
    },
    {
     "name": "stdout",
     "output_type": "stream",
     "text": [
      "Score for fold 6: 0.9584295612009238\n",
      "------------------------------------------------------------------------\n",
      "Training for fold 7 ...\n"
     ]
    },
    {
     "name": "stderr",
     "output_type": "stream",
     "text": [
      "/usr/local/lib/python3.9/dist-packages/sklearn/ensemble/_forest.py:424: FutureWarning: `max_features='auto'` has been deprecated in 1.1 and will be removed in 1.3. To keep the past behaviour, explicitly set `max_features='sqrt'` or remove this parameter as it is also the default value for RandomForestClassifiers and ExtraTreesClassifiers.\n",
      "  warn(\n"
     ]
    },
    {
     "name": "stdout",
     "output_type": "stream",
     "text": [
      "Score for fold 7: 0.9491916859122402\n",
      "------------------------------------------------------------------------\n",
      "Training for fold 8 ...\n"
     ]
    },
    {
     "name": "stderr",
     "output_type": "stream",
     "text": [
      "/usr/local/lib/python3.9/dist-packages/sklearn/ensemble/_forest.py:424: FutureWarning: `max_features='auto'` has been deprecated in 1.1 and will be removed in 1.3. To keep the past behaviour, explicitly set `max_features='sqrt'` or remove this parameter as it is also the default value for RandomForestClassifiers and ExtraTreesClassifiers.\n",
      "  warn(\n"
     ]
    },
    {
     "name": "stdout",
     "output_type": "stream",
     "text": [
      "Score for fold 8: 0.9676674364896074\n",
      "------------------------------------------------------------------------\n",
      "Training for fold 9 ...\n"
     ]
    },
    {
     "name": "stderr",
     "output_type": "stream",
     "text": [
      "/usr/local/lib/python3.9/dist-packages/sklearn/ensemble/_forest.py:424: FutureWarning: `max_features='auto'` has been deprecated in 1.1 and will be removed in 1.3. To keep the past behaviour, explicitly set `max_features='sqrt'` or remove this parameter as it is also the default value for RandomForestClassifiers and ExtraTreesClassifiers.\n",
      "  warn(\n"
     ]
    },
    {
     "name": "stdout",
     "output_type": "stream",
     "text": [
      "Score for fold 9: 0.9653579676674365\n",
      "------------------------------------------------------------------------\n",
      "Training for fold 10 ...\n"
     ]
    },
    {
     "name": "stderr",
     "output_type": "stream",
     "text": [
      "/usr/local/lib/python3.9/dist-packages/sklearn/ensemble/_forest.py:424: FutureWarning: `max_features='auto'` has been deprecated in 1.1 and will be removed in 1.3. To keep the past behaviour, explicitly set `max_features='sqrt'` or remove this parameter as it is also the default value for RandomForestClassifiers and ExtraTreesClassifiers.\n",
      "  warn(\n"
     ]
    },
    {
     "name": "stdout",
     "output_type": "stream",
     "text": [
      "Score for fold 10: 0.9722863741339491\n"
     ]
    }
   ],
   "source": [
    "from scipy.special import y1\n",
    "import os\n",
    "from sklearn.neural_network import MLPClassifier\n",
    "from sklearn.ensemble import HistGradientBoostingClassifier\n",
    "from sklearn.ensemble import ExtraTreesClassifier\n",
    "from sklearn.ensemble import AdaBoostClassifier\n",
    "fold_no = 1\n",
    "acc_per_fold = []\n",
    "pre_per_fold = []\n",
    "recall_per_fold = []\n",
    "f1_per_fold = []      \n",
    "for train, test in skf.split(X, y):\n",
    "    \n",
    "    # CLASSIFICATION\n",
    "    # Random Forest\n",
    "    model = RandomForestClassifier( criterion='gini', min_samples_split=2,min_samples_leaf=1,  min_weight_fraction_leaf=0.0,max_features='auto', max_leaf_nodes=None,  random_state=0, verbose=0, warm_start=False, class_weight='balanced'  )\n",
    "    # Decision Tree\n",
    "    \n",
    " #   model = DecisionTreeClassifier(criterion=\"entropy\",min_samples_split=2, min_samples_leaf=1,random_state=0, class_weight='balanced')\n",
    "    \n",
    "    # Logistic Regression\n",
    " #   model = LogisticRegression(random_state=0, class_weight='balanced')\n",
    "        \n",
    "    # SVM\n",
    "  #  model = SVC(random_state=0, class_weight='balanced', kernel='linear')\n",
    "    \n",
    "    # Extra trees\n",
    "   # model = ExtraTreesClassifier(random_state=0, class_weight='balanced', criterion='gini')\n",
    "        \n",
    "    # Adaboost\n",
    " #   model = AdaBoostClassifier(random_state=0, n_estimators=600)\n",
    " \n",
    "    # XGBoost\n",
    " #   model = xgb.XGBClassifier(random_state=0)\n",
    "      #MLP\n",
    "#    model = MLPClassifier(random_state=0)\n",
    "\n",
    "   # model = HistGradientBoostingClassifier(random_state=0)\n",
    "    print('------------------------------------------------------------------------')\n",
    "    print(f'Training for fold {fold_no} ...')\n",
    "    \n",
    "    history = model.fit(X[train], y[train])\n",
    "    pred_y = model.predict(X[test])\n",
    "    report = classification_report(y[test], pred_y, output_dict=True)\n",
    "    \"\"\"\n",
    "    disp = plot_confusion_matrix(model, X[test], y[test],\n",
    "                                display_labels=[0, 1],\n",
    "                                cmap=plt.cm.Blues)\n",
    "                                \"\"\"\n",
    "    precision = report['macro avg']['precision']\n",
    "    recall = report['macro avg']['recall']\n",
    "    score = report['accuracy']\n",
    "    f1 = report['macro avg']['f1-score']\n",
    "    weighted_precision = report['weighted avg']['precision']\n",
    "    weighted_recall = report['weighted avg']['recall']\n",
    "    weighted_f1 = report['weighted avg']['f1-score']\n",
    "    auc = roc_auc_score(y[test], model.predict_proba(X[test])[:, 1])\n",
    "    \"\"\"\n",
    "    tp = disp.confusion_matrix[1][1]\n",
    "    fp = disp.confusion_matrix[0][1]\n",
    "    fn = disp.confusion_matrix[1][0]\n",
    "    tn = disp.confusion_matrix[0][0]\n",
    "    \"\"\"\n",
    "    \n",
    "#     results['kc2'][i+1][\"vanilla_gan\"]['randomforest'] = [score, precision, recall, f1, auc, tp, fp, tn, fn, weighted_precision, weighted_recall, weighted_f1]\n",
    "    \n",
    "    scores = model.score(X[test], y[test])\n",
    "    print(f'Score for fold {fold_no}: {scores}')\n",
    "    acc_per_fold.append(scores)\n",
    "    pre_per_fold.append(precision)\n",
    "    recall_per_fold.append(recall)\n",
    "    f1_per_fold.append(f1)\n",
    "    fold_no = fold_no + 1\n",
    "    #auc = auc+1"
   ]
  },
  {
   "cell_type": "code",
   "execution_count": 31,
   "metadata": {
    "colab": {
     "base_uri": "https://localhost:8080/"
    },
    "executionInfo": {
     "elapsed": 422,
     "status": "ok",
     "timestamp": 1678721277967,
     "user": {
      "displayName": "Hà Thị Minh Phương",
      "userId": "03221265603374510364"
     },
     "user_tz": 0
    },
    "id": "oezjkuy2akPi",
    "outputId": "78786a62-8215-41a4-e3e1-91fc85d0dd7b"
   },
   "outputs": [
    {
     "name": "stdout",
     "output_type": "stream",
     "text": [
      "Mean Acc: 0.9651403241770522\n",
      "Mean Acc: 0.9640120864662801\n",
      "Mean Acc: 0.967975942805128\n",
      "Mean Acc: 0.9649629903281214\n"
     ]
    }
   ],
   "source": [
    "print(f'Mean Acc: {np.mean(np.array(acc_per_fold))}')\n",
    "print(f'Mean Acc: {np.mean(np.array(pre_per_fold))}')\n",
    "print(f'Mean Acc: {np.mean(np.array(recall_per_fold))}')\n",
    "print(f'Mean Acc: {np.mean(np.array(f1_per_fold))}')\n",
    "#print(f'Mean Acc: {np.mean(np.array(auc))}')"
   ]
  }
 ],
 "metadata": {
  "colab": {
   "provenance": []
  },
  "kernelspec": {
   "display_name": "Python 3 (ipykernel)",
   "language": "python",
   "name": "python3"
  },
  "language_info": {
   "codemirror_mode": {
    "name": "ipython",
    "version": 3
   },
   "file_extension": ".py",
   "mimetype": "text/x-python",
   "name": "python",
   "nbconvert_exporter": "python",
   "pygments_lexer": "ipython3",
   "version": "3.9.7"
  }
 },
 "nbformat": 4,
 "nbformat_minor": 1
}
