{
  "cells": [
    {
      "cell_type": "markdown",
      "metadata": {
        "id": "rJFHWyx-q83Y"
      },
      "source": [
        "# Synthesize a Table (Gaussian Coupla)\n",
        "\n",
        "In this notebook, we'll use the SDV to create synthetic data for a single table and evaluate it. The SDV uses machine learning to learn patterns from real data and emulates them when creating synthetic data.\n",
        "\n",
        "We'll use the **Gaussian Copula** algorithm to do this. Gaussian Copula is a fast, customizable and transparent way to synthesize data."
      ]
    },
    {
      "cell_type": "code",
      "source": [
        "!pip install urllib3==1.26.4"
      ],
      "metadata": {
        "colab": {
          "base_uri": "https://localhost:8080/"
        },
        "id": "Ey4BlgH7f7fq",
        "outputId": "65a636dd-1fbf-4739-9946-5b67f9f11b5a"
      },
      "execution_count": null,
      "outputs": [
        {
          "output_type": "stream",
          "name": "stdout",
          "text": [
            "Requirement already satisfied: urllib3==1.26.4 in /usr/local/lib/python3.10/dist-packages (1.26.4)\n"
          ]
        }
      ]
    },
    {
      "cell_type": "markdown",
      "metadata": {
        "id": "t0OEfkxhrLP6"
      },
      "source": [
        "# 0. Installation\n",
        "\n",
        "Install the SDV library.\n",
        "\n",
        "<font color=\"maroon\"><i>Note: After installation, you'll be prompted to restart the runtime. Click the the button that appears to continue.</i></font>"
      ]
    },
    {
      "cell_type": "code",
      "execution_count": null,
      "metadata": {
        "id": "8s9w9RsMozIY",
        "colab": {
          "base_uri": "https://localhost:8080/"
        },
        "outputId": "36bb771d-fd1d-4f2c-b6a9-6f51d507f4a9"
      },
      "outputs": [
        {
          "output_type": "stream",
          "name": "stdout",
          "text": [
            "Collecting sdv==1.0.0\n",
            "  Downloading sdv-1.0.0-py2.py3-none-any.whl (114 kB)\n",
            "\u001b[2K     \u001b[90m━━━━━━━━━━━━━━━━━━━━━━━━━━━━━━━━━━━━━━━\u001b[0m \u001b[32m114.1/114.1 kB\u001b[0m \u001b[31m3.6 MB/s\u001b[0m eta \u001b[36m0:00:00\u001b[0m\n",
            "\u001b[?25hCollecting Faker<15,>=10 (from sdv==1.0.0)\n",
            "  Downloading Faker-14.2.1-py3-none-any.whl (1.6 MB)\n",
            "\u001b[2K     \u001b[90m━━━━━━━━━━━━━━━━━━━━━━━━━━━━━━━━━━━━━━━━\u001b[0m \u001b[32m1.6/1.6 MB\u001b[0m \u001b[31m35.5 MB/s\u001b[0m eta \u001b[36m0:00:00\u001b[0m\n",
            "\u001b[?25hRequirement already satisfied: graphviz<1,>=0.13.2 in /usr/local/lib/python3.10/dist-packages (from sdv==1.0.0) (0.20.1)\n",
            "Requirement already satisfied: tqdm<5,>=4.15 in /usr/local/lib/python3.10/dist-packages (from sdv==1.0.0) (4.66.1)\n",
            "Collecting copulas<0.9,>=0.8.0 (from sdv==1.0.0)\n",
            "  Downloading copulas-0.8.0-py2.py3-none-any.whl (53 kB)\n",
            "\u001b[2K     \u001b[90m━━━━━━━━━━━━━━━━━━━━━━━━━━━━━━━━━━━━━━━━\u001b[0m \u001b[32m53.6/53.6 kB\u001b[0m \u001b[31m7.8 MB/s\u001b[0m eta \u001b[36m0:00:00\u001b[0m\n",
            "\u001b[?25hCollecting ctgan<0.8,>=0.7.1 (from sdv==1.0.0)\n",
            "  Downloading ctgan-0.7.4-py2.py3-none-any.whl (26 kB)\n",
            "Collecting deepecho<0.5,>=0.4.0 (from sdv==1.0.0)\n",
            "  Downloading deepecho-0.4.2-py2.py3-none-any.whl (29 kB)\n",
            "Collecting rdt<2,>=1.3.0 (from sdv==1.0.0)\n",
            "  Downloading rdt-1.7.0-py2.py3-none-any.whl (70 kB)\n",
            "\u001b[2K     \u001b[90m━━━━━━━━━━━━━━━━━━━━━━━━━━━━━━━━━━━━━━━━\u001b[0m \u001b[32m70.5/70.5 kB\u001b[0m \u001b[31m10.5 MB/s\u001b[0m eta \u001b[36m0:00:00\u001b[0m\n",
            "\u001b[?25hCollecting sdmetrics<0.10,>=0.9.1 (from sdv==1.0.0)\n",
            "  Downloading sdmetrics-0.9.3-py2.py3-none-any.whl (142 kB)\n",
            "\u001b[2K     \u001b[90m━━━━━━━━━━━━━━━━━━━━━━━━━━━━━━━━━━━━━━\u001b[0m \u001b[32m142.7/142.7 kB\u001b[0m \u001b[31m17.8 MB/s\u001b[0m eta \u001b[36m0:00:00\u001b[0m\n",
            "\u001b[?25hRequirement already satisfied: cloudpickle<3.0,>=2.1.0 in /usr/local/lib/python3.10/dist-packages (from sdv==1.0.0) (2.2.1)\n",
            "Collecting boto3<2,>=1.15.0 (from sdv==1.0.0)\n",
            "  Downloading boto3-1.28.32-py3-none-any.whl (135 kB)\n",
            "\u001b[2K     \u001b[90m━━━━━━━━━━━━━━━━━━━━━━━━━━━━━━━━━━━━━━\u001b[0m \u001b[32m135.8/135.8 kB\u001b[0m \u001b[31m17.3 MB/s\u001b[0m eta \u001b[36m0:00:00\u001b[0m\n",
            "\u001b[?25hCollecting botocore<2,>=1.18 (from sdv==1.0.0)\n",
            "  Downloading botocore-1.31.32-py3-none-any.whl (11.1 MB)\n",
            "\u001b[2K     \u001b[90m━━━━━━━━━━━━━━━━━━━━━━━━━━━━━━━━━━━━━━━\u001b[0m \u001b[32m11.1/11.1 MB\u001b[0m \u001b[31m100.1 MB/s\u001b[0m eta \u001b[36m0:00:00\u001b[0m\n",
            "\u001b[?25hRequirement already satisfied: numpy<2,>=1.23.3 in /usr/local/lib/python3.10/dist-packages (from sdv==1.0.0) (1.23.5)\n",
            "Requirement already satisfied: pandas<2,>=1.5.0 in /usr/local/lib/python3.10/dist-packages (from sdv==1.0.0) (1.5.3)\n",
            "Collecting jmespath<2.0.0,>=0.7.1 (from boto3<2,>=1.15.0->sdv==1.0.0)\n",
            "  Downloading jmespath-1.0.1-py3-none-any.whl (20 kB)\n",
            "Collecting s3transfer<0.7.0,>=0.6.0 (from boto3<2,>=1.15.0->sdv==1.0.0)\n",
            "  Downloading s3transfer-0.6.2-py3-none-any.whl (79 kB)\n",
            "\u001b[2K     \u001b[90m━━━━━━━━━━━━━━━━━━━━━━━━━━━━━━━━━━━━━━━━\u001b[0m \u001b[32m79.8/79.8 kB\u001b[0m \u001b[31m8.9 MB/s\u001b[0m eta \u001b[36m0:00:00\u001b[0m\n",
            "\u001b[?25hRequirement already satisfied: python-dateutil<3.0.0,>=2.1 in /usr/local/lib/python3.10/dist-packages (from botocore<2,>=1.18->sdv==1.0.0) (2.8.2)\n",
            "Requirement already satisfied: urllib3<1.27,>=1.25.4 in /usr/local/lib/python3.10/dist-packages (from botocore<2,>=1.18->sdv==1.0.0) (1.26.4)\n",
            "Requirement already satisfied: matplotlib<4,>=3.6.0 in /usr/local/lib/python3.10/dist-packages (from copulas<0.9,>=0.8.0->sdv==1.0.0) (3.7.1)\n",
            "Requirement already satisfied: scipy<2,>=1.9.2 in /usr/local/lib/python3.10/dist-packages (from copulas<0.9,>=0.8.0->sdv==1.0.0) (1.10.1)\n",
            "Requirement already satisfied: scikit-learn<2,>=1.1.3 in /usr/local/lib/python3.10/dist-packages (from ctgan<0.8,>=0.7.1->sdv==1.0.0) (1.2.2)\n",
            "Requirement already satisfied: torch>=1.11.0 in /usr/local/lib/python3.10/dist-packages (from ctgan<0.8,>=0.7.1->sdv==1.0.0) (2.0.1+cu118)\n",
            "Requirement already satisfied: pytz>=2020.1 in /usr/local/lib/python3.10/dist-packages (from pandas<2,>=1.5.0->sdv==1.0.0) (2023.3)\n",
            "Requirement already satisfied: psutil<6,>=5.7 in /usr/local/lib/python3.10/dist-packages (from rdt<2,>=1.3.0->sdv==1.0.0) (5.9.5)\n",
            "Requirement already satisfied: plotly<6,>=5.10.0 in /usr/local/lib/python3.10/dist-packages (from sdmetrics<0.10,>=0.9.1->sdv==1.0.0) (5.15.0)\n",
            "Requirement already satisfied: contourpy>=1.0.1 in /usr/local/lib/python3.10/dist-packages (from matplotlib<4,>=3.6.0->copulas<0.9,>=0.8.0->sdv==1.0.0) (1.1.0)\n",
            "Requirement already satisfied: cycler>=0.10 in /usr/local/lib/python3.10/dist-packages (from matplotlib<4,>=3.6.0->copulas<0.9,>=0.8.0->sdv==1.0.0) (0.11.0)\n",
            "Requirement already satisfied: fonttools>=4.22.0 in /usr/local/lib/python3.10/dist-packages (from matplotlib<4,>=3.6.0->copulas<0.9,>=0.8.0->sdv==1.0.0) (4.42.0)\n",
            "Requirement already satisfied: kiwisolver>=1.0.1 in /usr/local/lib/python3.10/dist-packages (from matplotlib<4,>=3.6.0->copulas<0.9,>=0.8.0->sdv==1.0.0) (1.4.4)\n",
            "Requirement already satisfied: packaging>=20.0 in /usr/local/lib/python3.10/dist-packages (from matplotlib<4,>=3.6.0->copulas<0.9,>=0.8.0->sdv==1.0.0) (23.1)\n",
            "Requirement already satisfied: pillow>=6.2.0 in /usr/local/lib/python3.10/dist-packages (from matplotlib<4,>=3.6.0->copulas<0.9,>=0.8.0->sdv==1.0.0) (9.4.0)\n",
            "Requirement already satisfied: pyparsing>=2.3.1 in /usr/local/lib/python3.10/dist-packages (from matplotlib<4,>=3.6.0->copulas<0.9,>=0.8.0->sdv==1.0.0) (3.1.1)\n",
            "Requirement already satisfied: tenacity>=6.2.0 in /usr/local/lib/python3.10/dist-packages (from plotly<6,>=5.10.0->sdmetrics<0.10,>=0.9.1->sdv==1.0.0) (8.2.3)\n",
            "Requirement already satisfied: six>=1.5 in /usr/local/lib/python3.10/dist-packages (from python-dateutil<3.0.0,>=2.1->botocore<2,>=1.18->sdv==1.0.0) (1.16.0)\n",
            "Requirement already satisfied: joblib>=1.1.1 in /usr/local/lib/python3.10/dist-packages (from scikit-learn<2,>=1.1.3->ctgan<0.8,>=0.7.1->sdv==1.0.0) (1.3.2)\n",
            "Requirement already satisfied: threadpoolctl>=2.0.0 in /usr/local/lib/python3.10/dist-packages (from scikit-learn<2,>=1.1.3->ctgan<0.8,>=0.7.1->sdv==1.0.0) (3.2.0)\n",
            "Requirement already satisfied: filelock in /usr/local/lib/python3.10/dist-packages (from torch>=1.11.0->ctgan<0.8,>=0.7.1->sdv==1.0.0) (3.12.2)\n",
            "Requirement already satisfied: typing-extensions in /usr/local/lib/python3.10/dist-packages (from torch>=1.11.0->ctgan<0.8,>=0.7.1->sdv==1.0.0) (4.7.1)\n",
            "Requirement already satisfied: sympy in /usr/local/lib/python3.10/dist-packages (from torch>=1.11.0->ctgan<0.8,>=0.7.1->sdv==1.0.0) (1.12)\n",
            "Requirement already satisfied: networkx in /usr/local/lib/python3.10/dist-packages (from torch>=1.11.0->ctgan<0.8,>=0.7.1->sdv==1.0.0) (3.1)\n",
            "Requirement already satisfied: jinja2 in /usr/local/lib/python3.10/dist-packages (from torch>=1.11.0->ctgan<0.8,>=0.7.1->sdv==1.0.0) (3.1.2)\n",
            "Requirement already satisfied: triton==2.0.0 in /usr/local/lib/python3.10/dist-packages (from torch>=1.11.0->ctgan<0.8,>=0.7.1->sdv==1.0.0) (2.0.0)\n",
            "Requirement already satisfied: cmake in /usr/local/lib/python3.10/dist-packages (from triton==2.0.0->torch>=1.11.0->ctgan<0.8,>=0.7.1->sdv==1.0.0) (3.27.2)\n",
            "Requirement already satisfied: lit in /usr/local/lib/python3.10/dist-packages (from triton==2.0.0->torch>=1.11.0->ctgan<0.8,>=0.7.1->sdv==1.0.0) (16.0.6)\n",
            "Requirement already satisfied: MarkupSafe>=2.0 in /usr/local/lib/python3.10/dist-packages (from jinja2->torch>=1.11.0->ctgan<0.8,>=0.7.1->sdv==1.0.0) (2.1.3)\n",
            "Requirement already satisfied: mpmath>=0.19 in /usr/local/lib/python3.10/dist-packages (from sympy->torch>=1.11.0->ctgan<0.8,>=0.7.1->sdv==1.0.0) (1.3.0)\n",
            "Installing collected packages: jmespath, Faker, botocore, s3transfer, rdt, copulas, sdmetrics, boto3, deepecho, ctgan, sdv\n",
            "Successfully installed Faker-14.2.1 boto3-1.28.32 botocore-1.31.32 copulas-0.8.0 ctgan-0.7.4 deepecho-0.4.2 jmespath-1.0.1 rdt-1.7.0 s3transfer-0.6.2 sdmetrics-0.9.3 sdv-1.0.0\n"
          ]
        }
      ],
      "source": [
        "%pip install sdv==1.0.0"
      ]
    },
    {
      "cell_type": "code",
      "execution_count": null,
      "metadata": {
        "colab": {
          "base_uri": "https://localhost:8080/",
          "height": 73
        },
        "id": "_lqcCFmPL-Tm",
        "outputId": "6112d959-a6fa-46cc-8d4a-d9a70fa83558"
      },
      "outputs": [
        {
          "output_type": "display_data",
          "data": {
            "text/plain": [
              "<IPython.core.display.HTML object>"
            ],
            "text/html": [
              "\n",
              "     <input type=\"file\" id=\"files-018e14c5-4f55-4d33-8d24-d217c6f5582e\" name=\"files[]\" multiple disabled\n",
              "        style=\"border:none\" />\n",
              "     <output id=\"result-018e14c5-4f55-4d33-8d24-d217c6f5582e\">\n",
              "      Upload widget is only available when the cell has been executed in the\n",
              "      current browser session. Please rerun this cell to enable.\n",
              "      </output>\n",
              "      <script>// Copyright 2017 Google LLC\n",
              "//\n",
              "// Licensed under the Apache License, Version 2.0 (the \"License\");\n",
              "// you may not use this file except in compliance with the License.\n",
              "// You may obtain a copy of the License at\n",
              "//\n",
              "//      http://www.apache.org/licenses/LICENSE-2.0\n",
              "//\n",
              "// Unless required by applicable law or agreed to in writing, software\n",
              "// distributed under the License is distributed on an \"AS IS\" BASIS,\n",
              "// WITHOUT WARRANTIES OR CONDITIONS OF ANY KIND, either express or implied.\n",
              "// See the License for the specific language governing permissions and\n",
              "// limitations under the License.\n",
              "\n",
              "/**\n",
              " * @fileoverview Helpers for google.colab Python module.\n",
              " */\n",
              "(function(scope) {\n",
              "function span(text, styleAttributes = {}) {\n",
              "  const element = document.createElement('span');\n",
              "  element.textContent = text;\n",
              "  for (const key of Object.keys(styleAttributes)) {\n",
              "    element.style[key] = styleAttributes[key];\n",
              "  }\n",
              "  return element;\n",
              "}\n",
              "\n",
              "// Max number of bytes which will be uploaded at a time.\n",
              "const MAX_PAYLOAD_SIZE = 100 * 1024;\n",
              "\n",
              "function _uploadFiles(inputId, outputId) {\n",
              "  const steps = uploadFilesStep(inputId, outputId);\n",
              "  const outputElement = document.getElementById(outputId);\n",
              "  // Cache steps on the outputElement to make it available for the next call\n",
              "  // to uploadFilesContinue from Python.\n",
              "  outputElement.steps = steps;\n",
              "\n",
              "  return _uploadFilesContinue(outputId);\n",
              "}\n",
              "\n",
              "// This is roughly an async generator (not supported in the browser yet),\n",
              "// where there are multiple asynchronous steps and the Python side is going\n",
              "// to poll for completion of each step.\n",
              "// This uses a Promise to block the python side on completion of each step,\n",
              "// then passes the result of the previous step as the input to the next step.\n",
              "function _uploadFilesContinue(outputId) {\n",
              "  const outputElement = document.getElementById(outputId);\n",
              "  const steps = outputElement.steps;\n",
              "\n",
              "  const next = steps.next(outputElement.lastPromiseValue);\n",
              "  return Promise.resolve(next.value.promise).then((value) => {\n",
              "    // Cache the last promise value to make it available to the next\n",
              "    // step of the generator.\n",
              "    outputElement.lastPromiseValue = value;\n",
              "    return next.value.response;\n",
              "  });\n",
              "}\n",
              "\n",
              "/**\n",
              " * Generator function which is called between each async step of the upload\n",
              " * process.\n",
              " * @param {string} inputId Element ID of the input file picker element.\n",
              " * @param {string} outputId Element ID of the output display.\n",
              " * @return {!Iterable<!Object>} Iterable of next steps.\n",
              " */\n",
              "function* uploadFilesStep(inputId, outputId) {\n",
              "  const inputElement = document.getElementById(inputId);\n",
              "  inputElement.disabled = false;\n",
              "\n",
              "  const outputElement = document.getElementById(outputId);\n",
              "  outputElement.innerHTML = '';\n",
              "\n",
              "  const pickedPromise = new Promise((resolve) => {\n",
              "    inputElement.addEventListener('change', (e) => {\n",
              "      resolve(e.target.files);\n",
              "    });\n",
              "  });\n",
              "\n",
              "  const cancel = document.createElement('button');\n",
              "  inputElement.parentElement.appendChild(cancel);\n",
              "  cancel.textContent = 'Cancel upload';\n",
              "  const cancelPromise = new Promise((resolve) => {\n",
              "    cancel.onclick = () => {\n",
              "      resolve(null);\n",
              "    };\n",
              "  });\n",
              "\n",
              "  // Wait for the user to pick the files.\n",
              "  const files = yield {\n",
              "    promise: Promise.race([pickedPromise, cancelPromise]),\n",
              "    response: {\n",
              "      action: 'starting',\n",
              "    }\n",
              "  };\n",
              "\n",
              "  cancel.remove();\n",
              "\n",
              "  // Disable the input element since further picks are not allowed.\n",
              "  inputElement.disabled = true;\n",
              "\n",
              "  if (!files) {\n",
              "    return {\n",
              "      response: {\n",
              "        action: 'complete',\n",
              "      }\n",
              "    };\n",
              "  }\n",
              "\n",
              "  for (const file of files) {\n",
              "    const li = document.createElement('li');\n",
              "    li.append(span(file.name, {fontWeight: 'bold'}));\n",
              "    li.append(span(\n",
              "        `(${file.type || 'n/a'}) - ${file.size} bytes, ` +\n",
              "        `last modified: ${\n",
              "            file.lastModifiedDate ? file.lastModifiedDate.toLocaleDateString() :\n",
              "                                    'n/a'} - `));\n",
              "    const percent = span('0% done');\n",
              "    li.appendChild(percent);\n",
              "\n",
              "    outputElement.appendChild(li);\n",
              "\n",
              "    const fileDataPromise = new Promise((resolve) => {\n",
              "      const reader = new FileReader();\n",
              "      reader.onload = (e) => {\n",
              "        resolve(e.target.result);\n",
              "      };\n",
              "      reader.readAsArrayBuffer(file);\n",
              "    });\n",
              "    // Wait for the data to be ready.\n",
              "    let fileData = yield {\n",
              "      promise: fileDataPromise,\n",
              "      response: {\n",
              "        action: 'continue',\n",
              "      }\n",
              "    };\n",
              "\n",
              "    // Use a chunked sending to avoid message size limits. See b/62115660.\n",
              "    let position = 0;\n",
              "    do {\n",
              "      const length = Math.min(fileData.byteLength - position, MAX_PAYLOAD_SIZE);\n",
              "      const chunk = new Uint8Array(fileData, position, length);\n",
              "      position += length;\n",
              "\n",
              "      const base64 = btoa(String.fromCharCode.apply(null, chunk));\n",
              "      yield {\n",
              "        response: {\n",
              "          action: 'append',\n",
              "          file: file.name,\n",
              "          data: base64,\n",
              "        },\n",
              "      };\n",
              "\n",
              "      let percentDone = fileData.byteLength === 0 ?\n",
              "          100 :\n",
              "          Math.round((position / fileData.byteLength) * 100);\n",
              "      percent.textContent = `${percentDone}% done`;\n",
              "\n",
              "    } while (position < fileData.byteLength);\n",
              "  }\n",
              "\n",
              "  // All done.\n",
              "  yield {\n",
              "    response: {\n",
              "      action: 'complete',\n",
              "    }\n",
              "  };\n",
              "}\n",
              "\n",
              "scope.google = scope.google || {};\n",
              "scope.google.colab = scope.google.colab || {};\n",
              "scope.google.colab._files = {\n",
              "  _uploadFiles,\n",
              "  _uploadFilesContinue,\n",
              "};\n",
              "})(self);\n",
              "</script> "
            ]
          },
          "metadata": {}
        },
        {
          "output_type": "stream",
          "name": "stdout",
          "text": [
            "Saving activemq-5.0.0.csv to activemq-5.0.0.csv\n"
          ]
        }
      ],
      "source": [
        "from google.colab import files\n",
        "\n",
        "# Optional: You can skip this step if you are running the code on your own\n",
        "# machine\n",
        "uploaded = files.upload()"
      ]
    },
    {
      "cell_type": "code",
      "execution_count": null,
      "metadata": {
        "id": "5CzzxJHqL-Wk"
      },
      "outputs": [],
      "source": [
        "from sdv.datasets.local import load_csvs\n",
        "from sdv.datasets.demo import download_demo\n",
        "\n",
        "# This is the default folder name that the GOogle Colab notebook uses.\n",
        "# Change this if you have your own folder with CSV files.\n",
        "FOLDER_NAME = 'content/'\n",
        "\n",
        "try:\n",
        "  datasets = load_csvs(folder_name='/content/')\n",
        "except ValueError:\n",
        "  print('You have not uploaded any csv files. Using some demo data instead.')\n",
        "  datasets, _ = download_demo(\n",
        "    modality='single_table',\n",
        "    dataset_name='train_3_CM1'\n",
        "  )"
      ]
    },
    {
      "cell_type": "code",
      "execution_count": null,
      "metadata": {
        "colab": {
          "base_uri": "https://localhost:8080/"
        },
        "id": "rTtHqgesL-ZU",
        "outputId": "bb88c841-db01-4adb-e252-3aa3add49558"
      },
      "outputs": [
        {
          "output_type": "execute_result",
          "data": {
            "text/plain": [
              "dict_keys(['activemq-5.0.0'])"
            ]
          },
          "metadata": {},
          "execution_count": 5
        }
      ],
      "source": [
        "datasets.keys()"
      ]
    },
    {
      "cell_type": "code",
      "execution_count": null,
      "metadata": {
        "id": "stKFP2k6L-b_"
      },
      "outputs": [],
      "source": [
        "hotels_table = datasets['activemq-5.0.0']"
      ]
    },
    {
      "cell_type": "code",
      "execution_count": null,
      "metadata": {
        "colab": {
          "base_uri": "https://localhost:8080/",
          "height": 273
        },
        "id": "ijjSanAiL-ez",
        "outputId": "055c8b97-53dc-4884-de00-d09ab82ba74d"
      },
      "outputs": [
        {
          "output_type": "execute_result",
          "data": {
            "text/plain": [
              "   CountDeclMethodPrivate numeric  AvgLineCode numeric  CountLine numeric  \\\n",
              "0                               0                   10                171   \n",
              "1                               0                    8                123   \n",
              "2                               0                    7                136   \n",
              "3                               0                   29                241   \n",
              "4                               0                   24                212   \n",
              "\n",
              "   MaxCyclomatic numeric  CountDeclMethodDefault numeric  \\\n",
              "0                      5                               0   \n",
              "1                      5                               0   \n",
              "2                      5                               0   \n",
              "3                     17                               0   \n",
              "4                     17                               0   \n",
              "\n",
              "   AvgEssential numeric  CountDeclClassVariable numeric  \\\n",
              "0                     2                               0   \n",
              "1                     1                               1   \n",
              "2                     1                               1   \n",
              "3                     4                               5   \n",
              "4                     3                               5   \n",
              "\n",
              "   SumCyclomaticStrict numeric  AvgCyclomatic numeric  AvgLine numeric  ...  \\\n",
              "0                           18                      2               18  ...   \n",
              "1                           15                      3               17  ...   \n",
              "2                           16                      2               13  ...   \n",
              "3                           29                      9               53  ...   \n",
              "4                           26                      8               44  ...   \n",
              "\n",
              "   DDEV numeric  Added_lines numeric  Del_lines numeric  OWN_LINE numeric  \\\n",
              "0             1                   32                 18           1.00000   \n",
              "1             2                   30                 28           0.98374   \n",
              "2             1                    8                  8           1.00000   \n",
              "3             1                   76                 76           1.00000   \n",
              "4             1                   76                 76           1.00000   \n",
              "\n",
              "   OWN_COMMIT numeric  MINOR_COMMIT numeric  MINOR_LINE numeric  \\\n",
              "0                 1.0                     0                   1   \n",
              "1                 0.5                     0                   1   \n",
              "2                 1.0                     0                   1   \n",
              "3                 1.0                     0                   1   \n",
              "4                 1.0                     0                   1   \n",
              "\n",
              "   MAJOR_COMMIT numeric  MAJOR_LINE numeric  defect  \n",
              "0                     1                   0       0  \n",
              "1                     2                   1       0  \n",
              "2                     1                   0       0  \n",
              "3                     1                   0       0  \n",
              "4                     1                   0       0  \n",
              "\n",
              "[5 rows x 66 columns]"
            ],
            "text/html": [
              "\n",
              "  <div id=\"df-d6250821-ad07-47bd-9081-74e05e1667b4\" class=\"colab-df-container\">\n",
              "    <div>\n",
              "<style scoped>\n",
              "    .dataframe tbody tr th:only-of-type {\n",
              "        vertical-align: middle;\n",
              "    }\n",
              "\n",
              "    .dataframe tbody tr th {\n",
              "        vertical-align: top;\n",
              "    }\n",
              "\n",
              "    .dataframe thead th {\n",
              "        text-align: right;\n",
              "    }\n",
              "</style>\n",
              "<table border=\"1\" class=\"dataframe\">\n",
              "  <thead>\n",
              "    <tr style=\"text-align: right;\">\n",
              "      <th></th>\n",
              "      <th>CountDeclMethodPrivate numeric</th>\n",
              "      <th>AvgLineCode numeric</th>\n",
              "      <th>CountLine numeric</th>\n",
              "      <th>MaxCyclomatic numeric</th>\n",
              "      <th>CountDeclMethodDefault numeric</th>\n",
              "      <th>AvgEssential numeric</th>\n",
              "      <th>CountDeclClassVariable numeric</th>\n",
              "      <th>SumCyclomaticStrict numeric</th>\n",
              "      <th>AvgCyclomatic numeric</th>\n",
              "      <th>AvgLine numeric</th>\n",
              "      <th>...</th>\n",
              "      <th>DDEV numeric</th>\n",
              "      <th>Added_lines numeric</th>\n",
              "      <th>Del_lines numeric</th>\n",
              "      <th>OWN_LINE numeric</th>\n",
              "      <th>OWN_COMMIT numeric</th>\n",
              "      <th>MINOR_COMMIT numeric</th>\n",
              "      <th>MINOR_LINE numeric</th>\n",
              "      <th>MAJOR_COMMIT numeric</th>\n",
              "      <th>MAJOR_LINE numeric</th>\n",
              "      <th>defect</th>\n",
              "    </tr>\n",
              "  </thead>\n",
              "  <tbody>\n",
              "    <tr>\n",
              "      <th>0</th>\n",
              "      <td>0</td>\n",
              "      <td>10</td>\n",
              "      <td>171</td>\n",
              "      <td>5</td>\n",
              "      <td>0</td>\n",
              "      <td>2</td>\n",
              "      <td>0</td>\n",
              "      <td>18</td>\n",
              "      <td>2</td>\n",
              "      <td>18</td>\n",
              "      <td>...</td>\n",
              "      <td>1</td>\n",
              "      <td>32</td>\n",
              "      <td>18</td>\n",
              "      <td>1.00000</td>\n",
              "      <td>1.0</td>\n",
              "      <td>0</td>\n",
              "      <td>1</td>\n",
              "      <td>1</td>\n",
              "      <td>0</td>\n",
              "      <td>0</td>\n",
              "    </tr>\n",
              "    <tr>\n",
              "      <th>1</th>\n",
              "      <td>0</td>\n",
              "      <td>8</td>\n",
              "      <td>123</td>\n",
              "      <td>5</td>\n",
              "      <td>0</td>\n",
              "      <td>1</td>\n",
              "      <td>1</td>\n",
              "      <td>15</td>\n",
              "      <td>3</td>\n",
              "      <td>17</td>\n",
              "      <td>...</td>\n",
              "      <td>2</td>\n",
              "      <td>30</td>\n",
              "      <td>28</td>\n",
              "      <td>0.98374</td>\n",
              "      <td>0.5</td>\n",
              "      <td>0</td>\n",
              "      <td>1</td>\n",
              "      <td>2</td>\n",
              "      <td>1</td>\n",
              "      <td>0</td>\n",
              "    </tr>\n",
              "    <tr>\n",
              "      <th>2</th>\n",
              "      <td>0</td>\n",
              "      <td>7</td>\n",
              "      <td>136</td>\n",
              "      <td>5</td>\n",
              "      <td>0</td>\n",
              "      <td>1</td>\n",
              "      <td>1</td>\n",
              "      <td>16</td>\n",
              "      <td>2</td>\n",
              "      <td>13</td>\n",
              "      <td>...</td>\n",
              "      <td>1</td>\n",
              "      <td>8</td>\n",
              "      <td>8</td>\n",
              "      <td>1.00000</td>\n",
              "      <td>1.0</td>\n",
              "      <td>0</td>\n",
              "      <td>1</td>\n",
              "      <td>1</td>\n",
              "      <td>0</td>\n",
              "      <td>0</td>\n",
              "    </tr>\n",
              "    <tr>\n",
              "      <th>3</th>\n",
              "      <td>0</td>\n",
              "      <td>29</td>\n",
              "      <td>241</td>\n",
              "      <td>17</td>\n",
              "      <td>0</td>\n",
              "      <td>4</td>\n",
              "      <td>5</td>\n",
              "      <td>29</td>\n",
              "      <td>9</td>\n",
              "      <td>53</td>\n",
              "      <td>...</td>\n",
              "      <td>1</td>\n",
              "      <td>76</td>\n",
              "      <td>76</td>\n",
              "      <td>1.00000</td>\n",
              "      <td>1.0</td>\n",
              "      <td>0</td>\n",
              "      <td>1</td>\n",
              "      <td>1</td>\n",
              "      <td>0</td>\n",
              "      <td>0</td>\n",
              "    </tr>\n",
              "    <tr>\n",
              "      <th>4</th>\n",
              "      <td>0</td>\n",
              "      <td>24</td>\n",
              "      <td>212</td>\n",
              "      <td>17</td>\n",
              "      <td>0</td>\n",
              "      <td>3</td>\n",
              "      <td>5</td>\n",
              "      <td>26</td>\n",
              "      <td>8</td>\n",
              "      <td>44</td>\n",
              "      <td>...</td>\n",
              "      <td>1</td>\n",
              "      <td>76</td>\n",
              "      <td>76</td>\n",
              "      <td>1.00000</td>\n",
              "      <td>1.0</td>\n",
              "      <td>0</td>\n",
              "      <td>1</td>\n",
              "      <td>1</td>\n",
              "      <td>0</td>\n",
              "      <td>0</td>\n",
              "    </tr>\n",
              "  </tbody>\n",
              "</table>\n",
              "<p>5 rows × 66 columns</p>\n",
              "</div>\n",
              "    <div class=\"colab-df-buttons\">\n",
              "\n",
              "  <div class=\"colab-df-container\">\n",
              "    <button class=\"colab-df-convert\" onclick=\"convertToInteractive('df-d6250821-ad07-47bd-9081-74e05e1667b4')\"\n",
              "            title=\"Convert this dataframe to an interactive table.\"\n",
              "            style=\"display:none;\">\n",
              "\n",
              "  <svg xmlns=\"http://www.w3.org/2000/svg\" height=\"24px\" viewBox=\"0 -960 960 960\">\n",
              "    <path d=\"M120-120v-720h720v720H120Zm60-500h600v-160H180v160Zm220 220h160v-160H400v160Zm0 220h160v-160H400v160ZM180-400h160v-160H180v160Zm440 0h160v-160H620v160ZM180-180h160v-160H180v160Zm440 0h160v-160H620v160Z\"/>\n",
              "  </svg>\n",
              "    </button>\n",
              "\n",
              "  <style>\n",
              "    .colab-df-container {\n",
              "      display:flex;\n",
              "      gap: 12px;\n",
              "    }\n",
              "\n",
              "    .colab-df-convert {\n",
              "      background-color: #E8F0FE;\n",
              "      border: none;\n",
              "      border-radius: 50%;\n",
              "      cursor: pointer;\n",
              "      display: none;\n",
              "      fill: #1967D2;\n",
              "      height: 32px;\n",
              "      padding: 0 0 0 0;\n",
              "      width: 32px;\n",
              "    }\n",
              "\n",
              "    .colab-df-convert:hover {\n",
              "      background-color: #E2EBFA;\n",
              "      box-shadow: 0px 1px 2px rgba(60, 64, 67, 0.3), 0px 1px 3px 1px rgba(60, 64, 67, 0.15);\n",
              "      fill: #174EA6;\n",
              "    }\n",
              "\n",
              "    .colab-df-buttons div {\n",
              "      margin-bottom: 4px;\n",
              "    }\n",
              "\n",
              "    [theme=dark] .colab-df-convert {\n",
              "      background-color: #3B4455;\n",
              "      fill: #D2E3FC;\n",
              "    }\n",
              "\n",
              "    [theme=dark] .colab-df-convert:hover {\n",
              "      background-color: #434B5C;\n",
              "      box-shadow: 0px 1px 3px 1px rgba(0, 0, 0, 0.15);\n",
              "      filter: drop-shadow(0px 1px 2px rgba(0, 0, 0, 0.3));\n",
              "      fill: #FFFFFF;\n",
              "    }\n",
              "  </style>\n",
              "\n",
              "    <script>\n",
              "      const buttonEl =\n",
              "        document.querySelector('#df-d6250821-ad07-47bd-9081-74e05e1667b4 button.colab-df-convert');\n",
              "      buttonEl.style.display =\n",
              "        google.colab.kernel.accessAllowed ? 'block' : 'none';\n",
              "\n",
              "      async function convertToInteractive(key) {\n",
              "        const element = document.querySelector('#df-d6250821-ad07-47bd-9081-74e05e1667b4');\n",
              "        const dataTable =\n",
              "          await google.colab.kernel.invokeFunction('convertToInteractive',\n",
              "                                                    [key], {});\n",
              "        if (!dataTable) return;\n",
              "\n",
              "        const docLinkHtml = 'Like what you see? Visit the ' +\n",
              "          '<a target=\"_blank\" href=https://colab.research.google.com/notebooks/data_table.ipynb>data table notebook</a>'\n",
              "          + ' to learn more about interactive tables.';\n",
              "        element.innerHTML = '';\n",
              "        dataTable['output_type'] = 'display_data';\n",
              "        await google.colab.output.renderOutput(dataTable, element);\n",
              "        const docLink = document.createElement('div');\n",
              "        docLink.innerHTML = docLinkHtml;\n",
              "        element.appendChild(docLink);\n",
              "      }\n",
              "    </script>\n",
              "  </div>\n",
              "\n",
              "\n",
              "<div id=\"df-7184d268-5c5c-47ae-b30f-09656326ac38\">\n",
              "  <button class=\"colab-df-quickchart\" onclick=\"quickchart('df-7184d268-5c5c-47ae-b30f-09656326ac38')\"\n",
              "            title=\"Suggest charts.\"\n",
              "            style=\"display:none;\">\n",
              "\n",
              "<svg xmlns=\"http://www.w3.org/2000/svg\" height=\"24px\"viewBox=\"0 0 24 24\"\n",
              "     width=\"24px\">\n",
              "    <g>\n",
              "        <path d=\"M19 3H5c-1.1 0-2 .9-2 2v14c0 1.1.9 2 2 2h14c1.1 0 2-.9 2-2V5c0-1.1-.9-2-2-2zM9 17H7v-7h2v7zm4 0h-2V7h2v10zm4 0h-2v-4h2v4z\"/>\n",
              "    </g>\n",
              "</svg>\n",
              "  </button>\n",
              "\n",
              "<style>\n",
              "  .colab-df-quickchart {\n",
              "    background-color: #E8F0FE;\n",
              "    border: none;\n",
              "    border-radius: 50%;\n",
              "    cursor: pointer;\n",
              "    display: none;\n",
              "    fill: #1967D2;\n",
              "    height: 32px;\n",
              "    padding: 0 0 0 0;\n",
              "    width: 32px;\n",
              "  }\n",
              "\n",
              "  .colab-df-quickchart:hover {\n",
              "    background-color: #E2EBFA;\n",
              "    box-shadow: 0px 1px 2px rgba(60, 64, 67, 0.3), 0px 1px 3px 1px rgba(60, 64, 67, 0.15);\n",
              "    fill: #174EA6;\n",
              "  }\n",
              "\n",
              "  [theme=dark] .colab-df-quickchart {\n",
              "    background-color: #3B4455;\n",
              "    fill: #D2E3FC;\n",
              "  }\n",
              "\n",
              "  [theme=dark] .colab-df-quickchart:hover {\n",
              "    background-color: #434B5C;\n",
              "    box-shadow: 0px 1px 3px 1px rgba(0, 0, 0, 0.15);\n",
              "    filter: drop-shadow(0px 1px 2px rgba(0, 0, 0, 0.3));\n",
              "    fill: #FFFFFF;\n",
              "  }\n",
              "</style>\n",
              "\n",
              "  <script>\n",
              "    async function quickchart(key) {\n",
              "      const charts = await google.colab.kernel.invokeFunction(\n",
              "          'suggestCharts', [key], {});\n",
              "    }\n",
              "    (() => {\n",
              "      let quickchartButtonEl =\n",
              "        document.querySelector('#df-7184d268-5c5c-47ae-b30f-09656326ac38 button');\n",
              "      quickchartButtonEl.style.display =\n",
              "        google.colab.kernel.accessAllowed ? 'block' : 'none';\n",
              "    })();\n",
              "  </script>\n",
              "</div>\n",
              "    </div>\n",
              "  </div>\n"
            ]
          },
          "metadata": {},
          "execution_count": 7
        }
      ],
      "source": [
        "hotels_table.head()"
      ]
    },
    {
      "cell_type": "code",
      "execution_count": null,
      "metadata": {
        "id": "QZKxlnsHL-hP"
      },
      "outputs": [],
      "source": [
        "from sdv.metadata import SingleTableMetadata\n",
        "\n",
        "metadata = SingleTableMetadata()"
      ]
    },
    {
      "cell_type": "code",
      "execution_count": null,
      "metadata": {
        "id": "5hrmd9GSL-kI"
      },
      "outputs": [],
      "source": [
        "metadata.detect_from_dataframe(\n",
        "\n",
        "    data=hotels_table\n",
        ")"
      ]
    },
    {
      "cell_type": "code",
      "execution_count": null,
      "metadata": {
        "colab": {
          "base_uri": "https://localhost:8080/"
        },
        "id": "6OyU80vnL-m7",
        "outputId": "b2937342-d6a2-4fd9-9bc3-d3889401ae9b"
      },
      "outputs": [
        {
          "output_type": "execute_result",
          "data": {
            "text/plain": [
              "{\n",
              "    \"columns\": {\n",
              "        \"CountDeclMethodPrivate numeric\": {\n",
              "            \"sdtype\": \"numerical\"\n",
              "        },\n",
              "        \"AvgLineCode numeric\": {\n",
              "            \"sdtype\": \"numerical\"\n",
              "        },\n",
              "        \"CountLine numeric\": {\n",
              "            \"sdtype\": \"numerical\"\n",
              "        },\n",
              "        \"MaxCyclomatic numeric\": {\n",
              "            \"sdtype\": \"numerical\"\n",
              "        },\n",
              "        \"CountDeclMethodDefault numeric\": {\n",
              "            \"sdtype\": \"numerical\"\n",
              "        },\n",
              "        \"AvgEssential numeric\": {\n",
              "            \"sdtype\": \"numerical\"\n",
              "        },\n",
              "        \"CountDeclClassVariable numeric\": {\n",
              "            \"sdtype\": \"numerical\"\n",
              "        },\n",
              "        \"SumCyclomaticStrict numeric\": {\n",
              "            \"sdtype\": \"numerical\"\n",
              "        },\n",
              "        \"AvgCyclomatic numeric\": {\n",
              "            \"sdtype\": \"numerical\"\n",
              "        },\n",
              "        \"AvgLine numeric\": {\n",
              "            \"sdtype\": \"numerical\"\n",
              "        },\n",
              "        \"CountDeclClassMethod numeric\": {\n",
              "            \"sdtype\": \"numerical\"\n",
              "        },\n",
              "        \"AvgLineComment numeric\": {\n",
              "            \"sdtype\": \"numerical\"\n",
              "        },\n",
              "        \"AvgCyclomaticModified numeric\": {\n",
              "            \"sdtype\": \"numerical\"\n",
              "        },\n",
              "        \"CountDeclFunction numeric\": {\n",
              "            \"sdtype\": \"numerical\"\n",
              "        },\n",
              "        \"CountLineComment numeric\": {\n",
              "            \"sdtype\": \"numerical\"\n",
              "        },\n",
              "        \"CountDeclClass numeric\": {\n",
              "            \"sdtype\": \"numerical\"\n",
              "        },\n",
              "        \"CountDeclMethod numeric\": {\n",
              "            \"sdtype\": \"numerical\"\n",
              "        },\n",
              "        \"SumCyclomaticModified numeric\": {\n",
              "            \"sdtype\": \"numerical\"\n",
              "        },\n",
              "        \"CountLineCodeDecl numeric\": {\n",
              "            \"sdtype\": \"numerical\"\n",
              "        },\n",
              "        \"CountDeclMethodProtected numeric\": {\n",
              "            \"sdtype\": \"numerical\"\n",
              "        },\n",
              "        \"CountDeclInstanceVariable numeric\": {\n",
              "            \"sdtype\": \"numerical\"\n",
              "        },\n",
              "        \"MaxCyclomaticStrict numeric\": {\n",
              "            \"sdtype\": \"numerical\"\n",
              "        },\n",
              "        \"CountDeclMethodPublic numeric\": {\n",
              "            \"sdtype\": \"numerical\"\n",
              "        },\n",
              "        \"CountLineCodeExe numeric\": {\n",
              "            \"sdtype\": \"numerical\"\n",
              "        },\n",
              "        \"SumCyclomatic numeric\": {\n",
              "            \"sdtype\": \"numerical\"\n",
              "        },\n",
              "        \"SumEssential numeric\": {\n",
              "            \"sdtype\": \"numerical\"\n",
              "        },\n",
              "        \"CountStmtDecl numeric\": {\n",
              "            \"sdtype\": \"numerical\"\n",
              "        },\n",
              "        \"CountLineCode numeric\": {\n",
              "            \"sdtype\": \"numerical\"\n",
              "        },\n",
              "        \"CountStmtExe numeric\": {\n",
              "            \"sdtype\": \"numerical\"\n",
              "        },\n",
              "        \"RatioCommentToCode numeric\": {\n",
              "            \"sdtype\": \"numerical\"\n",
              "        },\n",
              "        \"CountLineBlank numeric\": {\n",
              "            \"sdtype\": \"numerical\"\n",
              "        },\n",
              "        \"CountStmt numeric\": {\n",
              "            \"sdtype\": \"numerical\"\n",
              "        },\n",
              "        \"MaxCyclomaticModified numeric\": {\n",
              "            \"sdtype\": \"numerical\"\n",
              "        },\n",
              "        \"CountSemicolon numeric\": {\n",
              "            \"sdtype\": \"numerical\"\n",
              "        },\n",
              "        \"AvgLineBlank numeric\": {\n",
              "            \"sdtype\": \"numerical\"\n",
              "        },\n",
              "        \"CountDeclInstanceMethod numeric\": {\n",
              "            \"sdtype\": \"numerical\"\n",
              "        },\n",
              "        \"AvgCyclomaticStrict numeric\": {\n",
              "            \"sdtype\": \"numerical\"\n",
              "        },\n",
              "        \"PercentLackOfCohesion numeric\": {\n",
              "            \"sdtype\": \"numerical\"\n",
              "        },\n",
              "        \"MaxInheritanceTree numeric\": {\n",
              "            \"sdtype\": \"numerical\"\n",
              "        },\n",
              "        \"CountClassDerived numeric\": {\n",
              "            \"sdtype\": \"numerical\"\n",
              "        },\n",
              "        \"CountClassCoupled numeric\": {\n",
              "            \"sdtype\": \"numerical\"\n",
              "        },\n",
              "        \"CountClassBase numeric\": {\n",
              "            \"sdtype\": \"numerical\"\n",
              "        },\n",
              "        \"CountInput_Max numeric\": {\n",
              "            \"sdtype\": \"numerical\"\n",
              "        },\n",
              "        \"CountInput_Mean numeric\": {\n",
              "            \"sdtype\": \"numerical\"\n",
              "        },\n",
              "        \"CountInput_Min numeric\": {\n",
              "            \"sdtype\": \"numerical\"\n",
              "        },\n",
              "        \"CountOutput_Max numeric\": {\n",
              "            \"sdtype\": \"numerical\"\n",
              "        },\n",
              "        \"CountOutput_Mean numeric\": {\n",
              "            \"sdtype\": \"numerical\"\n",
              "        },\n",
              "        \"CountOutput_Min numeric\": {\n",
              "            \"sdtype\": \"numerical\"\n",
              "        },\n",
              "        \"CountPath_Max numeric\": {\n",
              "            \"sdtype\": \"numerical\"\n",
              "        },\n",
              "        \"CountPath_Mean numeric\": {\n",
              "            \"sdtype\": \"numerical\"\n",
              "        },\n",
              "        \"CountPath_Min numeric\": {\n",
              "            \"sdtype\": \"numerical\"\n",
              "        },\n",
              "        \"MaxNesting_Max numeric\": {\n",
              "            \"sdtype\": \"numerical\"\n",
              "        },\n",
              "        \"MaxNesting_Mean numeric\": {\n",
              "            \"sdtype\": \"numerical\"\n",
              "        },\n",
              "        \"MaxNesting_Min numeric\": {\n",
              "            \"sdtype\": \"numerical\"\n",
              "        },\n",
              "        \"COMM numeric\": {\n",
              "            \"sdtype\": \"numerical\"\n",
              "        },\n",
              "        \"ADEV numeric\": {\n",
              "            \"sdtype\": \"numerical\"\n",
              "        },\n",
              "        \"DDEV numeric\": {\n",
              "            \"sdtype\": \"numerical\"\n",
              "        },\n",
              "        \"Added_lines numeric\": {\n",
              "            \"sdtype\": \"numerical\"\n",
              "        },\n",
              "        \"Del_lines numeric\": {\n",
              "            \"sdtype\": \"numerical\"\n",
              "        },\n",
              "        \"OWN_LINE numeric\": {\n",
              "            \"sdtype\": \"numerical\"\n",
              "        },\n",
              "        \"OWN_COMMIT numeric\": {\n",
              "            \"sdtype\": \"numerical\"\n",
              "        },\n",
              "        \"MINOR_COMMIT numeric\": {\n",
              "            \"sdtype\": \"numerical\"\n",
              "        },\n",
              "        \"MINOR_LINE numeric\": {\n",
              "            \"sdtype\": \"numerical\"\n",
              "        },\n",
              "        \"MAJOR_COMMIT numeric\": {\n",
              "            \"sdtype\": \"numerical\"\n",
              "        },\n",
              "        \"MAJOR_LINE numeric\": {\n",
              "            \"sdtype\": \"numerical\"\n",
              "        },\n",
              "        \"defect\": {\n",
              "            \"sdtype\": \"numerical\"\n",
              "        }\n",
              "    },\n",
              "    \"METADATA_SPEC_VERSION\": \"SINGLE_TABLE_V1\"\n",
              "}"
            ]
          },
          "metadata": {},
          "execution_count": 10
        }
      ],
      "source": [
        "metadata"
      ]
    },
    {
      "cell_type": "code",
      "execution_count": null,
      "metadata": {
        "colab": {
          "base_uri": "https://localhost:8080/",
          "height": 410
        },
        "id": "MkVlrdpDMMvp",
        "outputId": "9aa57cb2-adbc-40e4-eec4-e15acf0617f8"
      },
      "outputs": [
        {
          "output_type": "stream",
          "name": "stderr",
          "text": [
            "/usr/local/lib/python3.10/dist-packages/rdt/transformers/base.py:132: FutureWarning: Future versions of RDT will not support the 'model_missing_values' parameter. Please switch to using the 'missing_value_generation' parameter to select your strategy.\n",
            "  warnings.warn(\n"
          ]
        },
        {
          "output_type": "error",
          "ename": "ContextualVersionConflict",
          "evalue": "ignored",
          "traceback": [
            "\u001b[0;31m---------------------------------------------------------------------------\u001b[0m",
            "\u001b[0;31mContextualVersionConflict\u001b[0m                 Traceback (most recent call last)",
            "\u001b[0;32m<ipython-input-15-6db3af1014e3>\u001b[0m in \u001b[0;36m<cell line: 4>\u001b[0;34m()\u001b[0m\n\u001b[1;32m      2\u001b[0m \u001b[0;34m\u001b[0m\u001b[0m\n\u001b[1;32m      3\u001b[0m \u001b[0msynthesizer\u001b[0m \u001b[0;34m=\u001b[0m \u001b[0mGaussianCopulaSynthesizer\u001b[0m\u001b[0;34m(\u001b[0m\u001b[0mmetadata\u001b[0m\u001b[0;34m)\u001b[0m\u001b[0;34m\u001b[0m\u001b[0;34m\u001b[0m\u001b[0m\n\u001b[0;32m----> 4\u001b[0;31m \u001b[0msynthesizer\u001b[0m\u001b[0;34m.\u001b[0m\u001b[0mfit\u001b[0m\u001b[0;34m(\u001b[0m\u001b[0mhotels_table\u001b[0m\u001b[0;34m)\u001b[0m\u001b[0;34m\u001b[0m\u001b[0;34m\u001b[0m\u001b[0m\n\u001b[0m",
            "\u001b[0;32m/usr/local/lib/python3.10/dist-packages/sdv/single_table/base.py\u001b[0m in \u001b[0;36mfit\u001b[0;34m(self, data)\u001b[0m\n\u001b[1;32m    455\u001b[0m         \u001b[0mself\u001b[0m\u001b[0;34m.\u001b[0m\u001b[0m_random_state_set\u001b[0m \u001b[0;34m=\u001b[0m \u001b[0;32mFalse\u001b[0m\u001b[0;34m\u001b[0m\u001b[0;34m\u001b[0m\u001b[0m\n\u001b[1;32m    456\u001b[0m         \u001b[0mprocessed_data\u001b[0m \u001b[0;34m=\u001b[0m \u001b[0mself\u001b[0m\u001b[0;34m.\u001b[0m\u001b[0m_preprocess\u001b[0m\u001b[0;34m(\u001b[0m\u001b[0mdata\u001b[0m\u001b[0;34m)\u001b[0m\u001b[0;34m\u001b[0m\u001b[0;34m\u001b[0m\u001b[0m\n\u001b[0;32m--> 457\u001b[0;31m         \u001b[0mself\u001b[0m\u001b[0;34m.\u001b[0m\u001b[0mfit_processed_data\u001b[0m\u001b[0;34m(\u001b[0m\u001b[0mprocessed_data\u001b[0m\u001b[0;34m)\u001b[0m\u001b[0;34m\u001b[0m\u001b[0;34m\u001b[0m\u001b[0m\n\u001b[0m\u001b[1;32m    458\u001b[0m \u001b[0;34m\u001b[0m\u001b[0m\n\u001b[1;32m    459\u001b[0m     \u001b[0;32mdef\u001b[0m \u001b[0msave\u001b[0m\u001b[0;34m(\u001b[0m\u001b[0mself\u001b[0m\u001b[0;34m,\u001b[0m \u001b[0mfilepath\u001b[0m\u001b[0;34m)\u001b[0m\u001b[0;34m:\u001b[0m\u001b[0;34m\u001b[0m\u001b[0;34m\u001b[0m\u001b[0m\n",
            "\u001b[0;32m/usr/local/lib/python3.10/dist-packages/sdv/single_table/base.py\u001b[0m in \u001b[0;36mfit_processed_data\u001b[0;34m(self, processed_data)\u001b[0m\n\u001b[1;32m    442\u001b[0m         \u001b[0mself\u001b[0m\u001b[0;34m.\u001b[0m\u001b[0m_fitted\u001b[0m \u001b[0;34m=\u001b[0m \u001b[0;32mTrue\u001b[0m\u001b[0;34m\u001b[0m\u001b[0;34m\u001b[0m\u001b[0m\n\u001b[1;32m    443\u001b[0m         \u001b[0mself\u001b[0m\u001b[0;34m.\u001b[0m\u001b[0m_fitted_date\u001b[0m \u001b[0;34m=\u001b[0m \u001b[0mdatetime\u001b[0m\u001b[0;34m.\u001b[0m\u001b[0mdatetime\u001b[0m\u001b[0;34m.\u001b[0m\u001b[0mtoday\u001b[0m\u001b[0;34m(\u001b[0m\u001b[0;34m)\u001b[0m\u001b[0;34m.\u001b[0m\u001b[0mstrftime\u001b[0m\u001b[0;34m(\u001b[0m\u001b[0;34m'%Y-%m-%d'\u001b[0m\u001b[0;34m)\u001b[0m\u001b[0;34m\u001b[0m\u001b[0;34m\u001b[0m\u001b[0m\n\u001b[0;32m--> 444\u001b[0;31m         \u001b[0mself\u001b[0m\u001b[0;34m.\u001b[0m\u001b[0m_fitted_sdv_version\u001b[0m \u001b[0;34m=\u001b[0m \u001b[0mpkg_resources\u001b[0m\u001b[0;34m.\u001b[0m\u001b[0mget_distribution\u001b[0m\u001b[0;34m(\u001b[0m\u001b[0;34m'sdv'\u001b[0m\u001b[0;34m)\u001b[0m\u001b[0;34m.\u001b[0m\u001b[0mversion\u001b[0m\u001b[0;34m\u001b[0m\u001b[0;34m\u001b[0m\u001b[0m\n\u001b[0m\u001b[1;32m    445\u001b[0m \u001b[0;34m\u001b[0m\u001b[0m\n\u001b[1;32m    446\u001b[0m     \u001b[0;32mdef\u001b[0m \u001b[0mfit\u001b[0m\u001b[0;34m(\u001b[0m\u001b[0mself\u001b[0m\u001b[0;34m,\u001b[0m \u001b[0mdata\u001b[0m\u001b[0;34m)\u001b[0m\u001b[0;34m:\u001b[0m\u001b[0;34m\u001b[0m\u001b[0;34m\u001b[0m\u001b[0m\n",
            "\u001b[0;32m/usr/local/lib/python3.10/dist-packages/pkg_resources/__init__.py\u001b[0m in \u001b[0;36mget_distribution\u001b[0;34m(dist)\u001b[0m\n\u001b[1;32m    524\u001b[0m         \u001b[0mdist\u001b[0m \u001b[0;34m=\u001b[0m \u001b[0mRequirement\u001b[0m\u001b[0;34m.\u001b[0m\u001b[0mparse\u001b[0m\u001b[0;34m(\u001b[0m\u001b[0mdist\u001b[0m\u001b[0;34m)\u001b[0m\u001b[0;34m\u001b[0m\u001b[0;34m\u001b[0m\u001b[0m\n\u001b[1;32m    525\u001b[0m     \u001b[0;32mif\u001b[0m \u001b[0misinstance\u001b[0m\u001b[0;34m(\u001b[0m\u001b[0mdist\u001b[0m\u001b[0;34m,\u001b[0m \u001b[0mRequirement\u001b[0m\u001b[0;34m)\u001b[0m\u001b[0;34m:\u001b[0m\u001b[0;34m\u001b[0m\u001b[0;34m\u001b[0m\u001b[0m\n\u001b[0;32m--> 526\u001b[0;31m         \u001b[0mdist\u001b[0m \u001b[0;34m=\u001b[0m \u001b[0mget_provider\u001b[0m\u001b[0;34m(\u001b[0m\u001b[0mdist\u001b[0m\u001b[0;34m)\u001b[0m\u001b[0;34m\u001b[0m\u001b[0;34m\u001b[0m\u001b[0m\n\u001b[0m\u001b[1;32m    527\u001b[0m     \u001b[0;32mif\u001b[0m \u001b[0;32mnot\u001b[0m \u001b[0misinstance\u001b[0m\u001b[0;34m(\u001b[0m\u001b[0mdist\u001b[0m\u001b[0;34m,\u001b[0m \u001b[0mDistribution\u001b[0m\u001b[0;34m)\u001b[0m\u001b[0;34m:\u001b[0m\u001b[0;34m\u001b[0m\u001b[0;34m\u001b[0m\u001b[0m\n\u001b[1;32m    528\u001b[0m         \u001b[0;32mraise\u001b[0m \u001b[0mTypeError\u001b[0m\u001b[0;34m(\u001b[0m\u001b[0;34m\"Expected string, Requirement, or Distribution\"\u001b[0m\u001b[0;34m,\u001b[0m \u001b[0mdist\u001b[0m\u001b[0;34m)\u001b[0m\u001b[0;34m\u001b[0m\u001b[0;34m\u001b[0m\u001b[0m\n",
            "\u001b[0;32m/usr/local/lib/python3.10/dist-packages/pkg_resources/__init__.py\u001b[0m in \u001b[0;36mget_provider\u001b[0;34m(moduleOrReq)\u001b[0m\n\u001b[1;32m    396\u001b[0m     \u001b[0;34m\"\"\"Return an IResourceProvider for the named module or requirement\"\"\"\u001b[0m\u001b[0;34m\u001b[0m\u001b[0;34m\u001b[0m\u001b[0m\n\u001b[1;32m    397\u001b[0m     \u001b[0;32mif\u001b[0m \u001b[0misinstance\u001b[0m\u001b[0;34m(\u001b[0m\u001b[0mmoduleOrReq\u001b[0m\u001b[0;34m,\u001b[0m \u001b[0mRequirement\u001b[0m\u001b[0;34m)\u001b[0m\u001b[0;34m:\u001b[0m\u001b[0;34m\u001b[0m\u001b[0;34m\u001b[0m\u001b[0m\n\u001b[0;32m--> 398\u001b[0;31m         \u001b[0;32mreturn\u001b[0m \u001b[0mworking_set\u001b[0m\u001b[0;34m.\u001b[0m\u001b[0mfind\u001b[0m\u001b[0;34m(\u001b[0m\u001b[0mmoduleOrReq\u001b[0m\u001b[0;34m)\u001b[0m \u001b[0;32mor\u001b[0m \u001b[0mrequire\u001b[0m\u001b[0;34m(\u001b[0m\u001b[0mstr\u001b[0m\u001b[0;34m(\u001b[0m\u001b[0mmoduleOrReq\u001b[0m\u001b[0;34m)\u001b[0m\u001b[0;34m)\u001b[0m\u001b[0;34m[\u001b[0m\u001b[0;36m0\u001b[0m\u001b[0;34m]\u001b[0m\u001b[0;34m\u001b[0m\u001b[0;34m\u001b[0m\u001b[0m\n\u001b[0m\u001b[1;32m    399\u001b[0m     \u001b[0;32mtry\u001b[0m\u001b[0;34m:\u001b[0m\u001b[0;34m\u001b[0m\u001b[0;34m\u001b[0m\u001b[0m\n\u001b[1;32m    400\u001b[0m         \u001b[0mmodule\u001b[0m \u001b[0;34m=\u001b[0m \u001b[0msys\u001b[0m\u001b[0;34m.\u001b[0m\u001b[0mmodules\u001b[0m\u001b[0;34m[\u001b[0m\u001b[0mmoduleOrReq\u001b[0m\u001b[0;34m]\u001b[0m\u001b[0;34m\u001b[0m\u001b[0;34m\u001b[0m\u001b[0m\n",
            "\u001b[0;32m/usr/local/lib/python3.10/dist-packages/pkg_resources/__init__.py\u001b[0m in \u001b[0;36mrequire\u001b[0;34m(self, *requirements)\u001b[0m\n\u001b[1;32m    964\u001b[0m         \u001b[0mincluded\u001b[0m\u001b[0;34m,\u001b[0m \u001b[0meven\u001b[0m \u001b[0;32mif\u001b[0m \u001b[0mthey\u001b[0m \u001b[0mwere\u001b[0m \u001b[0malready\u001b[0m \u001b[0mactivated\u001b[0m \u001b[0;32min\u001b[0m \u001b[0mthis\u001b[0m \u001b[0mworking\u001b[0m \u001b[0mset\u001b[0m\u001b[0;34m.\u001b[0m\u001b[0;34m\u001b[0m\u001b[0;34m\u001b[0m\u001b[0m\n\u001b[1;32m    965\u001b[0m         \"\"\"\n\u001b[0;32m--> 966\u001b[0;31m         \u001b[0mneeded\u001b[0m \u001b[0;34m=\u001b[0m \u001b[0mself\u001b[0m\u001b[0;34m.\u001b[0m\u001b[0mresolve\u001b[0m\u001b[0;34m(\u001b[0m\u001b[0mparse_requirements\u001b[0m\u001b[0;34m(\u001b[0m\u001b[0mrequirements\u001b[0m\u001b[0;34m)\u001b[0m\u001b[0;34m)\u001b[0m\u001b[0;34m\u001b[0m\u001b[0;34m\u001b[0m\u001b[0m\n\u001b[0m\u001b[1;32m    967\u001b[0m \u001b[0;34m\u001b[0m\u001b[0m\n\u001b[1;32m    968\u001b[0m         \u001b[0;32mfor\u001b[0m \u001b[0mdist\u001b[0m \u001b[0;32min\u001b[0m \u001b[0mneeded\u001b[0m\u001b[0;34m:\u001b[0m\u001b[0;34m\u001b[0m\u001b[0;34m\u001b[0m\u001b[0m\n",
            "\u001b[0;32m/usr/local/lib/python3.10/dist-packages/pkg_resources/__init__.py\u001b[0m in \u001b[0;36mresolve\u001b[0;34m(self, requirements, env, installer, replace_conflicting, extras)\u001b[0m\n\u001b[1;32m    825\u001b[0m                 \u001b[0;32mcontinue\u001b[0m\u001b[0;34m\u001b[0m\u001b[0;34m\u001b[0m\u001b[0m\n\u001b[1;32m    826\u001b[0m \u001b[0;34m\u001b[0m\u001b[0m\n\u001b[0;32m--> 827\u001b[0;31m             dist = self._resolve_dist(\n\u001b[0m\u001b[1;32m    828\u001b[0m                 \u001b[0mreq\u001b[0m\u001b[0;34m,\u001b[0m \u001b[0mbest\u001b[0m\u001b[0;34m,\u001b[0m \u001b[0mreplace_conflicting\u001b[0m\u001b[0;34m,\u001b[0m \u001b[0menv\u001b[0m\u001b[0;34m,\u001b[0m \u001b[0minstaller\u001b[0m\u001b[0;34m,\u001b[0m \u001b[0mrequired_by\u001b[0m\u001b[0;34m,\u001b[0m \u001b[0mto_activate\u001b[0m\u001b[0;34m\u001b[0m\u001b[0;34m\u001b[0m\u001b[0m\n\u001b[1;32m    829\u001b[0m             )\n",
            "\u001b[0;32m/usr/local/lib/python3.10/dist-packages/pkg_resources/__init__.py\u001b[0m in \u001b[0;36m_resolve_dist\u001b[0;34m(self, req, best, replace_conflicting, env, installer, required_by, to_activate)\u001b[0m\n\u001b[1;32m    871\u001b[0m             \u001b[0;31m# Oops, the \"best\" so far conflicts with a dependency\u001b[0m\u001b[0;34m\u001b[0m\u001b[0;34m\u001b[0m\u001b[0m\n\u001b[1;32m    872\u001b[0m             \u001b[0mdependent_req\u001b[0m \u001b[0;34m=\u001b[0m \u001b[0mrequired_by\u001b[0m\u001b[0;34m[\u001b[0m\u001b[0mreq\u001b[0m\u001b[0;34m]\u001b[0m\u001b[0;34m\u001b[0m\u001b[0;34m\u001b[0m\u001b[0m\n\u001b[0;32m--> 873\u001b[0;31m             \u001b[0;32mraise\u001b[0m \u001b[0mVersionConflict\u001b[0m\u001b[0;34m(\u001b[0m\u001b[0mdist\u001b[0m\u001b[0;34m,\u001b[0m \u001b[0mreq\u001b[0m\u001b[0;34m)\u001b[0m\u001b[0;34m.\u001b[0m\u001b[0mwith_context\u001b[0m\u001b[0;34m(\u001b[0m\u001b[0mdependent_req\u001b[0m\u001b[0;34m)\u001b[0m\u001b[0;34m\u001b[0m\u001b[0;34m\u001b[0m\u001b[0m\n\u001b[0m\u001b[1;32m    874\u001b[0m         \u001b[0;32mreturn\u001b[0m \u001b[0mdist\u001b[0m\u001b[0;34m\u001b[0m\u001b[0;34m\u001b[0m\u001b[0m\n\u001b[1;32m    875\u001b[0m \u001b[0;34m\u001b[0m\u001b[0m\n",
            "\u001b[0;31mContextualVersionConflict\u001b[0m: (urllib3 2.0.4 (/usr/local/lib/python3.10/dist-packages), Requirement.parse('urllib3<1.27,>=1.25.4'), {'botocore'})"
          ]
        }
      ],
      "source": [
        "from sdv.single_table import GaussianCopulaSynthesizer\n",
        "\n",
        "synthesizer = GaussianCopulaSynthesizer(metadata)\n",
        "synthesizer.fit(hotels_table)"
      ]
    },
    {
      "cell_type": "code",
      "source": [],
      "metadata": {
        "id": "If9_iYadQ4sw"
      },
      "execution_count": null,
      "outputs": []
    },
    {
      "cell_type": "code",
      "execution_count": null,
      "metadata": {
        "id": "V6DrGg5CMMzO"
      },
      "outputs": [],
      "source": [
        "from sdv.sampling import Condition\n",
        "c = Condition(\n",
        "    num_rows=2000,\n",
        "    column_values={'defect': 1}\n",
        ")\n",
        "\n",
        "c2 = Condition(\n",
        "    num_rows=2000,\n",
        "    column_values={'defect': 0}\n",
        ")"
      ]
    },
    {
      "cell_type": "code",
      "execution_count": null,
      "metadata": {
        "colab": {
          "base_uri": "https://localhost:8080/"
        },
        "id": "SOlzdiMtL-py",
        "outputId": "a63e35da-4b2d-454c-f593-67d275985153"
      },
      "outputs": [
        {
          "output_type": "stream",
          "name": "stderr",
          "text": [
            "Sampling conditions:   0%|          | 0/4000 [00:00<?, ?it/s]/usr/local/lib/python3.10/dist-packages/sdv/single_table/base.py:889: FutureWarning: In a future version of pandas, a length 1 tuple will be returned when iterating over a groupby with a grouper equal to a list of length 1. Don't supply a list with a single grouper to avoid this warning.\n",
            "  for group, dataframe in grouped_conditions:\n",
            "/usr/local/lib/python3.10/dist-packages/sdv/single_table/base.py:927: FutureWarning: In a future version of pandas, a length 1 tuple will be returned when iterating over a groupby with a grouper equal to a list of length 1. Don't supply a list with a single grouper to avoid this warning.\n",
            "  for transformed_group, transformed_dataframe in transformed_groups:\n",
            "Sampling conditions:  50%|█████     | 2000/4000 [00:01<00:01, 1340.09it/s]/usr/local/lib/python3.10/dist-packages/sdv/single_table/base.py:927: FutureWarning: In a future version of pandas, a length 1 tuple will be returned when iterating over a groupby with a grouper equal to a list of length 1. Don't supply a list with a single grouper to avoid this warning.\n",
            "  for transformed_group, transformed_dataframe in transformed_groups:\n",
            "Sampling conditions: 100%|██████████| 4000/4000 [00:02<00:00, 1393.83it/s]\n"
          ]
        }
      ],
      "source": [
        "synthetic_data = synthesizer.sample_from_conditions(\n",
        "    conditions=[c, c2],\n",
        "    output_file_path='CGAN-PDE.csv'\n",
        ")"
      ]
    },
    {
      "cell_type": "code",
      "execution_count": null,
      "metadata": {
        "id": "cPMrzcM5L-s1"
      },
      "outputs": [],
      "source": []
    },
    {
      "cell_type": "code",
      "execution_count": null,
      "metadata": {
        "id": "mToC4hhcJrrm"
      },
      "outputs": [],
      "source": [
        "synthesizer.save('my_synthesizer.pkl')\n",
        "\n",
        "synthesizer = GaussianCopulaSynthesizer.load('my_synthesizer.pkl')"
      ]
    },
    {
      "cell_type": "markdown",
      "metadata": {
        "id": "61ao4Ya6JvT_"
      },
      "source": [
        "# 3. Gaussian Copula Customization\n",
        "\n",
        "A key benefit of using the Gaussian Copula is **customization and transparency**. This synthesizer estimates the shape of every column using a 1D distribution. We can set these shapes ourselves."
      ]
    },
    {
      "cell_type": "code",
      "execution_count": null,
      "metadata": {
        "id": "JkCBLac7KH0W"
      },
      "outputs": [],
      "source": [
        "custom_synthesizer = GaussianCopulaSynthesizer(\n",
        "    metadata,\n",
        "    default_distribution='truncnorm',\n",
        "    numerical_distributions={\n",
        "        'checkin_date': 'uniform',\n",
        "        'checkout_date': 'uniform',\n",
        "        'room_rate': 'gaussian_kde'\n",
        "    }\n",
        ")\n",
        "\n",
        "custom_synthesizer.fit(real_data)"
      ]
    },
    {
      "cell_type": "markdown",
      "metadata": {
        "id": "OmqO26-BKV2Q"
      },
      "source": [
        "After training, we can inspect the distributions. In this case, the synthesizer returns the parameter it learned using the truncnorm distribution.\n",
        "\n",
        "<font color=navy><i>More information about truncnorm distribution is available in the [scipy documentation](https://docs.scipy.org/doc/scipy/reference/generated/scipy.stats.truncnorm.html).</i></font>"
      ]
    },
    {
      "cell_type": "code",
      "execution_count": null,
      "metadata": {
        "colab": {
          "base_uri": "https://localhost:8080/"
        },
        "id": "wKCd-IexwiuT",
        "outputId": "01287f00-e895-4cff-84f1-c8190d5dbef5"
      },
      "outputs": [
        {
          "data": {
            "text/plain": [
              "{'distribution': 'truncnorm',\n",
              " 'learned_parameters': {'a': -0.32512111259021126,\n",
              "  'b': 2.6275343416277477,\n",
              "  'loc': 0.22104071132962436,\n",
              "  'scale': 0.6770328236255196}}"
            ]
          },
          "execution_count": 14,
          "metadata": {},
          "output_type": "execute_result"
        }
      ],
      "source": [
        "learned_distributions = custom_synthesizer.get_learned_distributions()\n",
        "learned_distributions['has_rewards']"
      ]
    },
    {
      "cell_type": "markdown",
      "metadata": {
        "id": "vtMBQWy4wuSC"
      },
      "source": [
        "By setting these distributions strategically, you can make tradeoffs in the quality of your synthetic data."
      ]
    },
    {
      "cell_type": "code",
      "execution_count": null,
      "metadata": {
        "colab": {
          "base_uri": "https://localhost:8080/"
        },
        "id": "u_FfPnTqw2AX",
        "outputId": "ece94060-4b33-4976-ec80-95e7d8b1d49e"
      },
      "outputs": [
        {
          "name": "stderr",
          "output_type": "stream",
          "text": [
            "Creating report: 100%|██████████| 4/4 [00:00<00:00, 27.18it/s]\n"
          ]
        },
        {
          "name": "stdout",
          "output_type": "stream",
          "text": [
            "\n",
            "Overall Quality Score: 89.65%\n",
            "\n",
            "Properties:\n",
            "Column Shapes: 89.85%\n",
            "Column Pair Trends: 89.45%\n"
          ]
        }
      ],
      "source": [
        "synthetic_data_customized = custom_synthesizer.sample(num_rows=500)\n",
        "\n",
        "quality_report = evaluate_quality(\n",
        "    real_data,\n",
        "    synthetic_data_customized,\n",
        "    metadata\n",
        ")"
      ]
    },
    {
      "cell_type": "markdown",
      "metadata": {
        "id": "CkfLejIXLBUY"
      },
      "source": [
        "And we can verify this using the visualization functions."
      ]
    },
    {
      "cell_type": "code",
      "execution_count": null,
      "metadata": {
        "colab": {
          "base_uri": "https://localhost:8080/",
          "height": 542
        },
        "id": "ZiHjngzoK8n4",
        "outputId": "6844eb8a-7d7c-4b81-fbc3-b772533840b4"
      },
      "outputs": [
        {
          "data": {
            "text/html": [
              "<html>\n",
              "<head><meta charset=\"utf-8\" /></head>\n",
              "<body>\n",
              "    <div>            <script src=\"https://cdnjs.cloudflare.com/ajax/libs/mathjax/2.7.5/MathJax.js?config=TeX-AMS-MML_SVG\"></script><script type=\"text/javascript\">if (window.MathJax && window.MathJax.Hub && window.MathJax.Hub.Config) {window.MathJax.Hub.Config({SVG: {font: \"STIX-Web\"}});}</script>                <script type=\"text/javascript\">window.PlotlyConfig = {MathJaxConfig: 'local'};</script>\n",
              "        <script src=\"https://cdn.plot.ly/plotly-2.18.2.min.js\"></script>                <div id=\"9b0ebeef-4f24-4454-aa89-8e9a3dfcbd9b\" class=\"plotly-graph-div\" style=\"height:525px; width:100%;\"></div>            <script type=\"text/javascript\">                                    window.PLOTLYENV=window.PLOTLYENV || {};                                    if (document.getElementById(\"9b0ebeef-4f24-4454-aa89-8e9a3dfcbd9b\")) {                    Plotly.newPlot(                        \"9b0ebeef-4f24-4454-aa89-8e9a3dfcbd9b\",                        [{\"legendgroup\":\"Real\",\"marker\":{\"color\":\"#000036\"},\"mode\":\"lines\",\"name\":\"Real\",\"showlegend\":true,\"x\":[83.8,84.48208,85.16416,85.84624,86.52832,87.21039999999999,87.89247999999999,88.57455999999999,89.25663999999999,89.93871999999999,90.6208,91.30288,91.98496,92.66704,93.34912,94.0312,94.71328,95.39536,96.07744,96.75952,97.4416,98.12368,98.80575999999999,99.48783999999999,100.16991999999999,100.852,101.53407999999999,102.21616,102.89823999999999,103.58032,104.2624,104.94448,105.62656,106.30864,106.99072,107.6728,108.35488,109.03696,109.71903999999999,110.40111999999999,111.08319999999999,111.76527999999999,112.44735999999999,113.12943999999999,113.81152,114.4936,115.17568,115.85775999999998,116.53984,117.22192,117.904,118.58607999999998,119.26816,119.95024,120.63231999999999,121.31439999999999,121.99647999999999,122.67856,123.36063999999999,124.04271999999999,124.72479999999999,125.40688,126.08895999999999,126.77104,127.45311999999998,128.1352,128.81727999999998,129.49936,130.18144,130.86352,131.54559999999998,132.22768,132.90976,133.59184,134.27392,134.956,135.63808,136.32016,137.00223999999997,137.68431999999999,138.3664,139.04847999999998,139.73056,140.41263999999998,141.09472,141.77679999999998,142.45888,143.14095999999998,143.82304,144.50511999999998,145.1872,145.86928,146.55136,147.23344,147.91552,148.5976,149.27967999999998,149.96176,150.64384,151.32592,152.00799999999998,152.69007999999997,153.37215999999998,154.05424,154.73631999999998,155.4184,156.10048,156.78256,157.46463999999997,158.14672,158.8288,159.51088,160.19295999999997,160.87503999999998,161.55712,162.23919999999998,162.92128,163.60335999999998,164.28544,164.96751999999998,165.6496,166.33168,167.01376,167.69583999999998,168.37791999999996,169.06,169.74208,170.42415999999997,171.10623999999999,171.78832,172.47039999999998,173.15248,173.83456,174.51664,175.19871999999998,175.88079999999997,176.56288,177.24496,177.92703999999998,178.60912,179.29119999999998,179.97328,180.65535999999997,181.33744,182.01952,182.70159999999998,183.38367999999997,184.06576,184.74784,185.42991999999998,186.11199999999997,186.79407999999998,187.47616,188.15823999999998,188.84032,189.5224,190.20448,190.88655999999997,191.56864,192.25072,192.9328,193.61487999999997,194.29695999999998,194.97904,195.66111999999998,196.34319999999997,197.02527999999998,197.70736,198.38943999999998,199.07152,199.7536,200.43568,201.11775999999998,201.79983999999996,202.48191999999997,203.164,203.84607999999997,204.52815999999999,205.21024,205.89231999999998,206.5744,207.25647999999998,207.93856,208.62063999999998,209.30271999999997,209.98479999999998,210.66688,211.34895999999998,212.03103999999996,212.71312,213.3952,214.07727999999997,214.75935999999996,215.44143999999994,216.12351999999998,216.80559999999997,217.48768,218.16976,218.85183999999998,219.53391999999997,220.216,220.89808,221.58015999999998,222.26223999999996,222.94431999999995,223.6264,224.30847999999997,224.99056000000002,225.67264,226.35472,227.03679999999997,227.71887999999996,228.40096,229.08303999999998,229.76511999999997,230.44719999999995,231.12928,231.81135999999998,232.49343999999996,233.17552,233.8576,234.53967999999998,235.22175999999996,235.90384,236.58592,237.26799999999997,237.95007999999996,238.63216,239.31423999999998,239.99631999999997,240.6784,241.36048,242.04255999999998,242.72463999999997,243.40671999999995,244.0888,244.77087999999998,245.45295999999996,246.13504,246.81712,247.49919999999997,248.18127999999996,248.86336,249.54543999999999,250.22751999999997,250.90959999999995,251.59168,252.27375999999998,252.95583999999997,253.63792,254.32,255.00207999999998,255.68415999999996,256.36624,257.04832,257.7304,258.41247999999996,259.09455999999994,259.77664,260.45871999999997,261.1408,261.82288,262.50496,263.18703999999997,263.86912,264.5512,265.23328,265.91535999999996,266.59743999999995,267.27952,267.9616,268.64368,269.32576,270.00784,270.68992,271.37199999999996,272.05408,272.73616,273.41823999999997,274.10031999999995,274.78239999999994,275.46448,276.14655999999997,276.82864,277.51072,278.1928,278.87487999999996,279.55696,280.23904,280.92112,281.60319999999996,282.28527999999994,282.96736,283.64943999999997,284.33152,285.0136,285.69568,286.37775999999997,287.05983999999995,287.74192,288.424,289.10607999999996,289.78815999999995,290.47024,291.15232,291.83439999999996,292.51648,293.19856,293.88063999999997,294.56271999999996,295.2448,295.92688,296.60895999999997,297.29103999999995,297.97311999999994,298.6552,299.33727999999996,300.01936,300.70144,301.38352,302.06559999999996,302.74767999999995,303.42976,304.11184,304.79391999999996,305.47599999999994,306.15808,306.84015999999997,307.52224,308.20432,308.8864,309.56847999999997,310.25055999999995,310.93264,311.61472,312.29679999999996,312.97887999999995,313.66095999999993,314.34304,315.02511999999996,315.7072,316.38928,317.07135999999997,317.75343999999996,318.43551999999994,319.1176,319.79967999999997,320.48175999999995,321.16383999999994,321.84592,322.52799999999996,323.21008,323.89216,324.57424,325.25631999999996,325.93839999999994,326.62048,327.30255999999997,327.98463999999996,328.66671999999994,329.3488,330.03087999999997,330.71295999999995,331.39504,332.07712,332.75919999999996,333.44127999999995,334.12336,334.80544,335.48751999999996,336.16959999999995,336.85168,337.53376,338.21583999999996,338.89792,339.58,340.26207999999997,340.94416,341.62624,342.30832,342.99039999999997,343.67248,344.35456,345.03664,345.71871999999996,346.4008,347.08287999999993,347.76496,348.44704,349.12912,349.8112,350.49327999999997,351.17536,351.85743999999994,352.53952,353.22159999999997,353.90368,354.58575999999994,355.26784,355.94992,356.632,357.31408,357.99616,358.67824,359.36031999999994,360.0424,360.72447999999997,361.40656,362.08863999999994,362.77072,363.4528,364.13487999999995,364.81696,365.49904,366.18112,366.86319999999995,367.54528,368.22736,368.90943999999996,369.59151999999995,370.2736,370.95568000000003,371.63775999999996,372.31984,373.00192,373.68399999999997,374.36607999999995,375.04816,375.73024,376.41231999999997,377.09439999999995,377.77648,378.45856,379.14063999999996,379.82272,380.5048,381.18688,381.86895999999996,382.55104,383.23312,383.91519999999997,384.59727999999996,385.27936,385.96144,386.64351999999997,387.3256,388.00768,388.68976,389.37183999999996,390.05392,390.73599999999993,391.41808,392.10015999999996,392.78224,393.46432,394.14639999999997,394.82848,395.51055999999994,396.19264,396.87471999999997,397.5568,398.23887999999994,398.92096,399.60303999999996,400.28512,400.9672,401.64928,402.33136,403.01343999999995,403.69552,404.3776,405.05968,405.74175999999994,406.42384,407.10591999999997,407.78799999999995,408.47008,409.15216,409.83424,410.51631999999995,411.1984,411.88048,412.56255999999996,413.24463999999995,413.92672,414.6088,415.29087999999996,415.97296,416.65504,417.33711999999997,418.01919999999996,418.70128,419.38336,420.06543999999997,420.74751999999995,421.4296,422.1116799999999,422.79375999999996,423.47584,424.15792],\"xaxis\":\"x\",\"y\":[0.002992102776527498,0.0031745052654736567,0.0033638606016342864,0.0035600776665581438,0.0037630309452086246,0.003972559224693039,0.004188464490108039,0.004410511039705898,0.00463842484041325,0.004871893143216954,0.005110564376075181,0.005354048329823995,0.005601916650045914,0.005853703645067343,0.006108907417184171,0.006366991320911052,0.006627385748547717,0.006889490239698291,0.007152675907613831,0.007416288171405226,0.007679649779346938,0.007942064104716734,0.008202818691952196,0.008461189027404335,0.008716442505693006,0.008967842559668785,0.009214652919314942,0.009456141962628936,0.009691587119646518,0.009920279289352546,0.010141527228289602,0.010354661869253321,0.010559040528566046,0.010754050961058343,0.01093911522305636,0.011113693305366207,0.011277286500444862,0.011429440470623699,0.01156974798737403,0.011697851315129505,0.011813444217062999,0.011916273564398415,0.012006140535264258,0.012082901393700971,0.012146467844153396,0.012196806961543497,0.01223394070176082,0.012257945002058738,0.012268948485338892,0.01226713078658027,0.012252720523663729,0.012225992938503842,0.012187267237676517,0.012136903664585115,0.012075300337599243,0.012002889890506496,0.01192013595301621,0.011827529509935316,0.011725585177996616,0.011614837439165845,0.011495836868596718,0.011369146394265641,0.011235337623727153,0.011094987271420257,0.010948673717567602,0.010796973726984054,0.010640459353102889,0.010479695049282676,0.01031523500603469,0.010147620729260365,0.009977378870969873,0.009805019320317427,0.009631033559192441,0.009455893283096494,0.009280049284664051,0.009103930593991259,0.008927943866964178,0.008752473010057984,0.008577879027642649,0.008404500075703173,0.008232651704079863,0.008062627267872675,0.007894698487536796,0.00772911613643081,0.007566110834155007,0.00740589392393312,0.0072486584125277444,0.007094579951724796,0.006943817841250644,0.006796516034076914,0.006652804126390601,0.006512798316035633,0.006376602314932668,0.006244308202825396,0.006115997211651023,0.005991740431855404,0.0058715994340392584,0.005755626801395071,0.005643866570447563,0.005536354579611254,0.005433118727001063,0.005334179140749679,0.005239548266775141,0.005149230880484231,0.0050632240302730305,0.00498151692188066,0.0049040907536545665,0.004830918513585498,0.004761964749562881,0.004697185324682803,0.004636527169611703,0.004579928043971949,0.004527316318476371,0.004478610789105474,0.004433720534005176,0.004392544822995631,0.00435497308864051,0.004320884966745786,0.004290150412957257,0.004262629900826802,0.004238174705338797,0.004216627274453256,0.004197821689752342,0.004181584215795431,0.004167733936316896,0.004156083473962726,0.004146439788877979,0.0041386050501486015,0.004132377572885722,0.004127552812637969,0.004123924407842274,0.0041212852601900185,0.004119428642106041,0.004118149320020819,0.0041172446817690335,0.004116515856274059,0.00411576881367959,0.004114815434264772,0.004113474534824545,0.004111572841704597,0.00410894590034244,0.00410543891196972,0.004100907489063276,0.004095218322177135,0.0040882497519274365,0.0040798922411187455,0.004070048743272977,0.004058634965131166,0.004045579522022878,0.00403082398631703,0.00401432283046148,0.003996043267367176,0.003975964992077494,0.003954079829768204,0.003930391296132148,0.003904914077102961,0.003877673435652281,0.0038487045540459178,0.0038180518204612175,0.003785768069244675,0.0037519137843263642,0.0037165562754054135,0.003679768836483081,0.0036416298961523806,0.003602222168762924,0.003561631815177027,0.0035199476213286724,0.0034772602022032284,0.0034336612381861364,0.0033892427499975725,0.0033440964176512477,0.0032983129480638734,0.003251981495111961,0.003205189135097795,0.0031580203997602636,0.0031105568681606376,0.0030628768179994438,0.0030150549361879744,0.0029671620878151815,0.0029192651420240235,0.002871426852746941,0.0028237057917510073,0.002776156331011841,0.0027288286710732256,0.002681768911754799,0.002635019161342889,0.0025886176802357172,0.0025425990549111125,0.0024969943980376673,0.002451831570554409,0.0024071354215941163,0.002362928042216069,0.0023192290290399683,0.002276055754027964,0.0022334236368418093,0.0021913464164018295,0.0021498364184888326,0.0021089048164564,0.0020685618823544348,0.0020288172260033346,0.0019896800197991664,0.0019511592072715268,0.001913263693656316,0.0018760025169844885,0.0018393849984240799,0.0018034208708463152,0.001768120384817424,0.0017334943914457143,0.0016995544017387157,0.00166631262234796,0.0016337819677990847,0.0016019760495224573,0.0015709091422139157,0.0015405961282661804,0.0015110524212179253,0.0014822938693686528,0.0014543366409017029,0.001427197092043593,0.0014008916199635202,0.0013754365022802032,0.001350847725192194,0.0013271408023799811,0.00130433058694162,0.0012824310787155609,0.0012614552294132372,0.0012414147480273175,0.001222319908998008,0.0012041793656078078,0.0011869999710336172,0.0011707866094135592,0.0011555420391841191,0.0011412667508113726,0.001127958840879277,0.0011156139043094829,0.001104224946272616,0.0010937823151132735,0.0010842736573524914,0.0010756838955559192,0.0010679952295668544,0.0010611871613048615,0.0010552365430272007,0.0010501176486463393,0.0010458022673971532,0.001042259818856535,0.0010394574880409659,0.0010373603790485135,0.0010359316854750384,0.001035132875624055,0.0010349238903493568,0.0010352633512222085,0.0010361087766031713,0.0010374168031244697,0.0010391434100534985,0.0010412441440122019,0.0010436743415706128,0.0010463893473149199,0.0010493447251096468,0.0010524964604275413,0.0010558011518068807,0.001059216189710539,0.0010626999213003995,0.001066211799900055,0.0010697125181933838,0.0010731641244914293,0.001076530121689589,0.001079775548826321,0.0010828670454376566,0.001085772899173933,0.001088463077400976,0.0010909092437431465,0.0010930847607357691,0.0010949646799359753,0.0010965257209908103,0.0010977462412771275,0.0010986061978077739,0.0010990871031418073,0.0010991719770429213,0.0010988452956004402,0.0010980929394626322,0.0010969021427346497,0.001095261443965984,0.0010931606404982485,0.0010905907472672208,0.0010875439609576735,0.0010840136302003702,0.0010799942322823495,0.0010754813566194149,0.001070471695018487,0.0010649630385420042,0.0010589542805815703,0.001052445425557789,0.0010454376024916323,0.0010379330825431704,0.0010299352994887771,0.0010214488720103514,0.0010124796266010806,0.001003034619852696,0.000993122158879237,0.0009827518186514232,0.0009719344550628032,0.0009606822126219102,0.0009490085257616072,0.0009369281128746527,0.0009244569623201316,0.0009116123097952289,0.0008984126066271043,0.0008848774787066307,0.0008710276759553512,0.0008568850123857062,0.0008424722969784563,0.0008278132557571556,0.0008129324455842522,0.0007978551603343462,0.0007826073302152305,0.0007672154151044921,0.0007517062928479255,0.0007361071435246284,0.0007204453307226063,0.0007047482808880661,0.0006890433618121749,0.000673357761302225,0.0006577183670511122,0.0006421516486721066,0.0006266835428067263,0.0006113393421447914,0.0005961435891194682,0.0005811199749589189,0.0005662912446923021,0.0005516791086234424,0.0005373041607027769,0.0005231858041486164,0.0005093421845943033,0.0004957901309692491,0.000482545104260327,0.0004696211542460637,0.00045703088424963085,0.000444785423917886,0.00043289441000187367,0.00042136597508890067,0.000410206744216265,0.00039942183928099297,0.00038901489114722527,0.0003789880593416003,0.00036934205921608954,0.0003600761964454297,0.0003511884087116984,0.0003426753144102311,0.0003345322681881677,0.0003267534230987301,0.00031933179912019933,0.0003122593577485233,0.0003055270823263572,0.0002991250637197757,0.0002930425908972639,0.0002872682459051299,0.0002817900026701694,0.00027659532899576865,0.00027167129105327574,0.00026700465960804466,0.0002625820171610323,0.0002583898651339218,0.0002544147301804103,0.0002506432686702585,0.0002470623683675826,0.00024365924631218562,0.0002404215419136454,0.0002373374042834611,0.00023439557286138532,0.00023158545043856167,0.0002288971677422143,0.00022632163882405215,0.00022385060658656678,0.0002214766778869609,0.0002191933477761863,0.00021699501255882718,0.00021487697149637677,0.0002128354171196973,0.00021086741426374923,0.00020897086808657777,0.0002071444814824791,0.0002053877024437042,0.000203700662063408,0.00020208410400243134,0.00020053930636155625,0.000199067997007029,0.00019767226348850977,0.0001963544587635739,0.0001951171040001861,0.00019396278976721007,0.00019289407694238837,0.00019191339866709268,0.00019102296465756994,0.0001902246691438733,0.00018952000365093718,0.00018890997576244398,0.00018839503491862333,0.00018797500619555826,0.00018764903289781866,0.00018741552867031637,0.00018727213970135012,0.00018721571744911977,0.00018724230218082507,0.00018734711746909254,0.00018752457564711865,0.0001877682940837185,0.0001880711220044098,0.0001884251774566063,0.00018882189389756837,0.0001892520757744247,0.00018970596236753454,0.00019017329908267372,0.00019064341530474258,0.00019110530786637162,0.0001915477291391957,0.0001919592787236921,0.00019232849769512341,0.0001926439643579016,0.0001928943904680183,0.00019306871690233891,0.00019315620778368402,0.00019314654211076524,0.00019302990199115977,0.000192797056632536,0.00019243944131113586,0.0001919492306059952,0.00019131940526140485,0.00019054381211763046,0.0001896172166298795,0.00018853534757696706,0.00018729493364318402,0.00018589373163868731,0.0001843305462045627,0.00018260524092788858,0.0001807187408690573,0.00017867302657779204,0.00017647111974525525,0.00017411706070704638,0.00017161587807537892,0.00016897355083805998,0.0001661969633168749,0.00016329385342837982,0.00016027275473585984,0.000157142932822128,0.00015391431654891526,0.00015059742479970112,0.00014720328932896825,0.00014374337436197617,0.00014022949360521295,0.00013667372533876718,0.00013308832626788227,0.00012948564481206787,0.0001258780345062889,0.00012227776818011263,0.00011869695356727388,0.00011514745098011949,0.00011164079366090054,0.00010818811139510853,0.00010480005794118561,0.00010148674279619186,9.825766777867822e-05,9.512166886831734e-05,9.208686369714707e-05,8.916060503986171e-05,8.634944060083168e-05,8.365907934377293e-05,8.1094364556645e-05,7.865925378978875e-05,7.635680574995775e-05,7.418917417713817e-05,7.215760867533273e-05,7.026246241320705e-05,6.850320655607905e-05,6.687845123760921e-05,6.538597282810162e-05,6.40227472069867e-05,6.278498870017699e-05,6.166819429900286e-05,6.066719273664452e-05,5.977619796078416e-05,5.8988866507899645e-05,5.829835825552994e-05,5.7697400004239225e-05,5.717835132113733e-05,5.673327206191248e-05,5.635399097856382e-05,5.603217481554787e-05,5.575939729796553e-05,5.5527207421777175e-05,5.53271964678436e-05,5.515106317880388e-05,5.499067656031362e-05,5.483813579581424e-05,5.468582679656301e-05,5.452647494584131e-05,5.4353193637730565e-05,5.4159528256196443e-05,5.393949528899394e-05,5.3687616322585804e-05,5.339894671829198e-05,5.306909882565797e-05],\"yaxis\":\"y\",\"type\":\"scatter\",\"fill\":\"tozeroy\",\"hovertemplate\":\"<b>Real</b><br>Value: %{x}<br>Frequency: %{y}<extra></extra>\"},{\"legendgroup\":\"Synthetic\",\"marker\":{\"color\":\"#01E0C9\"},\"mode\":\"lines\",\"name\":\"Synthetic\",\"showlegend\":true,\"x\":[83.8,84.43462,85.06924,85.70385999999999,86.33848,86.9731,87.60772,88.24234,88.87696,89.51158,90.1462,90.78081999999999,91.41544,92.05006,92.68468,93.3193,93.95392,94.58854,95.22316,95.85777999999999,96.4924,97.12702,97.76164,98.39626,99.03088,99.6655,100.30011999999999,100.93474,101.56935999999999,102.20398,102.8386,103.47322,104.10784,104.74246,105.37708,106.01169999999999,106.64632,107.28094,107.91556,108.55018,109.1848,109.81942,110.45403999999999,111.08866,111.72327999999999,112.3579,112.99252,113.62714,114.26176,114.89638,115.531,116.16561999999999,116.80024,117.43486,118.06948,118.7041,119.33872,119.97334000000001,120.60795999999999,121.24258,121.87719999999999,122.51182,123.14644,123.78106,124.41568,125.0503,125.68492,126.31953999999999,126.95416,127.58877999999999,128.2234,128.85802,129.49264,130.12726,130.76188,131.3965,132.03112,132.66574,133.30036,133.93498,134.56959999999998,135.20422,135.83884,136.47346,137.10808,137.74269999999999,138.37732,139.01194,139.64656,140.28118,140.9158,141.55042,142.18504000000001,142.81966,143.45427999999998,144.0889,144.72352,145.35814,145.99276,146.62738,147.262,147.89661999999998,148.53124,149.16586,149.80048,150.4351,151.06972000000002,151.70434,152.33896,152.97358,153.6082,154.24282,154.87743999999998,155.51206,156.14668,156.7813,157.41592,158.05053999999998,158.68516,159.31977999999998,159.9544,160.58902,161.22364,161.85825999999997,162.49288,163.1275,163.76211999999998,164.39674000000002,165.03136,165.66598,166.3006,166.93522000000002,167.56984,168.20445999999998,168.83908,169.4737,170.10832,170.74294,171.37756,172.01218,172.64679999999998,173.28142,173.91604,174.55066,175.18527999999998,175.8199,176.45452,177.08914,177.72376,178.35838,178.993,179.62761999999998,180.26224000000002,180.89686,181.53148,182.1661,182.80072,183.43534,184.06996,184.70458,185.3392,185.97382,186.60844,187.24306,187.87768,188.51229999999998,189.14692,189.78154,190.41616,191.05077999999997,191.6854,192.32002,192.95463999999998,193.58926,194.22388,194.8585,195.49311999999998,196.12774000000002,196.76236,197.39697999999999,198.0316,198.66622,199.30084,199.93546,200.57008000000002,201.2047,201.83932,202.47394,203.10856,203.74318,204.37779999999998,205.01242,205.64704,206.28166,206.91628,207.55089999999998,208.18552,208.82013999999998,209.45476,210.08938,210.724,211.35861999999997,211.99324000000001,212.62786,213.26247999999998,213.89710000000002,214.53172,215.16634,215.80095999999998,216.43557999999996,217.0702,217.70481999999998,218.33944000000002,218.97406,219.60868,220.24329999999998,220.87792000000002,221.51254,222.14715999999999,222.78177999999997,223.4164,224.05102,224.68564000000003,225.32026000000002,225.95488,226.5895,227.22411999999997,227.85874,228.49336,229.12797999999998,229.76260000000002,230.39722,231.03184,231.66645999999997,232.30107999999996,232.9357,233.57031999999998,234.20494000000002,234.83956,235.47418,236.10879999999997,236.74342000000001,237.37804,238.01265999999998,238.64728000000002,239.2819,239.91652,240.55114000000003,241.18576000000002,241.82038,242.45499999999998,243.08961999999997,243.72424,244.35886,244.99348000000003,245.62810000000002,246.26272,246.89733999999999,247.53195999999997,248.16658,248.8012,249.43581999999998,250.07044000000002,250.70506,251.33968,251.97429999999997,252.60892,253.24354,253.87815999999998,254.51278000000002,255.1474,255.78202,256.41664000000003,257.05126,257.68588,258.3205,258.95511999999997,259.58974,260.22436,260.85898000000003,261.4936,262.12822,262.76284,263.39745999999997,264.03208,264.6667,265.30132000000003,265.93594,266.57056,267.20518,267.83979999999997,268.47442,269.10904,269.74366,270.37828,271.0129,271.64752,272.28214,272.91676,273.55138,274.186,274.82062,275.45524,276.08986,276.72448,277.3591,277.99372,278.62834,279.26295999999996,279.89758,280.5322,281.16682000000003,281.80144,282.43606,283.07068,283.70529999999997,284.33992,284.97454,285.60916,286.24378,286.8784,287.51302,288.14764,288.78226,289.41688,290.0515,290.68612,291.32074,291.95536,292.58998,293.2246,293.85922,294.49384,295.12845999999996,295.76308,296.3977,297.03232,297.66694,298.30156,298.93618,299.57079999999996,300.20542,300.84004,301.47466000000003,302.10928,302.7439,303.37852,304.01314,304.64776,305.28238,305.917,306.55162,307.18624,307.82086000000004,308.45548,309.0901,309.72472,310.35934,310.99396,311.62858,312.2632,312.89782,313.53244,314.16706,314.80168,315.43629999999996,316.07092,316.70554,317.34016,317.97478,318.6094,319.24402,319.87864,320.51326,321.14788,321.78249999999997,322.41712,323.05174,323.68636000000004,324.32098,324.9556,325.59022,326.22484,326.85946,327.49408,328.1287,328.76332,329.39794,330.03256,330.66718,331.30179999999996,331.93642,332.57104,333.20566,333.84028,334.4749,335.10952,335.74414,336.37876,337.01338,337.648,338.28262,338.91724,339.55186000000003,340.18648,340.8211,341.45572,342.09034,342.72496,343.35958000000005,343.99420000000003,344.62882,345.26344,345.89806,346.53268,347.1673,347.80192,348.43654,349.07115999999996,349.70578000000006,350.34040000000005,350.97502000000003,351.60964,352.24426,352.87888000000004,353.5135,354.14812,354.78274,355.41736,356.05198,356.6866,357.32122000000004,357.95584,358.59046,359.22508000000005,359.85970000000003,360.49432,361.12894,361.76356,362.39818,363.0328,363.66742,364.30204,364.93665999999996,365.57128000000006,366.20590000000004,366.84052,367.47514,368.10976,368.74438000000004,369.379,370.01362,370.64824,371.28285999999997,371.91748,372.5521,373.18672000000004,373.82134,374.45596,375.09058000000005,375.72520000000003,376.35982,376.99444,377.62906,378.26368,378.8983,379.53292,380.16754,380.80215999999996,381.43678000000006,382.07140000000004,382.70602,383.34064,383.97526000000005,384.60988000000003,385.2445,385.87912,386.51374,387.14836,387.78298,388.4176,389.05222000000003,389.68684,390.32146000000006,390.95608000000004,391.5907,392.22532,392.85994,393.49456000000004,394.12918,394.7638,395.39842,396.03303999999997,396.66766,397.30228000000005,397.93690000000004,398.57152,399.20614,399.84076000000005,400.47538000000003],\"xaxis\":\"x\",\"y\":[0.004551366836892753,0.004707548814409771,0.004864765989433804,0.005022827541297357,0.005181538752093063,0.0053407014767551065,0.0055001146230119315,0.005659574640791928,0.005818876020733465,0.005977811801484426,0.006136174085469726,0.006293754562760122,0.006450345042586462,0.006605737991916005,0.006759727080340259,0.0069121077303215765,0.0070626776716129795,0.007211237498407553,0.007357591227496804,0.007501546855429282,0.0076429169123687826,0.00778151901006469,0.007917176381073558,0.008049718406119528,0.008178981126260533,0.008304807736344214,0.008427049056101185,0.008545563975138198,0.00866021986806707,0.008770892976040343,0.00887746875106416,0.008979842159626146,0.009077917942409289,0.009171610827161626,0.009260845692153633,0.00934555767807567,0.00942569224670064,0.009501205185157536,0.009572062555218796,0.009638240587592451,0.009699725521816839,0.009756513392973256,0.009808609767047621,0.00985602942737698,0.009898796015199149,0.009936941627873386,0.009970506378848044,0.009999537923906936,0.010024090958623347,0.010044226692280202,0.010060012303772337,0.010071520385187072,0.010078828378858418,0.010082018013707282,0.010081174746614453,0.010076387214425317,0.0100677467019587,0.010055346631089998,0.010039282075606355,0.010019649306095548,0.009996545368636945,0.009970067700521945,0.009940313785650029,0.009907380851636305,0.009871365610034958,0.009832364040442266,0.009790471218602086,0.009745781188005127,0.009698386873862418,0.009648380037750252,0.009595851270678172,0.00954089002183111,0.009483584659787393,0.009424022562623233,0.009362290232985295,0.009298473433950705,0.009232657341299659,0.009164926707703485,0.009095366034277486,0.00902405974496676,0.008951092359317726,0.008876548659340181,0.008800513846376676,0.00872307368416561,0.008644314624605574,0.008564323913094004,0.008483189670718705,0.008401000951016742,0.008317847769476226,0.008233821104433893,0.008149012868507641,0.008063515850191664,0.00797742362572385,0.007890830441804372,0.0078038310701946815,0.007716520635649138,0.007628994419024897,0.007541347637770777,0.00745367520631109,0.007366071479110632,0.007278629979430195,0.007191443116955153,0.007104601897602666,0.007018195628884486,0.006932311624222826,0.006847034909587984,0.006762447935748553,0.0066786302993029345,0.006595658475495021,0.0065136055656129,0.00643254106153105,0.006352530629686588,0.006273635916486688,0.006195914376829298,0.006119419127090138,0.006044198823590232,0.0059702975672151085,0.005897754834515612,0.005826605435284551,0.005756879496279809,0.005688602470456305,0.005621795170781408,0.005556473827444358,0.00549265016703373,0.005430331512050387,0.005369520898949236,0.0053102172127631134,0.005252415336257111,0.005196106311492613,0.005141277511646547,0.005087912820932726,0.005035992820507079,0.004985494978305647,0.004936393840860318,0.004888661225261695,0.004842266409585165,0.004797176320264831,0.004753355715084778,0.004710767360655215,0.004669372203447932,0.004629129533677775,0.004589997141529915,0.004551931465442959,0.004514887732361568,0.004478820090065734,0.004443681731863861,0.004409425014100692,0.004376001567075793,0.004343362400092244,0.004311458001456567,0.004280238434328137,0.004249653429369007,0.004219652475173382,0.004190184907458894,0.004161199997981334,0.00413264704409101,0.00410447545978396,0.004076634869016719,0.004049075201951543,0.004021746794682157,0.003994600492860807,0.003967587759508442,0.003940660787144097,0.003913772614220067,0.0038868772456983345,0.003859929777454872,0.0038328865240535577,0.0038057051492933146,0.0037783447988033914,0.003750766233843742,0.003722931965362658,0.0036948063872736018,0.0036663559078380175,0.0036375490779833124,0.0036083567153440284,0.003578752022791048,0.0035487107002080726,0.003518211048287006,0.0034872340631424558,0.003455763520591689,0.0034237860490076055,0.0033912911897283514,0.003358271444097006,0.0033247223063068926,0.0032906422813411694,0.0032560328874182017,0.0032208986424853985,0.0031852470344416483,0.003149088474911851,0.0031124362365434104,0.0030753063739436676,0.003037717628526832,0.002999691317687711,0.002961251208866296,0.0029224233792102864,0.002883236061680552,0.0028437194785762214,0.0028039056635800934,0.002763828273540028,0.002723522391307048,0.002683024321044395,0.0026423713775032965,0.002601601670829068,0.002560753888515206,0.002519867076161753,0.002478980418717603,0.002438133023893349,0.0023973637094215875,0.00235671079581556,0.0023162119062334285,0.0022759037749959586,0.0022358220662288424,0.002196001204008988,0.002156474215286882,0.002117272586735753,0.002078426136544016,0.00203996290202152,0.0020019090437339983,0.0019642887667156305,0.001927124259138693,0.0018904356486435202,0.0018542409763540166,0.001818556188425472,0.0017833951447950988,0.0017487696446330753,0.0017146894678261664,0.0016811624316681079,0.0016481944617840999,0.0016157896761821067,0.0015839504812031693,0.0015526776780384977,0.0015219705783935335,0.0014918271278099348,0.0014622440351064385,0.0014332169063689714,0.001404740381909904,0.0013768082746257024,0.0013494137082111623,0.001322549253736286,0.0012962070631577537,0.001270378998419644,0.00124505675489618,0.0012202319780410566,0.0011958963722314704,0.001172041800928447,0.0011486603774159179,0.0011257445455273116,0.0011032871499176882,0.0010812814955892464,0.0010597213965262212,0.0010386012134395333,0.0010179158807595559,0.0009976609231456685,0.000977832461901471,0.0009584272117934107,0.0009394424688667515,0.0009208760899350465,0.0009027264644870134,0.0008849924798073122,0.0008676734801450241,0.0008507692207858234,0.0008342798178911256,0.0008182056949609086,0.0008025475267568878,0.0007873061814908838,0.0007724826620407405,0.0007580780469043705,0.0007440934315435364,0.0007305298707039874,0.000717388322229914,0.0007046695928196539,0.0006923742860982596,0.0006805027533124693,0.0006690550468862596,0.0006580308770121041,0.0006474295713952942,0.0006372500382174203,0.0006274907323408648,0.0006181496247398136,0.0006092241751147373,0.0006007113076269001,0.0005926073896768397,0.0005849082136455349,0.0005776089815185592,0.0005707042923210244,0.0005641881323036654,0.000558053867836794,0.000552294240988065,0.0005469013677806215,0.0005418667391492154,0.0005371812246319106,0.0005328350788530356,0.0005288179508679833,0.0005251188964513886,0.0005217263934164491,0.0005186283600539875,0.0005158121767749886,0.0005132647110295555,0.0005109723455584551,0.0005089210100109621,0.0005070962159348376,0.0005054830951116464,0.0005040664411738477,0.0005028307544001003,0.0005017602895429075,0.0005008391064991123,0.0005000511235899025,0.000499380173173986,0.0004988100592764803,0.0004983246168778094,0.0004979077724725034,0.0004975436054780011,0.0004972164100491191,0.0004969107568352785,0.000496611554205342,0.000496304108459211,0.000495974182546285,0.0004956080528184172,0.0004951925633589031,0.0004947151774489777,0.0004941640257587786,0.0004935279508801947,0.0004927965478538472,0.0004919602003808569,0.0004910101124513803,0.0004899383351653197,0.0004887377885654179,0.0004874022783484154,0.0004859265073653827,0.00048430608186716446,0.000482537512494528,0.00048061821005464874,0.0004785464761656399,0.0004763214888886386,0.00047394328350232833,0.00047141272860757195,0.00046873149778004376,0.0004659020370163558,0.0004629275282442552,0.0004598118491901719,0.00045655952991771566,0.00045317570636893665,0.0004496660712562337,0.000446036822666924,0.0004422946107546891,0.00043844648290237883,0.00043449982774906984,0.00043046231848061997,0.0004263418557873014,0.00042214651089411286,0.00041788446906902775,0.0004135639740114364,0.00040919327351716993,0.000404780566807594,0.00040033395389805734,0.0003958613873653023,0.0003913706268541928,0.0003868691966411694,0.0003823643465451592,0.0003778630164463739,0.00037337180463959156,0.00036889694021141536,0.00036444425959091496,0.00036001918738042226,0.0003556267215285689,0.0003512714228614452,0.0003469574089407431,0.00034268835217055136,0.0003384674820278514,0.0003342975912465355,0.00033018104574155944,0.0003261197980195882,0.0003221154037857208,0.0003181690414233971,0.0003142815339969025,0.0003104533734035449,0.00030668474628597783,0.0003029755613045639,0.0002993254773653299,0.0002957339324009677,0.0002922001723104462,0.00028872327967687596,0.00028530220190304813,0.00028193577842903974,0.0002786227667259811,0.0002753618667938204,0.0002721517439280409,0.0002689910495600033,0.00026587844001708445,0.0002628125930913116,0.00025979222234780587,0.0002568160891463791,0.0002538830123901924,0.0002509918760538241,0.0002481416345787493,0.0002453313162564786,0.00024256002474804198,0.00023982693891264745,0.00023713131113799193,0.0002344724643796032,0.00023184978812674224,0.0002292627335177438,0.00022671080782840807,0.0002241935685533768,0.00022171061729259176,0.0002192615936433826,0.00021684616928382017,0.00021446404241523082,0.00021211493271166496,0.00020979857690220724,0.00020751472508882235,0.00020526313787848322,0.00020304358438415467,0.00020085584112525612,0.0001986996918349933,0.00019657492815979057,0.00019448135121535097,0.00019241877394490358,0.00019038702420820394,0.00018838594851500117,0.00018641541630411664,0.00018447532465900538,0.00018256560334275424,0.00018068622002981514,0.00017883718560831317,0.00017701855942539195,0.00017523045434857614,0.00017347304151839695,0.00017174655467133771,0.00017005129391730125,0.00016838762886211878,0.0001667560009728669,0.00016515692509182125,0.0001635909900135316,0.00016205885804867438,0.0001605612635078705,0.00015909901004849565,0.0001576729668375954,0.0001562840634943062,0.00015493328378570842,0.00015362165806077774,0.00015235025441813656,0.0001511201686146589,0.00014993251273373164,0.00014878840264416732,0.0001476889442934735,0.00014663521889242957,0.00014562826706175855,0.00014466907202608328,0.00014375854195530143,0.00014289749156894759,0.000142086623134902,0.00014132650700983507,0.00014061756188482746,0.00013996003491546628,0.00013935398193109857,0.0001387992479325161,0.00013829544810081638,0.00013784194955214192,0.00013743785408308265,0.0001370819821593139,0.00013677285840516047,0.00013650869885382973,0.00013628740021669956,0.00013610653142495294,0.0001359633276877493,0.00013585468729780694,0.00013577717139759367,0.00013572700689722073,0.00013570009270863874,0.00013569200942995256,0.00013569803257882062,0.00013571314943529875,0.00013573207951252957,0.00013574929862887738,0.00013575906650804974,0.00013575545778510788,0.00013573239624678436,0.0001356836920850001,0.0001356030818937423,0.00013548427109239363,0.00013532097841406924,0.00013510698205638122,0.00013483616705514483,0.0001345025734096592,0.00013410044446204568,0.00013362427501336217,0.00013306885864635396,0.0001324293337191863,0.00013170122749662483,0.00013088049789505282,0.00012996357233546957,0.0001289473832240714,0.00012782939961292612,0.00012660765463320115,0.00012528076833985771,0.0001238479656590167,0.00012230908918655817,0.0001206646066480569,0.00011891561289492308],\"yaxis\":\"y\",\"type\":\"scatter\",\"fill\":\"tozeroy\",\"hovertemplate\":\"<b>Synthetic</b><br>Value: %{x}<br>Frequency: %{y}<extra></extra>\"}],                        {\"barmode\":\"overlay\",\"hovermode\":\"closest\",\"legend\":{\"traceorder\":\"reversed\"},\"xaxis\":{\"anchor\":\"y2\",\"domain\":[0.0,1.0],\"zeroline\":false,\"title\":{\"text\":\"Value\"}},\"yaxis\":{\"anchor\":\"free\",\"domain\":[0.0,1],\"position\":0.0,\"title\":{\"text\":\"Frequency\"}},\"template\":{\"data\":{\"histogram2dcontour\":[{\"type\":\"histogram2dcontour\",\"colorbar\":{\"outlinewidth\":0,\"ticks\":\"\"},\"colorscale\":[[0.0,\"#0d0887\"],[0.1111111111111111,\"#46039f\"],[0.2222222222222222,\"#7201a8\"],[0.3333333333333333,\"#9c179e\"],[0.4444444444444444,\"#bd3786\"],[0.5555555555555556,\"#d8576b\"],[0.6666666666666666,\"#ed7953\"],[0.7777777777777778,\"#fb9f3a\"],[0.8888888888888888,\"#fdca26\"],[1.0,\"#f0f921\"]]}],\"choropleth\":[{\"type\":\"choropleth\",\"colorbar\":{\"outlinewidth\":0,\"ticks\":\"\"}}],\"histogram2d\":[{\"type\":\"histogram2d\",\"colorbar\":{\"outlinewidth\":0,\"ticks\":\"\"},\"colorscale\":[[0.0,\"#0d0887\"],[0.1111111111111111,\"#46039f\"],[0.2222222222222222,\"#7201a8\"],[0.3333333333333333,\"#9c179e\"],[0.4444444444444444,\"#bd3786\"],[0.5555555555555556,\"#d8576b\"],[0.6666666666666666,\"#ed7953\"],[0.7777777777777778,\"#fb9f3a\"],[0.8888888888888888,\"#fdca26\"],[1.0,\"#f0f921\"]]}],\"heatmap\":[{\"type\":\"heatmap\",\"colorbar\":{\"outlinewidth\":0,\"ticks\":\"\"},\"colorscale\":[[0.0,\"#0d0887\"],[0.1111111111111111,\"#46039f\"],[0.2222222222222222,\"#7201a8\"],[0.3333333333333333,\"#9c179e\"],[0.4444444444444444,\"#bd3786\"],[0.5555555555555556,\"#d8576b\"],[0.6666666666666666,\"#ed7953\"],[0.7777777777777778,\"#fb9f3a\"],[0.8888888888888888,\"#fdca26\"],[1.0,\"#f0f921\"]]}],\"heatmapgl\":[{\"type\":\"heatmapgl\",\"colorbar\":{\"outlinewidth\":0,\"ticks\":\"\"},\"colorscale\":[[0.0,\"#0d0887\"],[0.1111111111111111,\"#46039f\"],[0.2222222222222222,\"#7201a8\"],[0.3333333333333333,\"#9c179e\"],[0.4444444444444444,\"#bd3786\"],[0.5555555555555556,\"#d8576b\"],[0.6666666666666666,\"#ed7953\"],[0.7777777777777778,\"#fb9f3a\"],[0.8888888888888888,\"#fdca26\"],[1.0,\"#f0f921\"]]}],\"contourcarpet\":[{\"type\":\"contourcarpet\",\"colorbar\":{\"outlinewidth\":0,\"ticks\":\"\"}}],\"contour\":[{\"type\":\"contour\",\"colorbar\":{\"outlinewidth\":0,\"ticks\":\"\"},\"colorscale\":[[0.0,\"#0d0887\"],[0.1111111111111111,\"#46039f\"],[0.2222222222222222,\"#7201a8\"],[0.3333333333333333,\"#9c179e\"],[0.4444444444444444,\"#bd3786\"],[0.5555555555555556,\"#d8576b\"],[0.6666666666666666,\"#ed7953\"],[0.7777777777777778,\"#fb9f3a\"],[0.8888888888888888,\"#fdca26\"],[1.0,\"#f0f921\"]]}],\"surface\":[{\"type\":\"surface\",\"colorbar\":{\"outlinewidth\":0,\"ticks\":\"\"},\"colorscale\":[[0.0,\"#0d0887\"],[0.1111111111111111,\"#46039f\"],[0.2222222222222222,\"#7201a8\"],[0.3333333333333333,\"#9c179e\"],[0.4444444444444444,\"#bd3786\"],[0.5555555555555556,\"#d8576b\"],[0.6666666666666666,\"#ed7953\"],[0.7777777777777778,\"#fb9f3a\"],[0.8888888888888888,\"#fdca26\"],[1.0,\"#f0f921\"]]}],\"mesh3d\":[{\"type\":\"mesh3d\",\"colorbar\":{\"outlinewidth\":0,\"ticks\":\"\"}}],\"scatter\":[{\"fillpattern\":{\"fillmode\":\"overlay\",\"size\":10,\"solidity\":0.2},\"type\":\"scatter\"}],\"parcoords\":[{\"type\":\"parcoords\",\"line\":{\"colorbar\":{\"outlinewidth\":0,\"ticks\":\"\"}}}],\"scatterpolargl\":[{\"type\":\"scatterpolargl\",\"marker\":{\"colorbar\":{\"outlinewidth\":0,\"ticks\":\"\"}}}],\"bar\":[{\"error_x\":{\"color\":\"#2a3f5f\"},\"error_y\":{\"color\":\"#2a3f5f\"},\"marker\":{\"line\":{\"color\":\"#E5ECF6\",\"width\":0.5},\"pattern\":{\"fillmode\":\"overlay\",\"size\":10,\"solidity\":0.2}},\"type\":\"bar\"}],\"scattergeo\":[{\"type\":\"scattergeo\",\"marker\":{\"colorbar\":{\"outlinewidth\":0,\"ticks\":\"\"}}}],\"scatterpolar\":[{\"type\":\"scatterpolar\",\"marker\":{\"colorbar\":{\"outlinewidth\":0,\"ticks\":\"\"}}}],\"histogram\":[{\"marker\":{\"pattern\":{\"fillmode\":\"overlay\",\"size\":10,\"solidity\":0.2}},\"type\":\"histogram\"}],\"scattergl\":[{\"type\":\"scattergl\",\"marker\":{\"colorbar\":{\"outlinewidth\":0,\"ticks\":\"\"}}}],\"scatter3d\":[{\"type\":\"scatter3d\",\"line\":{\"colorbar\":{\"outlinewidth\":0,\"ticks\":\"\"}},\"marker\":{\"colorbar\":{\"outlinewidth\":0,\"ticks\":\"\"}}}],\"scattermapbox\":[{\"type\":\"scattermapbox\",\"marker\":{\"colorbar\":{\"outlinewidth\":0,\"ticks\":\"\"}}}],\"scatterternary\":[{\"type\":\"scatterternary\",\"marker\":{\"colorbar\":{\"outlinewidth\":0,\"ticks\":\"\"}}}],\"scattercarpet\":[{\"type\":\"scattercarpet\",\"marker\":{\"colorbar\":{\"outlinewidth\":0,\"ticks\":\"\"}}}],\"carpet\":[{\"aaxis\":{\"endlinecolor\":\"#2a3f5f\",\"gridcolor\":\"white\",\"linecolor\":\"white\",\"minorgridcolor\":\"white\",\"startlinecolor\":\"#2a3f5f\"},\"baxis\":{\"endlinecolor\":\"#2a3f5f\",\"gridcolor\":\"white\",\"linecolor\":\"white\",\"minorgridcolor\":\"white\",\"startlinecolor\":\"#2a3f5f\"},\"type\":\"carpet\"}],\"table\":[{\"cells\":{\"fill\":{\"color\":\"#EBF0F8\"},\"line\":{\"color\":\"white\"}},\"header\":{\"fill\":{\"color\":\"#C8D4E3\"},\"line\":{\"color\":\"white\"}},\"type\":\"table\"}],\"barpolar\":[{\"marker\":{\"line\":{\"color\":\"#E5ECF6\",\"width\":0.5},\"pattern\":{\"fillmode\":\"overlay\",\"size\":10,\"solidity\":0.2}},\"type\":\"barpolar\"}],\"pie\":[{\"automargin\":true,\"type\":\"pie\"}]},\"layout\":{\"autotypenumbers\":\"strict\",\"colorway\":[\"#636efa\",\"#EF553B\",\"#00cc96\",\"#ab63fa\",\"#FFA15A\",\"#19d3f3\",\"#FF6692\",\"#B6E880\",\"#FF97FF\",\"#FECB52\"],\"font\":{\"color\":\"#2a3f5f\"},\"hovermode\":\"closest\",\"hoverlabel\":{\"align\":\"left\"},\"paper_bgcolor\":\"white\",\"plot_bgcolor\":\"#E5ECF6\",\"polar\":{\"bgcolor\":\"#E5ECF6\",\"angularaxis\":{\"gridcolor\":\"white\",\"linecolor\":\"white\",\"ticks\":\"\"},\"radialaxis\":{\"gridcolor\":\"white\",\"linecolor\":\"white\",\"ticks\":\"\"}},\"ternary\":{\"bgcolor\":\"#E5ECF6\",\"aaxis\":{\"gridcolor\":\"white\",\"linecolor\":\"white\",\"ticks\":\"\"},\"baxis\":{\"gridcolor\":\"white\",\"linecolor\":\"white\",\"ticks\":\"\"},\"caxis\":{\"gridcolor\":\"white\",\"linecolor\":\"white\",\"ticks\":\"\"}},\"coloraxis\":{\"colorbar\":{\"outlinewidth\":0,\"ticks\":\"\"}},\"colorscale\":{\"sequential\":[[0.0,\"#0d0887\"],[0.1111111111111111,\"#46039f\"],[0.2222222222222222,\"#7201a8\"],[0.3333333333333333,\"#9c179e\"],[0.4444444444444444,\"#bd3786\"],[0.5555555555555556,\"#d8576b\"],[0.6666666666666666,\"#ed7953\"],[0.7777777777777778,\"#fb9f3a\"],[0.8888888888888888,\"#fdca26\"],[1.0,\"#f0f921\"]],\"sequentialminus\":[[0.0,\"#0d0887\"],[0.1111111111111111,\"#46039f\"],[0.2222222222222222,\"#7201a8\"],[0.3333333333333333,\"#9c179e\"],[0.4444444444444444,\"#bd3786\"],[0.5555555555555556,\"#d8576b\"],[0.6666666666666666,\"#ed7953\"],[0.7777777777777778,\"#fb9f3a\"],[0.8888888888888888,\"#fdca26\"],[1.0,\"#f0f921\"]],\"diverging\":[[0,\"#8e0152\"],[0.1,\"#c51b7d\"],[0.2,\"#de77ae\"],[0.3,\"#f1b6da\"],[0.4,\"#fde0ef\"],[0.5,\"#f7f7f7\"],[0.6,\"#e6f5d0\"],[0.7,\"#b8e186\"],[0.8,\"#7fbc41\"],[0.9,\"#4d9221\"],[1,\"#276419\"]]},\"xaxis\":{\"gridcolor\":\"white\",\"linecolor\":\"white\",\"ticks\":\"\",\"title\":{\"standoff\":15},\"zerolinecolor\":\"white\",\"automargin\":true,\"zerolinewidth\":2},\"yaxis\":{\"gridcolor\":\"white\",\"linecolor\":\"white\",\"ticks\":\"\",\"title\":{\"standoff\":15},\"zerolinecolor\":\"white\",\"automargin\":true,\"zerolinewidth\":2},\"scene\":{\"xaxis\":{\"backgroundcolor\":\"#E5ECF6\",\"gridcolor\":\"white\",\"linecolor\":\"white\",\"showbackground\":true,\"ticks\":\"\",\"zerolinecolor\":\"white\",\"gridwidth\":2},\"yaxis\":{\"backgroundcolor\":\"#E5ECF6\",\"gridcolor\":\"white\",\"linecolor\":\"white\",\"showbackground\":true,\"ticks\":\"\",\"zerolinecolor\":\"white\",\"gridwidth\":2},\"zaxis\":{\"backgroundcolor\":\"#E5ECF6\",\"gridcolor\":\"white\",\"linecolor\":\"white\",\"showbackground\":true,\"ticks\":\"\",\"zerolinecolor\":\"white\",\"gridwidth\":2}},\"shapedefaults\":{\"line\":{\"color\":\"#2a3f5f\"}},\"annotationdefaults\":{\"arrowcolor\":\"#2a3f5f\",\"arrowhead\":0,\"arrowwidth\":1},\"geo\":{\"bgcolor\":\"white\",\"landcolor\":\"#E5ECF6\",\"subunitcolor\":\"white\",\"showland\":true,\"showlakes\":true,\"lakecolor\":\"white\"},\"title\":{\"x\":0.05},\"mapbox\":{\"style\":\"light\"}}},\"title\":{\"text\":\"Real vs. Synthetic Data for column room_rate\"},\"plot_bgcolor\":\"#F5F5F8\"},                        {\"responsive\": true}                    ).then(function(){\n",
              "                            \n",
              "var gd = document.getElementById('9b0ebeef-4f24-4454-aa89-8e9a3dfcbd9b');\n",
              "var x = new MutationObserver(function (mutations, observer) {{\n",
              "        var display = window.getComputedStyle(gd).display;\n",
              "        if (!display || display === 'none') {{\n",
              "            console.log([gd, 'removed!']);\n",
              "            Plotly.purge(gd);\n",
              "            observer.disconnect();\n",
              "        }}\n",
              "}});\n",
              "\n",
              "// Listen for the removal of the full notebook cells\n",
              "var notebookContainer = gd.closest('#notebook-container');\n",
              "if (notebookContainer) {{\n",
              "    x.observe(notebookContainer, {childList: true});\n",
              "}}\n",
              "\n",
              "// Listen for the clearing of the current output cell\n",
              "var outputEl = gd.closest('.output');\n",
              "if (outputEl) {{\n",
              "    x.observe(outputEl, {childList: true});\n",
              "}}\n",
              "\n",
              "                        })                };                            </script>        </div>\n",
              "</body>\n",
              "</html>"
            ]
          },
          "metadata": {},
          "output_type": "display_data"
        }
      ],
      "source": [
        "fig = get_column_plot(\n",
        "    real_data=real_data,\n",
        "    synthetic_data=synthetic_data_customized,\n",
        "    column_name='room_rate',\n",
        "    metadata=metadata\n",
        ")\n",
        "\n",
        "fig.show()"
      ]
    },
    {
      "cell_type": "markdown",
      "metadata": {
        "id": "bkdB26dFxt0b"
      },
      "source": [
        "# 4. Conditional Sampling\n",
        "Another benefit of using the Gaussian Copula is the ability to **efficiently sample conditions**. This allows us to simulate hypothetical scenarios.\n",
        "\n",
        "Let's start by creating a scenario where every hotel guest is staying in a `SUITE` (half with rewards and half without).\n"
      ]
    },
    {
      "cell_type": "code",
      "execution_count": null,
      "metadata": {
        "id": "IFE2-riILhZe"
      },
      "outputs": [],
      "source": [
        "from sdv.sampling import Condition\n",
        "\n",
        "suite_guests_with_rewards = Condition(\n",
        "    num_rows=250,\n",
        "    column_values={'room_type': 'SUITE', 'has_rewards': True}\n",
        ")\n",
        "\n",
        "suite_guests_without_rewards = Condition(\n",
        "    num_rows=250,\n",
        "    column_values={'room_type': 'SUITE', 'has_rewards': False}\n",
        ")"
      ]
    },
    {
      "cell_type": "markdown",
      "metadata": {
        "id": "s-hLgaUOLi9X"
      },
      "source": [
        "Now we can simulate this scenario efficiently using our trained synthesizer."
      ]
    },
    {
      "cell_type": "code",
      "execution_count": null,
      "metadata": {
        "colab": {
          "base_uri": "https://localhost:8080/"
        },
        "id": "_M4POTXRLlpG",
        "outputId": "097ee68c-5d70-44a0-9662-c3b6a24ac46a"
      },
      "outputs": [
        {
          "name": "stderr",
          "output_type": "stream",
          "text": [
            "Sampling conditions: 100%|██████████| 500/500 [00:00<00:00, 567.11it/s]\n"
          ]
        }
      ],
      "source": [
        "simulated_synthetic_data = custom_synthesizer.sample_from_conditions(conditions=[\n",
        "  suite_guests_with_rewards,\n",
        "  suite_guests_without_rewards\n",
        "])"
      ]
    },
    {
      "cell_type": "markdown",
      "metadata": {
        "id": "bkTx2u9RBU-T"
      },
      "source": [
        "We can verify this by plotting the data."
      ]
    },
    {
      "cell_type": "code",
      "execution_count": null,
      "metadata": {
        "colab": {
          "base_uri": "https://localhost:8080/",
          "height": 542
        },
        "id": "SL_rNQ7FBZMk",
        "outputId": "16b98ee6-6c85-44b5-96f2-7f2b4331c521"
      },
      "outputs": [
        {
          "data": {
            "text/html": [
              "<html>\n",
              "<head><meta charset=\"utf-8\" /></head>\n",
              "<body>\n",
              "    <div>            <script src=\"https://cdnjs.cloudflare.com/ajax/libs/mathjax/2.7.5/MathJax.js?config=TeX-AMS-MML_SVG\"></script><script type=\"text/javascript\">if (window.MathJax && window.MathJax.Hub && window.MathJax.Hub.Config) {window.MathJax.Hub.Config({SVG: {font: \"STIX-Web\"}});}</script>                <script type=\"text/javascript\">window.PlotlyConfig = {MathJaxConfig: 'local'};</script>\n",
              "        <script src=\"https://cdn.plot.ly/plotly-2.18.2.min.js\"></script>                <div id=\"a20b9d54-c988-4fa7-b573-ad9e9f4ed55c\" class=\"plotly-graph-div\" style=\"height:525px; width:100%;\"></div>            <script type=\"text/javascript\">                                    window.PLOTLYENV=window.PLOTLYENV || {};                                    if (document.getElementById(\"a20b9d54-c988-4fa7-b573-ad9e9f4ed55c\")) {                    Plotly.newPlot(                        \"a20b9d54-c988-4fa7-b573-ad9e9f4ed55c\",                        [{\"alignmentgroup\":\"True\",\"bingroup\":\"x\",\"histnorm\":\"probability density\",\"hovertemplate\":\"<b>Real</b><br>Frequency: %{y}<extra></extra>\",\"legendgroup\":\"Real\",\"marker\":{\"color\":\"#000036\",\"pattern\":{\"shape\":\"\"}},\"name\":\"Real\",\"offsetgroup\":\"Real\",\"orientation\":\"v\",\"showlegend\":true,\"x\":[\"BASIC\",\"BASIC\",\"DELUXE\",\"BASIC\",\"BASIC\",\"BASIC\",\"BASIC\",\"BASIC\",\"BASIC\",\"BASIC\",\"BASIC\",\"BASIC\",\"BASIC\",\"BASIC\",\"BASIC\",\"BASIC\",\"DELUXE\",\"BASIC\",\"DELUXE\",\"BASIC\",\"BASIC\",\"BASIC\",\"BASIC\",\"BASIC\",\"BASIC\",\"BASIC\",\"BASIC\",\"BASIC\",\"BASIC\",\"BASIC\",\"DELUXE\",\"BASIC\",\"BASIC\",\"BASIC\",\"BASIC\",\"BASIC\",\"BASIC\",\"BASIC\",\"BASIC\",\"BASIC\",\"SUITE\",\"BASIC\",\"DELUXE\",\"BASIC\",\"BASIC\",\"BASIC\",\"BASIC\",\"BASIC\",\"BASIC\",\"SUITE\",\"DELUXE\",\"BASIC\",\"BASIC\",\"DELUXE\",\"BASIC\",\"BASIC\",\"BASIC\",\"BASIC\",\"SUITE\",\"SUITE\",\"DELUXE\",\"BASIC\",\"BASIC\",\"BASIC\",\"BASIC\",\"BASIC\",\"BASIC\",\"BASIC\",\"SUITE\",\"BASIC\",\"BASIC\",\"BASIC\",\"BASIC\",\"BASIC\",\"DELUXE\",\"BASIC\",\"BASIC\",\"BASIC\",\"BASIC\",\"BASIC\",\"BASIC\",\"BASIC\",\"BASIC\",\"BASIC\",\"BASIC\",\"BASIC\",\"BASIC\",\"BASIC\",\"SUITE\",\"BASIC\",\"BASIC\",\"BASIC\",\"BASIC\",\"BASIC\",\"BASIC\",\"BASIC\",\"BASIC\",\"BASIC\",\"BASIC\",\"DELUXE\",\"BASIC\",\"BASIC\",\"DELUXE\",\"BASIC\",\"BASIC\",\"BASIC\",\"BASIC\",\"DELUXE\",\"BASIC\",\"BASIC\",\"BASIC\",\"DELUXE\",\"BASIC\",\"BASIC\",\"DELUXE\",\"DELUXE\",\"BASIC\",\"BASIC\",\"BASIC\",\"BASIC\",\"DELUXE\",\"DELUXE\",\"BASIC\",\"BASIC\",\"BASIC\",\"BASIC\",\"BASIC\",\"BASIC\",\"BASIC\",\"BASIC\",\"BASIC\",\"BASIC\",\"BASIC\",\"BASIC\",\"BASIC\",\"BASIC\",\"DELUXE\",\"SUITE\",\"BASIC\",\"BASIC\",\"BASIC\",\"BASIC\",\"SUITE\",\"BASIC\",\"SUITE\",\"BASIC\",\"BASIC\",\"BASIC\",\"BASIC\",\"SUITE\",\"BASIC\",\"BASIC\",\"BASIC\",\"BASIC\",\"BASIC\",\"BASIC\",\"BASIC\",\"BASIC\",\"BASIC\",\"BASIC\",\"DELUXE\",\"BASIC\",\"BASIC\",\"BASIC\",\"BASIC\",\"SUITE\",\"DELUXE\",\"BASIC\",\"BASIC\",\"BASIC\",\"BASIC\",\"BASIC\",\"BASIC\",\"BASIC\",\"BASIC\",\"BASIC\",\"BASIC\",\"BASIC\",\"DELUXE\",\"SUITE\",\"BASIC\",\"BASIC\",\"BASIC\",\"SUITE\",\"BASIC\",\"DELUXE\",\"BASIC\",\"BASIC\",\"BASIC\",\"BASIC\",\"DELUXE\",\"BASIC\",\"BASIC\",\"BASIC\",\"BASIC\",\"BASIC\",\"SUITE\",\"BASIC\",\"DELUXE\",\"BASIC\",\"BASIC\",\"BASIC\",\"BASIC\",\"BASIC\",\"BASIC\",\"BASIC\",\"DELUXE\",\"BASIC\",\"DELUXE\",\"DELUXE\",\"DELUXE\",\"DELUXE\",\"BASIC\",\"BASIC\",\"BASIC\",\"DELUXE\",\"SUITE\",\"BASIC\",\"BASIC\",\"SUITE\",\"DELUXE\",\"BASIC\",\"BASIC\",\"DELUXE\",\"BASIC\",\"BASIC\",\"BASIC\",\"BASIC\",\"DELUXE\",\"BASIC\",\"BASIC\",\"BASIC\",\"BASIC\",\"BASIC\",\"BASIC\",\"BASIC\",\"SUITE\",\"BASIC\",\"BASIC\",\"DELUXE\",\"BASIC\",\"BASIC\",\"BASIC\",\"BASIC\",\"BASIC\",\"BASIC\",\"SUITE\",\"BASIC\",\"BASIC\",\"BASIC\",\"BASIC\",\"DELUXE\",\"BASIC\",\"BASIC\",\"BASIC\",\"BASIC\",\"BASIC\",\"BASIC\",\"BASIC\",\"BASIC\",\"BASIC\",\"BASIC\",\"BASIC\",\"BASIC\",\"BASIC\",\"BASIC\",\"DELUXE\",\"SUITE\",\"BASIC\",\"BASIC\",\"BASIC\",\"BASIC\",\"BASIC\",\"BASIC\",\"BASIC\",\"DELUXE\",\"BASIC\",\"SUITE\",\"SUITE\",\"DELUXE\",\"BASIC\",\"BASIC\",\"DELUXE\",\"SUITE\",\"DELUXE\",\"BASIC\",\"BASIC\",\"BASIC\",\"BASIC\",\"BASIC\",\"DELUXE\",\"DELUXE\",\"BASIC\",\"BASIC\",\"BASIC\",\"BASIC\",\"BASIC\",\"DELUXE\",\"BASIC\",\"DELUXE\",\"BASIC\",\"BASIC\",\"BASIC\",\"BASIC\",\"DELUXE\",\"BASIC\",\"BASIC\",\"BASIC\",\"BASIC\",\"DELUXE\",\"DELUXE\",\"BASIC\",\"SUITE\",\"BASIC\",\"BASIC\",\"BASIC\",\"BASIC\",\"SUITE\",\"BASIC\",\"BASIC\",\"BASIC\",\"BASIC\",\"DELUXE\",\"BASIC\",\"BASIC\",\"BASIC\",\"BASIC\",\"BASIC\",\"BASIC\",\"BASIC\",\"BASIC\",\"BASIC\",\"BASIC\",\"BASIC\",\"BASIC\",\"SUITE\",\"BASIC\",\"BASIC\",\"BASIC\",\"BASIC\",\"BASIC\",\"BASIC\",\"BASIC\",\"BASIC\",\"DELUXE\",\"BASIC\",\"BASIC\",\"DELUXE\",\"BASIC\",\"DELUXE\",\"BASIC\",\"BASIC\",\"DELUXE\",\"DELUXE\",\"DELUXE\",\"SUITE\",\"BASIC\",\"BASIC\",\"DELUXE\",\"BASIC\",\"BASIC\",\"BASIC\",\"BASIC\",\"BASIC\",\"BASIC\",\"BASIC\",\"BASIC\",\"BASIC\",\"BASIC\",\"BASIC\",\"BASIC\",\"BASIC\",\"DELUXE\",\"DELUXE\",\"BASIC\",\"BASIC\",\"BASIC\",\"BASIC\",\"BASIC\",\"DELUXE\",\"BASIC\",\"BASIC\",\"BASIC\",\"SUITE\",\"BASIC\",\"BASIC\",\"BASIC\",\"BASIC\",\"BASIC\",\"DELUXE\",\"BASIC\",\"BASIC\",\"BASIC\",\"BASIC\",\"BASIC\",\"BASIC\",\"DELUXE\",\"BASIC\",\"BASIC\",\"BASIC\",\"BASIC\",\"BASIC\",\"DELUXE\",\"BASIC\",\"BASIC\",\"BASIC\",\"BASIC\",\"DELUXE\",\"DELUXE\",\"DELUXE\",\"BASIC\",\"BASIC\",\"BASIC\",\"BASIC\",\"BASIC\",\"BASIC\",\"BASIC\",\"DELUXE\",\"BASIC\",\"DELUXE\",\"BASIC\",\"SUITE\",\"DELUXE\",\"SUITE\",\"BASIC\",\"BASIC\",\"SUITE\",\"DELUXE\",\"BASIC\",\"SUITE\",\"BASIC\",\"BASIC\",\"BASIC\",\"DELUXE\",\"BASIC\",\"BASIC\",\"SUITE\",\"DELUXE\",\"BASIC\",\"BASIC\",\"BASIC\",\"SUITE\",\"BASIC\",\"DELUXE\",\"BASIC\",\"BASIC\",\"BASIC\",\"BASIC\",\"BASIC\",\"BASIC\",\"BASIC\",\"BASIC\",\"BASIC\",\"SUITE\",\"BASIC\",\"BASIC\",\"BASIC\",\"BASIC\",\"BASIC\",\"DELUXE\",\"BASIC\",\"DELUXE\",\"BASIC\",\"DELUXE\",\"BASIC\",\"DELUXE\",\"SUITE\",\"BASIC\",\"BASIC\",\"BASIC\",\"BASIC\",\"BASIC\",\"BASIC\",\"DELUXE\",\"BASIC\",\"SUITE\",\"BASIC\",\"BASIC\",\"SUITE\",\"SUITE\",\"BASIC\",\"BASIC\",\"BASIC\",\"BASIC\",\"BASIC\",\"BASIC\",\"BASIC\",\"DELUXE\",\"BASIC\",\"BASIC\",\"BASIC\",\"BASIC\",\"DELUXE\",\"BASIC\",\"BASIC\",\"BASIC\",\"BASIC\",\"BASIC\",\"BASIC\",\"BASIC\"],\"xaxis\":\"x\",\"yaxis\":\"y\",\"type\":\"histogram\"},{\"alignmentgroup\":\"True\",\"bingroup\":\"x\",\"histnorm\":\"probability density\",\"hovertemplate\":\"<b>Synthetic</b><br>Frequency: %{y}<extra></extra>\",\"legendgroup\":\"Synthetic\",\"marker\":{\"color\":\"#01E0C9\",\"pattern\":{\"shape\":\"/\"}},\"name\":\"Synthetic\",\"offsetgroup\":\"Synthetic\",\"orientation\":\"v\",\"showlegend\":true,\"x\":[\"SUITE\",\"SUITE\",\"SUITE\",\"SUITE\",\"SUITE\",\"SUITE\",\"SUITE\",\"SUITE\",\"SUITE\",\"SUITE\",\"SUITE\",\"SUITE\",\"SUITE\",\"SUITE\",\"SUITE\",\"SUITE\",\"SUITE\",\"SUITE\",\"SUITE\",\"SUITE\",\"SUITE\",\"SUITE\",\"SUITE\",\"SUITE\",\"SUITE\",\"SUITE\",\"SUITE\",\"SUITE\",\"SUITE\",\"SUITE\",\"SUITE\",\"SUITE\",\"SUITE\",\"SUITE\",\"SUITE\",\"SUITE\",\"SUITE\",\"SUITE\",\"SUITE\",\"SUITE\",\"SUITE\",\"SUITE\",\"SUITE\",\"SUITE\",\"SUITE\",\"SUITE\",\"SUITE\",\"SUITE\",\"SUITE\",\"SUITE\",\"SUITE\",\"SUITE\",\"SUITE\",\"SUITE\",\"SUITE\",\"SUITE\",\"SUITE\",\"SUITE\",\"SUITE\",\"SUITE\",\"SUITE\",\"SUITE\",\"SUITE\",\"SUITE\",\"SUITE\",\"SUITE\",\"SUITE\",\"SUITE\",\"SUITE\",\"SUITE\",\"SUITE\",\"SUITE\",\"SUITE\",\"SUITE\",\"SUITE\",\"SUITE\",\"SUITE\",\"SUITE\",\"SUITE\",\"SUITE\",\"SUITE\",\"SUITE\",\"SUITE\",\"SUITE\",\"SUITE\",\"SUITE\",\"SUITE\",\"SUITE\",\"SUITE\",\"SUITE\",\"SUITE\",\"SUITE\",\"SUITE\",\"SUITE\",\"SUITE\",\"SUITE\",\"SUITE\",\"SUITE\",\"SUITE\",\"SUITE\",\"SUITE\",\"SUITE\",\"SUITE\",\"SUITE\",\"SUITE\",\"SUITE\",\"SUITE\",\"SUITE\",\"SUITE\",\"SUITE\",\"SUITE\",\"SUITE\",\"SUITE\",\"SUITE\",\"SUITE\",\"SUITE\",\"SUITE\",\"SUITE\",\"SUITE\",\"SUITE\",\"SUITE\",\"SUITE\",\"SUITE\",\"SUITE\",\"SUITE\",\"SUITE\",\"SUITE\",\"SUITE\",\"SUITE\",\"SUITE\",\"SUITE\",\"SUITE\",\"SUITE\",\"SUITE\",\"SUITE\",\"SUITE\",\"SUITE\",\"SUITE\",\"SUITE\",\"SUITE\",\"SUITE\",\"SUITE\",\"SUITE\",\"SUITE\",\"SUITE\",\"SUITE\",\"SUITE\",\"SUITE\",\"SUITE\",\"SUITE\",\"SUITE\",\"SUITE\",\"SUITE\",\"SUITE\",\"SUITE\",\"SUITE\",\"SUITE\",\"SUITE\",\"SUITE\",\"SUITE\",\"SUITE\",\"SUITE\",\"SUITE\",\"SUITE\",\"SUITE\",\"SUITE\",\"SUITE\",\"SUITE\",\"SUITE\",\"SUITE\",\"SUITE\",\"SUITE\",\"SUITE\",\"SUITE\",\"SUITE\",\"SUITE\",\"SUITE\",\"SUITE\",\"SUITE\",\"SUITE\",\"SUITE\",\"SUITE\",\"SUITE\",\"SUITE\",\"SUITE\",\"SUITE\",\"SUITE\",\"SUITE\",\"SUITE\",\"SUITE\",\"SUITE\",\"SUITE\",\"SUITE\",\"SUITE\",\"SUITE\",\"SUITE\",\"SUITE\",\"SUITE\",\"SUITE\",\"SUITE\",\"SUITE\",\"SUITE\",\"SUITE\",\"SUITE\",\"SUITE\",\"SUITE\",\"SUITE\",\"SUITE\",\"SUITE\",\"SUITE\",\"SUITE\",\"SUITE\",\"SUITE\",\"SUITE\",\"SUITE\",\"SUITE\",\"SUITE\",\"SUITE\",\"SUITE\",\"SUITE\",\"SUITE\",\"SUITE\",\"SUITE\",\"SUITE\",\"SUITE\",\"SUITE\",\"SUITE\",\"SUITE\",\"SUITE\",\"SUITE\",\"SUITE\",\"SUITE\",\"SUITE\",\"SUITE\",\"SUITE\",\"SUITE\",\"SUITE\",\"SUITE\",\"SUITE\",\"SUITE\",\"SUITE\",\"SUITE\",\"SUITE\",\"SUITE\",\"SUITE\",\"SUITE\",\"SUITE\",\"SUITE\",\"SUITE\",\"SUITE\",\"SUITE\",\"SUITE\",\"SUITE\",\"SUITE\",\"SUITE\",\"SUITE\",\"SUITE\",\"SUITE\",\"SUITE\",\"SUITE\",\"SUITE\",\"SUITE\",\"SUITE\",\"SUITE\",\"SUITE\",\"SUITE\",\"SUITE\",\"SUITE\",\"SUITE\",\"SUITE\",\"SUITE\",\"SUITE\",\"SUITE\",\"SUITE\",\"SUITE\",\"SUITE\",\"SUITE\",\"SUITE\",\"SUITE\",\"SUITE\",\"SUITE\",\"SUITE\",\"SUITE\",\"SUITE\",\"SUITE\",\"SUITE\",\"SUITE\",\"SUITE\",\"SUITE\",\"SUITE\",\"SUITE\",\"SUITE\",\"SUITE\",\"SUITE\",\"SUITE\",\"SUITE\",\"SUITE\",\"SUITE\",\"SUITE\",\"SUITE\",\"SUITE\",\"SUITE\",\"SUITE\",\"SUITE\",\"SUITE\",\"SUITE\",\"SUITE\",\"SUITE\",\"SUITE\",\"SUITE\",\"SUITE\",\"SUITE\",\"SUITE\",\"SUITE\",\"SUITE\",\"SUITE\",\"SUITE\",\"SUITE\",\"SUITE\",\"SUITE\",\"SUITE\",\"SUITE\",\"SUITE\",\"SUITE\",\"SUITE\",\"SUITE\",\"SUITE\",\"SUITE\",\"SUITE\",\"SUITE\",\"SUITE\",\"SUITE\",\"SUITE\",\"SUITE\",\"SUITE\",\"SUITE\",\"SUITE\",\"SUITE\",\"SUITE\",\"SUITE\",\"SUITE\",\"SUITE\",\"SUITE\",\"SUITE\",\"SUITE\",\"SUITE\",\"SUITE\",\"SUITE\",\"SUITE\",\"SUITE\",\"SUITE\",\"SUITE\",\"SUITE\",\"SUITE\",\"SUITE\",\"SUITE\",\"SUITE\",\"SUITE\",\"SUITE\",\"SUITE\",\"SUITE\",\"SUITE\",\"SUITE\",\"SUITE\",\"SUITE\",\"SUITE\",\"SUITE\",\"SUITE\",\"SUITE\",\"SUITE\",\"SUITE\",\"SUITE\",\"SUITE\",\"SUITE\",\"SUITE\",\"SUITE\",\"SUITE\",\"SUITE\",\"SUITE\",\"SUITE\",\"SUITE\",\"SUITE\",\"SUITE\",\"SUITE\",\"SUITE\",\"SUITE\",\"SUITE\",\"SUITE\",\"SUITE\",\"SUITE\",\"SUITE\",\"SUITE\",\"SUITE\",\"SUITE\",\"SUITE\",\"SUITE\",\"SUITE\",\"SUITE\",\"SUITE\",\"SUITE\",\"SUITE\",\"SUITE\",\"SUITE\",\"SUITE\",\"SUITE\",\"SUITE\",\"SUITE\",\"SUITE\",\"SUITE\",\"SUITE\",\"SUITE\",\"SUITE\",\"SUITE\",\"SUITE\",\"SUITE\",\"SUITE\",\"SUITE\",\"SUITE\",\"SUITE\",\"SUITE\",\"SUITE\",\"SUITE\",\"SUITE\",\"SUITE\",\"SUITE\",\"SUITE\",\"SUITE\",\"SUITE\",\"SUITE\",\"SUITE\",\"SUITE\",\"SUITE\",\"SUITE\",\"SUITE\",\"SUITE\",\"SUITE\",\"SUITE\",\"SUITE\",\"SUITE\",\"SUITE\",\"SUITE\",\"SUITE\",\"SUITE\",\"SUITE\",\"SUITE\",\"SUITE\",\"SUITE\",\"SUITE\",\"SUITE\",\"SUITE\",\"SUITE\",\"SUITE\",\"SUITE\",\"SUITE\",\"SUITE\",\"SUITE\",\"SUITE\",\"SUITE\",\"SUITE\",\"SUITE\",\"SUITE\",\"SUITE\",\"SUITE\",\"SUITE\",\"SUITE\",\"SUITE\",\"SUITE\",\"SUITE\",\"SUITE\",\"SUITE\",\"SUITE\",\"SUITE\",\"SUITE\",\"SUITE\",\"SUITE\",\"SUITE\",\"SUITE\",\"SUITE\",\"SUITE\",\"SUITE\",\"SUITE\",\"SUITE\",\"SUITE\",\"SUITE\",\"SUITE\",\"SUITE\",\"SUITE\",\"SUITE\",\"SUITE\",\"SUITE\",\"SUITE\",\"SUITE\",\"SUITE\",\"SUITE\",\"SUITE\",\"SUITE\",\"SUITE\",\"SUITE\",\"SUITE\",\"SUITE\"],\"xaxis\":\"x\",\"yaxis\":\"y\",\"type\":\"histogram\"}],                        {\"template\":{\"data\":{\"histogram2dcontour\":[{\"type\":\"histogram2dcontour\",\"colorbar\":{\"outlinewidth\":0,\"ticks\":\"\"},\"colorscale\":[[0.0,\"#0d0887\"],[0.1111111111111111,\"#46039f\"],[0.2222222222222222,\"#7201a8\"],[0.3333333333333333,\"#9c179e\"],[0.4444444444444444,\"#bd3786\"],[0.5555555555555556,\"#d8576b\"],[0.6666666666666666,\"#ed7953\"],[0.7777777777777778,\"#fb9f3a\"],[0.8888888888888888,\"#fdca26\"],[1.0,\"#f0f921\"]]}],\"choropleth\":[{\"type\":\"choropleth\",\"colorbar\":{\"outlinewidth\":0,\"ticks\":\"\"}}],\"histogram2d\":[{\"type\":\"histogram2d\",\"colorbar\":{\"outlinewidth\":0,\"ticks\":\"\"},\"colorscale\":[[0.0,\"#0d0887\"],[0.1111111111111111,\"#46039f\"],[0.2222222222222222,\"#7201a8\"],[0.3333333333333333,\"#9c179e\"],[0.4444444444444444,\"#bd3786\"],[0.5555555555555556,\"#d8576b\"],[0.6666666666666666,\"#ed7953\"],[0.7777777777777778,\"#fb9f3a\"],[0.8888888888888888,\"#fdca26\"],[1.0,\"#f0f921\"]]}],\"heatmap\":[{\"type\":\"heatmap\",\"colorbar\":{\"outlinewidth\":0,\"ticks\":\"\"},\"colorscale\":[[0.0,\"#0d0887\"],[0.1111111111111111,\"#46039f\"],[0.2222222222222222,\"#7201a8\"],[0.3333333333333333,\"#9c179e\"],[0.4444444444444444,\"#bd3786\"],[0.5555555555555556,\"#d8576b\"],[0.6666666666666666,\"#ed7953\"],[0.7777777777777778,\"#fb9f3a\"],[0.8888888888888888,\"#fdca26\"],[1.0,\"#f0f921\"]]}],\"heatmapgl\":[{\"type\":\"heatmapgl\",\"colorbar\":{\"outlinewidth\":0,\"ticks\":\"\"},\"colorscale\":[[0.0,\"#0d0887\"],[0.1111111111111111,\"#46039f\"],[0.2222222222222222,\"#7201a8\"],[0.3333333333333333,\"#9c179e\"],[0.4444444444444444,\"#bd3786\"],[0.5555555555555556,\"#d8576b\"],[0.6666666666666666,\"#ed7953\"],[0.7777777777777778,\"#fb9f3a\"],[0.8888888888888888,\"#fdca26\"],[1.0,\"#f0f921\"]]}],\"contourcarpet\":[{\"type\":\"contourcarpet\",\"colorbar\":{\"outlinewidth\":0,\"ticks\":\"\"}}],\"contour\":[{\"type\":\"contour\",\"colorbar\":{\"outlinewidth\":0,\"ticks\":\"\"},\"colorscale\":[[0.0,\"#0d0887\"],[0.1111111111111111,\"#46039f\"],[0.2222222222222222,\"#7201a8\"],[0.3333333333333333,\"#9c179e\"],[0.4444444444444444,\"#bd3786\"],[0.5555555555555556,\"#d8576b\"],[0.6666666666666666,\"#ed7953\"],[0.7777777777777778,\"#fb9f3a\"],[0.8888888888888888,\"#fdca26\"],[1.0,\"#f0f921\"]]}],\"surface\":[{\"type\":\"surface\",\"colorbar\":{\"outlinewidth\":0,\"ticks\":\"\"},\"colorscale\":[[0.0,\"#0d0887\"],[0.1111111111111111,\"#46039f\"],[0.2222222222222222,\"#7201a8\"],[0.3333333333333333,\"#9c179e\"],[0.4444444444444444,\"#bd3786\"],[0.5555555555555556,\"#d8576b\"],[0.6666666666666666,\"#ed7953\"],[0.7777777777777778,\"#fb9f3a\"],[0.8888888888888888,\"#fdca26\"],[1.0,\"#f0f921\"]]}],\"mesh3d\":[{\"type\":\"mesh3d\",\"colorbar\":{\"outlinewidth\":0,\"ticks\":\"\"}}],\"scatter\":[{\"fillpattern\":{\"fillmode\":\"overlay\",\"size\":10,\"solidity\":0.2},\"type\":\"scatter\"}],\"parcoords\":[{\"type\":\"parcoords\",\"line\":{\"colorbar\":{\"outlinewidth\":0,\"ticks\":\"\"}}}],\"scatterpolargl\":[{\"type\":\"scatterpolargl\",\"marker\":{\"colorbar\":{\"outlinewidth\":0,\"ticks\":\"\"}}}],\"bar\":[{\"error_x\":{\"color\":\"#2a3f5f\"},\"error_y\":{\"color\":\"#2a3f5f\"},\"marker\":{\"line\":{\"color\":\"#E5ECF6\",\"width\":0.5},\"pattern\":{\"fillmode\":\"overlay\",\"size\":10,\"solidity\":0.2}},\"type\":\"bar\"}],\"scattergeo\":[{\"type\":\"scattergeo\",\"marker\":{\"colorbar\":{\"outlinewidth\":0,\"ticks\":\"\"}}}],\"scatterpolar\":[{\"type\":\"scatterpolar\",\"marker\":{\"colorbar\":{\"outlinewidth\":0,\"ticks\":\"\"}}}],\"histogram\":[{\"marker\":{\"pattern\":{\"fillmode\":\"overlay\",\"size\":10,\"solidity\":0.2}},\"type\":\"histogram\"}],\"scattergl\":[{\"type\":\"scattergl\",\"marker\":{\"colorbar\":{\"outlinewidth\":0,\"ticks\":\"\"}}}],\"scatter3d\":[{\"type\":\"scatter3d\",\"line\":{\"colorbar\":{\"outlinewidth\":0,\"ticks\":\"\"}},\"marker\":{\"colorbar\":{\"outlinewidth\":0,\"ticks\":\"\"}}}],\"scattermapbox\":[{\"type\":\"scattermapbox\",\"marker\":{\"colorbar\":{\"outlinewidth\":0,\"ticks\":\"\"}}}],\"scatterternary\":[{\"type\":\"scatterternary\",\"marker\":{\"colorbar\":{\"outlinewidth\":0,\"ticks\":\"\"}}}],\"scattercarpet\":[{\"type\":\"scattercarpet\",\"marker\":{\"colorbar\":{\"outlinewidth\":0,\"ticks\":\"\"}}}],\"carpet\":[{\"aaxis\":{\"endlinecolor\":\"#2a3f5f\",\"gridcolor\":\"white\",\"linecolor\":\"white\",\"minorgridcolor\":\"white\",\"startlinecolor\":\"#2a3f5f\"},\"baxis\":{\"endlinecolor\":\"#2a3f5f\",\"gridcolor\":\"white\",\"linecolor\":\"white\",\"minorgridcolor\":\"white\",\"startlinecolor\":\"#2a3f5f\"},\"type\":\"carpet\"}],\"table\":[{\"cells\":{\"fill\":{\"color\":\"#EBF0F8\"},\"line\":{\"color\":\"white\"}},\"header\":{\"fill\":{\"color\":\"#C8D4E3\"},\"line\":{\"color\":\"white\"}},\"type\":\"table\"}],\"barpolar\":[{\"marker\":{\"line\":{\"color\":\"#E5ECF6\",\"width\":0.5},\"pattern\":{\"fillmode\":\"overlay\",\"size\":10,\"solidity\":0.2}},\"type\":\"barpolar\"}],\"pie\":[{\"automargin\":true,\"type\":\"pie\"}]},\"layout\":{\"autotypenumbers\":\"strict\",\"colorway\":[\"#636efa\",\"#EF553B\",\"#00cc96\",\"#ab63fa\",\"#FFA15A\",\"#19d3f3\",\"#FF6692\",\"#B6E880\",\"#FF97FF\",\"#FECB52\"],\"font\":{\"color\":\"#2a3f5f\"},\"hovermode\":\"closest\",\"hoverlabel\":{\"align\":\"left\"},\"paper_bgcolor\":\"white\",\"plot_bgcolor\":\"#E5ECF6\",\"polar\":{\"bgcolor\":\"#E5ECF6\",\"angularaxis\":{\"gridcolor\":\"white\",\"linecolor\":\"white\",\"ticks\":\"\"},\"radialaxis\":{\"gridcolor\":\"white\",\"linecolor\":\"white\",\"ticks\":\"\"}},\"ternary\":{\"bgcolor\":\"#E5ECF6\",\"aaxis\":{\"gridcolor\":\"white\",\"linecolor\":\"white\",\"ticks\":\"\"},\"baxis\":{\"gridcolor\":\"white\",\"linecolor\":\"white\",\"ticks\":\"\"},\"caxis\":{\"gridcolor\":\"white\",\"linecolor\":\"white\",\"ticks\":\"\"}},\"coloraxis\":{\"colorbar\":{\"outlinewidth\":0,\"ticks\":\"\"}},\"colorscale\":{\"sequential\":[[0.0,\"#0d0887\"],[0.1111111111111111,\"#46039f\"],[0.2222222222222222,\"#7201a8\"],[0.3333333333333333,\"#9c179e\"],[0.4444444444444444,\"#bd3786\"],[0.5555555555555556,\"#d8576b\"],[0.6666666666666666,\"#ed7953\"],[0.7777777777777778,\"#fb9f3a\"],[0.8888888888888888,\"#fdca26\"],[1.0,\"#f0f921\"]],\"sequentialminus\":[[0.0,\"#0d0887\"],[0.1111111111111111,\"#46039f\"],[0.2222222222222222,\"#7201a8\"],[0.3333333333333333,\"#9c179e\"],[0.4444444444444444,\"#bd3786\"],[0.5555555555555556,\"#d8576b\"],[0.6666666666666666,\"#ed7953\"],[0.7777777777777778,\"#fb9f3a\"],[0.8888888888888888,\"#fdca26\"],[1.0,\"#f0f921\"]],\"diverging\":[[0,\"#8e0152\"],[0.1,\"#c51b7d\"],[0.2,\"#de77ae\"],[0.3,\"#f1b6da\"],[0.4,\"#fde0ef\"],[0.5,\"#f7f7f7\"],[0.6,\"#e6f5d0\"],[0.7,\"#b8e186\"],[0.8,\"#7fbc41\"],[0.9,\"#4d9221\"],[1,\"#276419\"]]},\"xaxis\":{\"gridcolor\":\"white\",\"linecolor\":\"white\",\"ticks\":\"\",\"title\":{\"standoff\":15},\"zerolinecolor\":\"white\",\"automargin\":true,\"zerolinewidth\":2},\"yaxis\":{\"gridcolor\":\"white\",\"linecolor\":\"white\",\"ticks\":\"\",\"title\":{\"standoff\":15},\"zerolinecolor\":\"white\",\"automargin\":true,\"zerolinewidth\":2},\"scene\":{\"xaxis\":{\"backgroundcolor\":\"#E5ECF6\",\"gridcolor\":\"white\",\"linecolor\":\"white\",\"showbackground\":true,\"ticks\":\"\",\"zerolinecolor\":\"white\",\"gridwidth\":2},\"yaxis\":{\"backgroundcolor\":\"#E5ECF6\",\"gridcolor\":\"white\",\"linecolor\":\"white\",\"showbackground\":true,\"ticks\":\"\",\"zerolinecolor\":\"white\",\"gridwidth\":2},\"zaxis\":{\"backgroundcolor\":\"#E5ECF6\",\"gridcolor\":\"white\",\"linecolor\":\"white\",\"showbackground\":true,\"ticks\":\"\",\"zerolinecolor\":\"white\",\"gridwidth\":2}},\"shapedefaults\":{\"line\":{\"color\":\"#2a3f5f\"}},\"annotationdefaults\":{\"arrowcolor\":\"#2a3f5f\",\"arrowhead\":0,\"arrowwidth\":1},\"geo\":{\"bgcolor\":\"white\",\"landcolor\":\"#E5ECF6\",\"subunitcolor\":\"white\",\"showland\":true,\"showlakes\":true,\"lakecolor\":\"white\"},\"title\":{\"x\":0.05},\"mapbox\":{\"style\":\"light\"}}},\"xaxis\":{\"anchor\":\"y\",\"domain\":[0.0,1.0],\"title\":{\"text\":\"Category\"}},\"yaxis\":{\"anchor\":\"x\",\"domain\":[0.0,1.0],\"title\":{\"text\":\"Frequency\"}},\"legend\":{\"title\":{\"text\":\"Data\"},\"tracegroupgap\":0},\"margin\":{\"t\":60},\"barmode\":\"group\",\"title\":{\"text\":\"Using synthetic data to simulate room_type scenario\"},\"plot_bgcolor\":\"#F5F5F8\"},                        {\"responsive\": true}                    ).then(function(){\n",
              "                            \n",
              "var gd = document.getElementById('a20b9d54-c988-4fa7-b573-ad9e9f4ed55c');\n",
              "var x = new MutationObserver(function (mutations, observer) {{\n",
              "        var display = window.getComputedStyle(gd).display;\n",
              "        if (!display || display === 'none') {{\n",
              "            console.log([gd, 'removed!']);\n",
              "            Plotly.purge(gd);\n",
              "            observer.disconnect();\n",
              "        }}\n",
              "}});\n",
              "\n",
              "// Listen for the removal of the full notebook cells\n",
              "var notebookContainer = gd.closest('#notebook-container');\n",
              "if (notebookContainer) {{\n",
              "    x.observe(notebookContainer, {childList: true});\n",
              "}}\n",
              "\n",
              "// Listen for the clearing of the current output cell\n",
              "var outputEl = gd.closest('.output');\n",
              "if (outputEl) {{\n",
              "    x.observe(outputEl, {childList: true});\n",
              "}}\n",
              "\n",
              "                        })                };                            </script>        </div>\n",
              "</body>\n",
              "</html>"
            ]
          },
          "metadata": {},
          "output_type": "display_data"
        }
      ],
      "source": [
        "fig = get_column_plot(\n",
        "    real_data=real_data,\n",
        "    synthetic_data=simulated_synthetic_data,\n",
        "    column_name='room_type',\n",
        "    metadata=metadata\n",
        ")\n",
        "\n",
        "fig.update_layout(\n",
        "    title='Using synthetic data to simulate room_type scenario'\n",
        ")\n",
        "\n",
        "fig.show()"
      ]
    },
    {
      "cell_type": "markdown",
      "metadata": {
        "id": "_kucmzKUNFXg"
      },
      "source": [
        "# 5. What's Next?\n",
        "\n",
        "For more information about the Gaussian Copula Synthesizer, visit the **[documentation](https://docs.sdv.dev/sdv/single-table-data/modeling/synthesizers/gaussiancopulasynthesizer)**.\n",
        "\n",
        "**Need more help?** [Browse all tutorials](https://docs.sdv.dev/sdv/demos).\n"
      ]
    },
    {
      "cell_type": "markdown",
      "metadata": {
        "id": "I5ohvfpTjRJF"
      },
      "source": [
        "---\n",
        "\n",
        "# About\n",
        "\n",
        "The [Synthetic Data Vault Project](https://github.com/sdv-dev/SDV) was first created at MIT's Data to AI Lab in 2016. After 4 years of research and traction with enterprise, we created [DataCebo](https://datacebo.com/) in 2020 with the goal of growing the project. Today, DataCebo is the proud developer of SDV, the largest ecosystem for tabular synthetic data generation & evaluation.\n",
        "\n",
        "\n"
      ]
    },
    {
      "cell_type": "markdown",
      "metadata": {
        "id": "_6UzuU3ykVtv"
      },
      "source": [
        "![datacebo-banner-linkedin-03-22-21.png](data:image/png;base64,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)"
      ]
    }
  ],
  "metadata": {
    "colab": {
      "provenance": []
    },
    "kernelspec": {
      "display_name": "Python 3",
      "name": "python3"
    },
    "language_info": {
      "name": "python"
    }
  },
  "nbformat": 4,
  "nbformat_minor": 0
}